{
 "cells": [
  {
   "cell_type": "code",
   "execution_count": 40,
   "metadata": {},
   "outputs": [],
   "source": [
    "import pandas as pd\n",
    "import matplotlib.pyplot as plt\n",
    "import hvplot.pandas\n",
    "import plotly.express as px\n",
    "from pathlib import Path\n",
    "from dotenv import load_dotenv\n",
    "import os\n",
    "import calendar"
   ]
  },
  {
   "cell_type": "code",
   "execution_count": 41,
   "metadata": {},
   "outputs": [],
   "source": [
    "csv_path = Path(\"seattle-neighborhoods.csv\")\n",
    "df = pd.read_csv(csv_path)"
   ]
  },
  {
   "cell_type": "code",
   "execution_count": 42,
   "metadata": {},
   "outputs": [
    {
     "output_type": "execute_result",
     "data": {
      "text/plain": [
       "        Region Month of Period End Median Sale Price Median Sale Price MoM   \\\n",
       "0  Seattle, WA       February 2012             $320K                   6.7%   \n",
       "1  Seattle, WA          March 2012             $350K                   9.4%   \n",
       "2  Seattle, WA          April 2012             $379K                   8.3%   \n",
       "3  Seattle, WA            May 2012             $380K                   0.3%   \n",
       "4  Seattle, WA           June 2012             $380K                   0.0%   \n",
       "\n",
       "  Median Sale Price YoY  Homes Sold Homes Sold MoM  Homes Sold YoY   \\\n",
       "0                  -5.9%        495           11.7%           14.6%   \n",
       "1                   0.0%        670           35.4%            0.8%   \n",
       "2                   7.2%        778           16.1%           14.1%   \n",
       "3                   9.4%        890           14.4%           28.6%   \n",
       "4                   8.1%        927            4.2%           13.6%   \n",
       "\n",
       "  New Listings New Listings MoM  New Listings YoY  Inventory Inventory MoM   \\\n",
       "0          779             21.3%            -11.5%     1,928          -4.8%   \n",
       "1          998             28.1%             -5.9%     1,930           0.1%   \n",
       "2        1,037              3.9%             -7.9%     1,944           0.7%   \n",
       "3        1,077              3.9%              4.9%     1,952           0.4%   \n",
       "4        1,014             -5.8%             -6.2%     1,969           0.9%   \n",
       "\n",
       "   Inventory YoY   Days on Market  Days on Market MoM  Days on Market YoY  \\\n",
       "0          -33.9%            62.0                 2.0               -12.0   \n",
       "1          -34.7%            40.0               -22.0               -26.0   \n",
       "2          -36.9%            30.0               -10.0               -13.0   \n",
       "3          -36.7%            19.0               -11.0               -15.0   \n",
       "4          -38.4%            17.0                -2.0               -20.0   \n",
       "\n",
       "  Average Sale To List Average Sale To List MoM  Average Sale To List YoY   \n",
       "0                97.2%                      0.3%                      0.8%  \n",
       "1                98.1%                      0.9%                      1.3%  \n",
       "2                98.5%                      0.4%                      1.2%  \n",
       "3                99.2%                      0.7%                      1.9%  \n",
       "4                99.3%                      0.1%                      2.0%  "
      ],
      "text/html": "<div>\n<style scoped>\n    .dataframe tbody tr th:only-of-type {\n        vertical-align: middle;\n    }\n\n    .dataframe tbody tr th {\n        vertical-align: top;\n    }\n\n    .dataframe thead th {\n        text-align: right;\n    }\n</style>\n<table border=\"1\" class=\"dataframe\">\n  <thead>\n    <tr style=\"text-align: right;\">\n      <th></th>\n      <th>Region</th>\n      <th>Month of Period End</th>\n      <th>Median Sale Price</th>\n      <th>Median Sale Price MoM</th>\n      <th>Median Sale Price YoY</th>\n      <th>Homes Sold</th>\n      <th>Homes Sold MoM</th>\n      <th>Homes Sold YoY</th>\n      <th>New Listings</th>\n      <th>New Listings MoM</th>\n      <th>New Listings YoY</th>\n      <th>Inventory</th>\n      <th>Inventory MoM</th>\n      <th>Inventory YoY</th>\n      <th>Days on Market</th>\n      <th>Days on Market MoM</th>\n      <th>Days on Market YoY</th>\n      <th>Average Sale To List</th>\n      <th>Average Sale To List MoM</th>\n      <th>Average Sale To List YoY</th>\n    </tr>\n  </thead>\n  <tbody>\n    <tr>\n      <th>0</th>\n      <td>Seattle, WA</td>\n      <td>February 2012</td>\n      <td>$320K</td>\n      <td>6.7%</td>\n      <td>-5.9%</td>\n      <td>495</td>\n      <td>11.7%</td>\n      <td>14.6%</td>\n      <td>779</td>\n      <td>21.3%</td>\n      <td>-11.5%</td>\n      <td>1,928</td>\n      <td>-4.8%</td>\n      <td>-33.9%</td>\n      <td>62.0</td>\n      <td>2.0</td>\n      <td>-12.0</td>\n      <td>97.2%</td>\n      <td>0.3%</td>\n      <td>0.8%</td>\n    </tr>\n    <tr>\n      <th>1</th>\n      <td>Seattle, WA</td>\n      <td>March 2012</td>\n      <td>$350K</td>\n      <td>9.4%</td>\n      <td>0.0%</td>\n      <td>670</td>\n      <td>35.4%</td>\n      <td>0.8%</td>\n      <td>998</td>\n      <td>28.1%</td>\n      <td>-5.9%</td>\n      <td>1,930</td>\n      <td>0.1%</td>\n      <td>-34.7%</td>\n      <td>40.0</td>\n      <td>-22.0</td>\n      <td>-26.0</td>\n      <td>98.1%</td>\n      <td>0.9%</td>\n      <td>1.3%</td>\n    </tr>\n    <tr>\n      <th>2</th>\n      <td>Seattle, WA</td>\n      <td>April 2012</td>\n      <td>$379K</td>\n      <td>8.3%</td>\n      <td>7.2%</td>\n      <td>778</td>\n      <td>16.1%</td>\n      <td>14.1%</td>\n      <td>1,037</td>\n      <td>3.9%</td>\n      <td>-7.9%</td>\n      <td>1,944</td>\n      <td>0.7%</td>\n      <td>-36.9%</td>\n      <td>30.0</td>\n      <td>-10.0</td>\n      <td>-13.0</td>\n      <td>98.5%</td>\n      <td>0.4%</td>\n      <td>1.2%</td>\n    </tr>\n    <tr>\n      <th>3</th>\n      <td>Seattle, WA</td>\n      <td>May 2012</td>\n      <td>$380K</td>\n      <td>0.3%</td>\n      <td>9.4%</td>\n      <td>890</td>\n      <td>14.4%</td>\n      <td>28.6%</td>\n      <td>1,077</td>\n      <td>3.9%</td>\n      <td>4.9%</td>\n      <td>1,952</td>\n      <td>0.4%</td>\n      <td>-36.7%</td>\n      <td>19.0</td>\n      <td>-11.0</td>\n      <td>-15.0</td>\n      <td>99.2%</td>\n      <td>0.7%</td>\n      <td>1.9%</td>\n    </tr>\n    <tr>\n      <th>4</th>\n      <td>Seattle, WA</td>\n      <td>June 2012</td>\n      <td>$380K</td>\n      <td>0.0%</td>\n      <td>8.1%</td>\n      <td>927</td>\n      <td>4.2%</td>\n      <td>13.6%</td>\n      <td>1,014</td>\n      <td>-5.8%</td>\n      <td>-6.2%</td>\n      <td>1,969</td>\n      <td>0.9%</td>\n      <td>-38.4%</td>\n      <td>17.0</td>\n      <td>-2.0</td>\n      <td>-20.0</td>\n      <td>99.3%</td>\n      <td>0.1%</td>\n      <td>2.0%</td>\n    </tr>\n  </tbody>\n</table>\n</div>"
     },
     "metadata": {},
     "execution_count": 42
    }
   ],
   "source": [
    "df.head()\n",
    "df = df.fillna(method=\"pad\")\n",
    "df.head()"
   ]
  },
  {
   "cell_type": "code",
   "execution_count": 43,
   "metadata": {},
   "outputs": [
    {
     "output_type": "execute_result",
     "data": {
      "text/plain": [
       "Month of Period End           object\n",
       "Median Sale Price             object\n",
       "Median Sale Price MoM         object\n",
       "Median Sale Price YoY         object\n",
       "Homes Sold                    object\n",
       "Homes Sold MoM                object\n",
       "Homes Sold YoY                object\n",
       "New Listings                  object\n",
       "New Listings MoM              object\n",
       "New Listings YoY              object\n",
       "Inventory                     object\n",
       "Inventory MoM                 object\n",
       " Inventory YoY                object\n",
       "Days on Market               float64\n",
       "Days on Market MoM           float64\n",
       "Days on Market YoY           float64\n",
       "Average Sale To List          object\n",
       "Average Sale To List MoM      object\n",
       "Average Sale To List YoY      object\n",
       "dtype: object"
      ]
     },
     "metadata": {},
     "execution_count": 43
    }
   ],
   "source": [
    "seattle_df = df.drop(df[df[\"Region\"] != \"Seattle, WA\"].index)\n",
    "seattle_df[\"Region\"] = seattle_df[\"Region\"].str.replace(\"Seattle, WA\", \"Seattle\")\n",
    "seattle_df.set_index(\"Region\", inplace=True)\n",
    "seattle_df.dtypes"
   ]
  },
  {
   "cell_type": "code",
   "execution_count": 44,
   "metadata": {},
   "outputs": [
    {
     "output_type": "execute_result",
     "data": {
      "text/plain": [
       "       Month of Period End Median Sale Price Median Sale Price MoM   \\\n",
       "Region                                                                \n",
       " Adams       February 2012             $348K                  -0.7%   \n",
       " Adams          March 2012             $347K                  -0.1%   \n",
       " Adams          April 2012             $325K                  -6.3%   \n",
       " Adams            May 2012             $332K                   2.0%   \n",
       " Adams           June 2012             $328K                  -1.1%   \n",
       "\n",
       "       Median Sale Price YoY  Homes Sold Homes Sold MoM  Homes Sold YoY   \\\n",
       "Region                                                                     \n",
       " Adams                   3.7%         40           -7.0%           25.0%   \n",
       " Adams                   4.4%         40            0.0%           11.1%   \n",
       " Adams                  -6.7%         47           17.5%            6.8%   \n",
       " Adams                  -8.4%         56           19.1%           21.7%   \n",
       " Adams                  -2.2%         63           12.5%           61.5%   \n",
       "\n",
       "       New Listings New Listings MoM  New Listings YoY  Inventory  \\\n",
       "Region                                                              \n",
       " Adams           28            -15.2%            -37.8%        30   \n",
       " Adams           43             53.6%            -33.8%        25   \n",
       " Adams           65             51.2%             20.4%        37   \n",
       " Adams           71              9.2%             26.8%        32   \n",
       " Adams           68             -4.2%             41.7%        25   \n",
       "\n",
       "       Inventory MoM   Inventory YoY   Days on Market  Days on Market MoM  \\\n",
       "Region                                                                      \n",
       " Adams          -3.2%          -37.5%            40.0               -10.0   \n",
       " Adams         -16.7%          -50.0%            49.0                10.0   \n",
       " Adams          48.0%          -22.9%            46.0                -4.0   \n",
       " Adams         -13.5%          -37.3%            37.0                -9.0   \n",
       " Adams         -21.9%          -50.0%            16.0               -21.0   \n",
       "\n",
       "        Days on Market YoY Average Sale To List Average Sale To List MoM   \\\n",
       "Region                                                                      \n",
       " Adams               -17.0                98.6%                      0.2%   \n",
       " Adams                -6.0                98.6%                     -0.1%   \n",
       " Adams                27.0                98.7%                      0.2%   \n",
       " Adams                 8.0                99.2%                      0.4%   \n",
       " Adams               -23.0                99.0%                     -0.2%   \n",
       "\n",
       "       Average Sale To List YoY   \n",
       "Region                            \n",
       " Adams                      1.0%  \n",
       " Adams                      0.3%  \n",
       " Adams                      0.1%  \n",
       " Adams                      0.7%  \n",
       " Adams                     -0.6%  "
      ],
      "text/html": "<div>\n<style scoped>\n    .dataframe tbody tr th:only-of-type {\n        vertical-align: middle;\n    }\n\n    .dataframe tbody tr th {\n        vertical-align: top;\n    }\n\n    .dataframe thead th {\n        text-align: right;\n    }\n</style>\n<table border=\"1\" class=\"dataframe\">\n  <thead>\n    <tr style=\"text-align: right;\">\n      <th></th>\n      <th>Month of Period End</th>\n      <th>Median Sale Price</th>\n      <th>Median Sale Price MoM</th>\n      <th>Median Sale Price YoY</th>\n      <th>Homes Sold</th>\n      <th>Homes Sold MoM</th>\n      <th>Homes Sold YoY</th>\n      <th>New Listings</th>\n      <th>New Listings MoM</th>\n      <th>New Listings YoY</th>\n      <th>Inventory</th>\n      <th>Inventory MoM</th>\n      <th>Inventory YoY</th>\n      <th>Days on Market</th>\n      <th>Days on Market MoM</th>\n      <th>Days on Market YoY</th>\n      <th>Average Sale To List</th>\n      <th>Average Sale To List MoM</th>\n      <th>Average Sale To List YoY</th>\n    </tr>\n    <tr>\n      <th>Region</th>\n      <th></th>\n      <th></th>\n      <th></th>\n      <th></th>\n      <th></th>\n      <th></th>\n      <th></th>\n      <th></th>\n      <th></th>\n      <th></th>\n      <th></th>\n      <th></th>\n      <th></th>\n      <th></th>\n      <th></th>\n      <th></th>\n      <th></th>\n      <th></th>\n      <th></th>\n    </tr>\n  </thead>\n  <tbody>\n    <tr>\n      <th>Adams</th>\n      <td>February 2012</td>\n      <td>$348K</td>\n      <td>-0.7%</td>\n      <td>3.7%</td>\n      <td>40</td>\n      <td>-7.0%</td>\n      <td>25.0%</td>\n      <td>28</td>\n      <td>-15.2%</td>\n      <td>-37.8%</td>\n      <td>30</td>\n      <td>-3.2%</td>\n      <td>-37.5%</td>\n      <td>40.0</td>\n      <td>-10.0</td>\n      <td>-17.0</td>\n      <td>98.6%</td>\n      <td>0.2%</td>\n      <td>1.0%</td>\n    </tr>\n    <tr>\n      <th>Adams</th>\n      <td>March 2012</td>\n      <td>$347K</td>\n      <td>-0.1%</td>\n      <td>4.4%</td>\n      <td>40</td>\n      <td>0.0%</td>\n      <td>11.1%</td>\n      <td>43</td>\n      <td>53.6%</td>\n      <td>-33.8%</td>\n      <td>25</td>\n      <td>-16.7%</td>\n      <td>-50.0%</td>\n      <td>49.0</td>\n      <td>10.0</td>\n      <td>-6.0</td>\n      <td>98.6%</td>\n      <td>-0.1%</td>\n      <td>0.3%</td>\n    </tr>\n    <tr>\n      <th>Adams</th>\n      <td>April 2012</td>\n      <td>$325K</td>\n      <td>-6.3%</td>\n      <td>-6.7%</td>\n      <td>47</td>\n      <td>17.5%</td>\n      <td>6.8%</td>\n      <td>65</td>\n      <td>51.2%</td>\n      <td>20.4%</td>\n      <td>37</td>\n      <td>48.0%</td>\n      <td>-22.9%</td>\n      <td>46.0</td>\n      <td>-4.0</td>\n      <td>27.0</td>\n      <td>98.7%</td>\n      <td>0.2%</td>\n      <td>0.1%</td>\n    </tr>\n    <tr>\n      <th>Adams</th>\n      <td>May 2012</td>\n      <td>$332K</td>\n      <td>2.0%</td>\n      <td>-8.4%</td>\n      <td>56</td>\n      <td>19.1%</td>\n      <td>21.7%</td>\n      <td>71</td>\n      <td>9.2%</td>\n      <td>26.8%</td>\n      <td>32</td>\n      <td>-13.5%</td>\n      <td>-37.3%</td>\n      <td>37.0</td>\n      <td>-9.0</td>\n      <td>8.0</td>\n      <td>99.2%</td>\n      <td>0.4%</td>\n      <td>0.7%</td>\n    </tr>\n    <tr>\n      <th>Adams</th>\n      <td>June 2012</td>\n      <td>$328K</td>\n      <td>-1.1%</td>\n      <td>-2.2%</td>\n      <td>63</td>\n      <td>12.5%</td>\n      <td>61.5%</td>\n      <td>68</td>\n      <td>-4.2%</td>\n      <td>41.7%</td>\n      <td>25</td>\n      <td>-21.9%</td>\n      <td>-50.0%</td>\n      <td>16.0</td>\n      <td>-21.0</td>\n      <td>-23.0</td>\n      <td>99.0%</td>\n      <td>-0.2%</td>\n      <td>-0.6%</td>\n    </tr>\n  </tbody>\n</table>\n</div>"
     },
     "metadata": {},
     "execution_count": 44
    }
   ],
   "source": [
    "neighborhood_df = df.drop(df[df[\"Region\"] == \"Seattle, WA\"].index)\n",
    "neighborhood_df.head()\n",
    "neighborhood_df[\"Region\"] = neighborhood_df[\"Region\"].str.split(\"-\")\n",
    "#neighborhood_df[\"Month of Period End\"] = neighborhood_df[\"Month of Period End\"].str.split(\" \")\n",
    "\n",
    "\n",
    "neighborhood_df[\"Region\"] = neighborhood_df[\"Region\"].str[1]\n",
    "#neighborhood_df[\"Year\"]= neighborhood_df[\"Month of Period End\"].str[1]\n",
    "#neighborhood_df[\"Month of Period End\"] = neighborhood_df[\"Month of Period End\"].str[0]\n",
    "\n",
    "#name_to_num = {name: num for num, name in enumerate(calendar.month_name) if num}\n",
    "#name_to_num\n",
    "#neighborhood_df[\"Month of Period End\"] = neighborhood_df[\"Month of Period End\"].apply(lambda x: name_to_num[x])\n",
    "\n",
    "\n",
    "neighborhood_df.set_index(\"Region\", inplace=True)\n",
    "\n",
    "pd.to_datetime(neighborhood_df[\"Month of Period End\"])\n",
    "\n",
    "neighborhood_df.head()"
   ]
  },
  {
   "cell_type": "code",
   "execution_count": 45,
   "metadata": {},
   "outputs": [
    {
     "output_type": "execute_result",
     "data": {
      "text/plain": [
       "       Month of Period End Median Sale Price Median Sale Price MoM   \\\n",
       "Region                                                                \n",
       " Adams       February 2012               348                   -0.7   \n",
       " Adams          March 2012               347                   -0.1   \n",
       " Adams          April 2012               325                   -6.3   \n",
       " Adams            May 2012               332                    2.0   \n",
       " Adams           June 2012               328                   -1.1   \n",
       "\n",
       "       Median Sale Price YoY  Homes Sold Homes Sold MoM  Homes Sold YoY   \\\n",
       "Region                                                                     \n",
       " Adams                    3.7         40            -7.0            25.0   \n",
       " Adams                    4.4         40             0.0            11.1   \n",
       " Adams                   -6.7         47            17.5             6.8   \n",
       " Adams                   -8.4         56            19.1            21.7   \n",
       " Adams                   -2.2         63            12.5            61.5   \n",
       "\n",
       "       New Listings New Listings MoM  New Listings YoY  Inventory  \\\n",
       "Region                                                              \n",
       " Adams           28             -15.2             -37.8        30   \n",
       " Adams           43              53.6             -33.8        25   \n",
       " Adams           65              51.2              20.4        37   \n",
       " Adams           71               9.2              26.8        32   \n",
       " Adams           68              -4.2              41.7        25   \n",
       "\n",
       "       Inventory MoM   Inventory YoY   Days on Market  Days on Market MoM  \\\n",
       "Region                                                                      \n",
       " Adams           -3.2           -37.5            40.0               -10.0   \n",
       " Adams          -16.7           -50.0            49.0                10.0   \n",
       " Adams           48.0           -22.9            46.0                -4.0   \n",
       " Adams          -13.5           -37.3            37.0                -9.0   \n",
       " Adams          -21.9           -50.0            16.0               -21.0   \n",
       "\n",
       "        Days on Market YoY Average Sale To List Average Sale To List MoM   \\\n",
       "Region                                                                      \n",
       " Adams               -17.0                 98.6                       0.2   \n",
       " Adams                -6.0                 98.6                      -0.1   \n",
       " Adams                27.0                 98.7                       0.2   \n",
       " Adams                 8.0                 99.2                       0.4   \n",
       " Adams               -23.0                 99.0                      -0.2   \n",
       "\n",
       "       Average Sale To List YoY   \n",
       "Region                            \n",
       " Adams                       1.0  \n",
       " Adams                       0.3  \n",
       " Adams                       0.1  \n",
       " Adams                       0.7  \n",
       " Adams                      -0.6  "
      ],
      "text/html": "<div>\n<style scoped>\n    .dataframe tbody tr th:only-of-type {\n        vertical-align: middle;\n    }\n\n    .dataframe tbody tr th {\n        vertical-align: top;\n    }\n\n    .dataframe thead th {\n        text-align: right;\n    }\n</style>\n<table border=\"1\" class=\"dataframe\">\n  <thead>\n    <tr style=\"text-align: right;\">\n      <th></th>\n      <th>Month of Period End</th>\n      <th>Median Sale Price</th>\n      <th>Median Sale Price MoM</th>\n      <th>Median Sale Price YoY</th>\n      <th>Homes Sold</th>\n      <th>Homes Sold MoM</th>\n      <th>Homes Sold YoY</th>\n      <th>New Listings</th>\n      <th>New Listings MoM</th>\n      <th>New Listings YoY</th>\n      <th>Inventory</th>\n      <th>Inventory MoM</th>\n      <th>Inventory YoY</th>\n      <th>Days on Market</th>\n      <th>Days on Market MoM</th>\n      <th>Days on Market YoY</th>\n      <th>Average Sale To List</th>\n      <th>Average Sale To List MoM</th>\n      <th>Average Sale To List YoY</th>\n    </tr>\n    <tr>\n      <th>Region</th>\n      <th></th>\n      <th></th>\n      <th></th>\n      <th></th>\n      <th></th>\n      <th></th>\n      <th></th>\n      <th></th>\n      <th></th>\n      <th></th>\n      <th></th>\n      <th></th>\n      <th></th>\n      <th></th>\n      <th></th>\n      <th></th>\n      <th></th>\n      <th></th>\n      <th></th>\n    </tr>\n  </thead>\n  <tbody>\n    <tr>\n      <th>Adams</th>\n      <td>February 2012</td>\n      <td>348</td>\n      <td>-0.7</td>\n      <td>3.7</td>\n      <td>40</td>\n      <td>-7.0</td>\n      <td>25.0</td>\n      <td>28</td>\n      <td>-15.2</td>\n      <td>-37.8</td>\n      <td>30</td>\n      <td>-3.2</td>\n      <td>-37.5</td>\n      <td>40.0</td>\n      <td>-10.0</td>\n      <td>-17.0</td>\n      <td>98.6</td>\n      <td>0.2</td>\n      <td>1.0</td>\n    </tr>\n    <tr>\n      <th>Adams</th>\n      <td>March 2012</td>\n      <td>347</td>\n      <td>-0.1</td>\n      <td>4.4</td>\n      <td>40</td>\n      <td>0.0</td>\n      <td>11.1</td>\n      <td>43</td>\n      <td>53.6</td>\n      <td>-33.8</td>\n      <td>25</td>\n      <td>-16.7</td>\n      <td>-50.0</td>\n      <td>49.0</td>\n      <td>10.0</td>\n      <td>-6.0</td>\n      <td>98.6</td>\n      <td>-0.1</td>\n      <td>0.3</td>\n    </tr>\n    <tr>\n      <th>Adams</th>\n      <td>April 2012</td>\n      <td>325</td>\n      <td>-6.3</td>\n      <td>-6.7</td>\n      <td>47</td>\n      <td>17.5</td>\n      <td>6.8</td>\n      <td>65</td>\n      <td>51.2</td>\n      <td>20.4</td>\n      <td>37</td>\n      <td>48.0</td>\n      <td>-22.9</td>\n      <td>46.0</td>\n      <td>-4.0</td>\n      <td>27.0</td>\n      <td>98.7</td>\n      <td>0.2</td>\n      <td>0.1</td>\n    </tr>\n    <tr>\n      <th>Adams</th>\n      <td>May 2012</td>\n      <td>332</td>\n      <td>2.0</td>\n      <td>-8.4</td>\n      <td>56</td>\n      <td>19.1</td>\n      <td>21.7</td>\n      <td>71</td>\n      <td>9.2</td>\n      <td>26.8</td>\n      <td>32</td>\n      <td>-13.5</td>\n      <td>-37.3</td>\n      <td>37.0</td>\n      <td>-9.0</td>\n      <td>8.0</td>\n      <td>99.2</td>\n      <td>0.4</td>\n      <td>0.7</td>\n    </tr>\n    <tr>\n      <th>Adams</th>\n      <td>June 2012</td>\n      <td>328</td>\n      <td>-1.1</td>\n      <td>-2.2</td>\n      <td>63</td>\n      <td>12.5</td>\n      <td>61.5</td>\n      <td>68</td>\n      <td>-4.2</td>\n      <td>41.7</td>\n      <td>25</td>\n      <td>-21.9</td>\n      <td>-50.0</td>\n      <td>16.0</td>\n      <td>-21.0</td>\n      <td>-23.0</td>\n      <td>99.0</td>\n      <td>-0.2</td>\n      <td>-0.6</td>\n    </tr>\n  </tbody>\n</table>\n</div>"
     },
     "metadata": {},
     "execution_count": 45
    }
   ],
   "source": [
    "#neighborhood_df.replace({\"Median Sale Price\": {'$': ''}}, regex=True)\n",
    "\n",
    "neighborhood_df[\"Median Sale Price\"] = neighborhood_df[\"Median Sale Price\"].str.replace(\"$\", \"\")\n",
    "dictionary = {'%':'', 'K':'', '$' : '', ',' : ''} \n",
    "neighborhood_df.replace(dictionary, regex=True, inplace=True)\n",
    "neighborhood_df.head()"
   ]
  },
  {
   "cell_type": "code",
   "execution_count": 46,
   "metadata": {},
   "outputs": [
    {
     "output_type": "execute_result",
     "data": {
      "text/plain": [
       "        Month of Period End Median Sale Price Median Sale Price MoM   \\\n",
       "Region                                                                 \n",
       "Seattle       February 2012               320                    6.7   \n",
       "Seattle          March 2012               350                    9.4   \n",
       "Seattle          April 2012               379                    8.3   \n",
       "Seattle            May 2012               380                    0.3   \n",
       "Seattle           June 2012               380                    0.0   \n",
       "\n",
       "        Median Sale Price YoY  Homes Sold Homes Sold MoM  Homes Sold YoY   \\\n",
       "Region                                                                      \n",
       "Seattle                   -5.9        495            11.7            14.6   \n",
       "Seattle                    0.0        670            35.4             0.8   \n",
       "Seattle                    7.2        778            16.1            14.1   \n",
       "Seattle                    9.4        890            14.4            28.6   \n",
       "Seattle                    8.1        927             4.2            13.6   \n",
       "\n",
       "        New Listings New Listings MoM  New Listings YoY  Inventory  \\\n",
       "Region                                                               \n",
       "Seattle          779              21.3             -11.5      1928   \n",
       "Seattle          998              28.1              -5.9      1930   \n",
       "Seattle         1037               3.9              -7.9      1944   \n",
       "Seattle         1077               3.9               4.9      1952   \n",
       "Seattle         1014              -5.8              -6.2      1969   \n",
       "\n",
       "        Inventory MoM   Inventory YoY   Days on Market  Days on Market MoM  \\\n",
       "Region                                                                       \n",
       "Seattle           -4.8           -33.9            62.0                 2.0   \n",
       "Seattle            0.1           -34.7            40.0               -22.0   \n",
       "Seattle            0.7           -36.9            30.0               -10.0   \n",
       "Seattle            0.4           -36.7            19.0               -11.0   \n",
       "Seattle            0.9           -38.4            17.0                -2.0   \n",
       "\n",
       "         Days on Market YoY Average Sale To List Average Sale To List MoM   \\\n",
       "Region                                                                       \n",
       "Seattle               -12.0                 97.2                       0.3   \n",
       "Seattle               -26.0                 98.1                       0.9   \n",
       "Seattle               -13.0                 98.5                       0.4   \n",
       "Seattle               -15.0                 99.2                       0.7   \n",
       "Seattle               -20.0                 99.3                       0.1   \n",
       "\n",
       "        Average Sale To List YoY   \n",
       "Region                             \n",
       "Seattle                       0.8  \n",
       "Seattle                       1.3  \n",
       "Seattle                       1.2  \n",
       "Seattle                       1.9  \n",
       "Seattle                       2.0  "
      ],
      "text/html": "<div>\n<style scoped>\n    .dataframe tbody tr th:only-of-type {\n        vertical-align: middle;\n    }\n\n    .dataframe tbody tr th {\n        vertical-align: top;\n    }\n\n    .dataframe thead th {\n        text-align: right;\n    }\n</style>\n<table border=\"1\" class=\"dataframe\">\n  <thead>\n    <tr style=\"text-align: right;\">\n      <th></th>\n      <th>Month of Period End</th>\n      <th>Median Sale Price</th>\n      <th>Median Sale Price MoM</th>\n      <th>Median Sale Price YoY</th>\n      <th>Homes Sold</th>\n      <th>Homes Sold MoM</th>\n      <th>Homes Sold YoY</th>\n      <th>New Listings</th>\n      <th>New Listings MoM</th>\n      <th>New Listings YoY</th>\n      <th>Inventory</th>\n      <th>Inventory MoM</th>\n      <th>Inventory YoY</th>\n      <th>Days on Market</th>\n      <th>Days on Market MoM</th>\n      <th>Days on Market YoY</th>\n      <th>Average Sale To List</th>\n      <th>Average Sale To List MoM</th>\n      <th>Average Sale To List YoY</th>\n    </tr>\n    <tr>\n      <th>Region</th>\n      <th></th>\n      <th></th>\n      <th></th>\n      <th></th>\n      <th></th>\n      <th></th>\n      <th></th>\n      <th></th>\n      <th></th>\n      <th></th>\n      <th></th>\n      <th></th>\n      <th></th>\n      <th></th>\n      <th></th>\n      <th></th>\n      <th></th>\n      <th></th>\n      <th></th>\n    </tr>\n  </thead>\n  <tbody>\n    <tr>\n      <th>Seattle</th>\n      <td>February 2012</td>\n      <td>320</td>\n      <td>6.7</td>\n      <td>-5.9</td>\n      <td>495</td>\n      <td>11.7</td>\n      <td>14.6</td>\n      <td>779</td>\n      <td>21.3</td>\n      <td>-11.5</td>\n      <td>1928</td>\n      <td>-4.8</td>\n      <td>-33.9</td>\n      <td>62.0</td>\n      <td>2.0</td>\n      <td>-12.0</td>\n      <td>97.2</td>\n      <td>0.3</td>\n      <td>0.8</td>\n    </tr>\n    <tr>\n      <th>Seattle</th>\n      <td>March 2012</td>\n      <td>350</td>\n      <td>9.4</td>\n      <td>0.0</td>\n      <td>670</td>\n      <td>35.4</td>\n      <td>0.8</td>\n      <td>998</td>\n      <td>28.1</td>\n      <td>-5.9</td>\n      <td>1930</td>\n      <td>0.1</td>\n      <td>-34.7</td>\n      <td>40.0</td>\n      <td>-22.0</td>\n      <td>-26.0</td>\n      <td>98.1</td>\n      <td>0.9</td>\n      <td>1.3</td>\n    </tr>\n    <tr>\n      <th>Seattle</th>\n      <td>April 2012</td>\n      <td>379</td>\n      <td>8.3</td>\n      <td>7.2</td>\n      <td>778</td>\n      <td>16.1</td>\n      <td>14.1</td>\n      <td>1037</td>\n      <td>3.9</td>\n      <td>-7.9</td>\n      <td>1944</td>\n      <td>0.7</td>\n      <td>-36.9</td>\n      <td>30.0</td>\n      <td>-10.0</td>\n      <td>-13.0</td>\n      <td>98.5</td>\n      <td>0.4</td>\n      <td>1.2</td>\n    </tr>\n    <tr>\n      <th>Seattle</th>\n      <td>May 2012</td>\n      <td>380</td>\n      <td>0.3</td>\n      <td>9.4</td>\n      <td>890</td>\n      <td>14.4</td>\n      <td>28.6</td>\n      <td>1077</td>\n      <td>3.9</td>\n      <td>4.9</td>\n      <td>1952</td>\n      <td>0.4</td>\n      <td>-36.7</td>\n      <td>19.0</td>\n      <td>-11.0</td>\n      <td>-15.0</td>\n      <td>99.2</td>\n      <td>0.7</td>\n      <td>1.9</td>\n    </tr>\n    <tr>\n      <th>Seattle</th>\n      <td>June 2012</td>\n      <td>380</td>\n      <td>0.0</td>\n      <td>8.1</td>\n      <td>927</td>\n      <td>4.2</td>\n      <td>13.6</td>\n      <td>1014</td>\n      <td>-5.8</td>\n      <td>-6.2</td>\n      <td>1969</td>\n      <td>0.9</td>\n      <td>-38.4</td>\n      <td>17.0</td>\n      <td>-2.0</td>\n      <td>-20.0</td>\n      <td>99.3</td>\n      <td>0.1</td>\n      <td>2.0</td>\n    </tr>\n  </tbody>\n</table>\n</div>"
     },
     "metadata": {},
     "execution_count": 46
    }
   ],
   "source": [
    "seattle_df[\"Median Sale Price\"] = seattle_df[\"Median Sale Price\"].str.replace(\"$\", \"\")\n",
    "seattle_df.replace(dictionary, regex=True, inplace=True)\n",
    "seattle_df.head()"
   ]
  },
  {
   "cell_type": "code",
   "execution_count": 47,
   "metadata": {},
   "outputs": [],
   "source": [
    "neighborhood_df[['Median Sale Price',\n",
    " 'Median Sale Price MoM ',\n",
    " 'Median Sale Price YoY ',\n",
    " 'Homes Sold',\n",
    " 'Homes Sold MoM ',\n",
    " 'Homes Sold YoY ',\n",
    " 'New Listings',\n",
    " 'New Listings MoM ',\n",
    " 'New Listings YoY ',\n",
    " 'Inventory',\n",
    " 'Inventory MoM ',\n",
    " ' Inventory YoY ',\n",
    " 'Days on Market',\n",
    " 'Days on Market MoM',\n",
    " 'Days on Market YoY',\n",
    " 'Average Sale To List',\n",
    " 'Average Sale To List MoM ',\n",
    " 'Average Sale To List YoY ']] = neighborhood_df[['Median Sale Price',\n",
    " 'Median Sale Price MoM ',\n",
    " 'Median Sale Price YoY ',\n",
    " 'Homes Sold',\n",
    " 'Homes Sold MoM ',\n",
    " 'Homes Sold YoY ',\n",
    " 'New Listings',\n",
    " 'New Listings MoM ',\n",
    " 'New Listings YoY ',\n",
    " 'Inventory',\n",
    " 'Inventory MoM ',\n",
    " ' Inventory YoY ',\n",
    " 'Days on Market',\n",
    " 'Days on Market MoM',\n",
    " 'Days on Market YoY',\n",
    " 'Average Sale To List',\n",
    " 'Average Sale To List MoM ',\n",
    " 'Average Sale To List YoY ']].apply(pd.to_numeric)"
   ]
  },
  {
   "cell_type": "code",
   "execution_count": 48,
   "metadata": {},
   "outputs": [],
   "source": [
    "neighborhood_df.columns = ['Month_of_Period_End','Median_Sale_Price',\n",
    " 'Median_Sale_Price_MoM ',\n",
    " 'Median_Sale_Price_YoY ',\n",
    " 'Homes_Sold',\n",
    " 'Homes_Sold_MoM ',\n",
    " 'Homes_Sold_YoY ',\n",
    " 'New_Listings',\n",
    " 'New_Listings_MoM ',\n",
    " 'New_Listings_YoY ',\n",
    " 'Inventory',\n",
    " 'Inventory_MoM ',\n",
    " ' Inventory_YoY ',\n",
    " 'Days_on_Market',\n",
    " 'Days_on_Market_MoM',\n",
    " 'Days_on_Market_YoY',\n",
    " 'Average_Sale_To_List',\n",
    " 'Average_Sale_To_List_MoM ',\n",
    " 'Average_Sale_To_List_YoY ']"
   ]
  },
  {
   "cell_type": "code",
   "execution_count": 49,
   "metadata": {},
   "outputs": [
    {
     "output_type": "execute_result",
     "data": {
      "text/plain": [
       "Month_of_Period_End           object\n",
       "Median_Sale_Price              int64\n",
       "Median_Sale_Price_MoM        float64\n",
       "Median_Sale_Price_YoY        float64\n",
       "Homes_Sold                     int64\n",
       "Homes_Sold_MoM               float64\n",
       "Homes_Sold_YoY               float64\n",
       "New_Listings                   int64\n",
       "New_Listings_MoM             float64\n",
       "New_Listings_YoY             float64\n",
       "Inventory                      int64\n",
       "Inventory_MoM                float64\n",
       " Inventory_YoY               float64\n",
       "Days_on_Market               float64\n",
       "Days_on_Market_MoM           float64\n",
       "Days_on_Market_YoY           float64\n",
       "Average_Sale_To_List         float64\n",
       "Average_Sale_To_List_MoM     float64\n",
       "Average_Sale_To_List_YoY     float64\n",
       "dtype: object"
      ]
     },
     "metadata": {},
     "execution_count": 49
    }
   ],
   "source": [
    "neighborhood_df.dtypes"
   ]
  },
  {
   "cell_type": "code",
   "execution_count": 50,
   "metadata": {},
   "outputs": [
    {
     "output_type": "execute_result",
     "data": {
      "text/plain": [
       "                         Median_Sale_Price\n",
       "Region                                    \n",
       " Belltown                        94.360550\n",
       " Broadway                       107.913857\n",
       " International District         109.137672\n",
       " Pinehurst                      110.124877\n",
       " Dunlap                         110.136002"
      ],
      "text/html": "<div>\n<style scoped>\n    .dataframe tbody tr th:only-of-type {\n        vertical-align: middle;\n    }\n\n    .dataframe tbody tr th {\n        vertical-align: top;\n    }\n\n    .dataframe thead th {\n        text-align: right;\n    }\n</style>\n<table border=\"1\" class=\"dataframe\">\n  <thead>\n    <tr style=\"text-align: right;\">\n      <th></th>\n      <th>Median_Sale_Price</th>\n    </tr>\n    <tr>\n      <th>Region</th>\n      <th></th>\n    </tr>\n  </thead>\n  <tbody>\n    <tr>\n      <th>Belltown</th>\n      <td>94.360550</td>\n    </tr>\n    <tr>\n      <th>Broadway</th>\n      <td>107.913857</td>\n    </tr>\n    <tr>\n      <th>International District</th>\n      <td>109.137672</td>\n    </tr>\n    <tr>\n      <th>Pinehurst</th>\n      <td>110.124877</td>\n    </tr>\n    <tr>\n      <th>Dunlap</th>\n      <td>110.136002</td>\n    </tr>\n  </tbody>\n</table>\n</div>"
     },
     "metadata": {},
     "execution_count": 50
    }
   ],
   "source": [
    "std_df = pd.DataFrame(neighborhood_df[\"Median_Sale_Price\"])\n",
    "\n",
    "std_df = std_df.groupby('Region').std()\n",
    "\n",
    "std_df.sort_values(by=['Median_Sale_Price'], inplace = True)\n",
    "\n",
    "std_df.head()"
   ]
  },
  {
   "cell_type": "code",
   "execution_count": 51,
   "metadata": {},
   "outputs": [
    {
     "output_type": "execute_result",
     "data": {
      "text/plain": [
       "          Month_of_Period_End  Median_Sale_Price  Median_Sale_Price_MoM   \\\n",
       "Region                                                                     \n",
       " Belltown       February 2012                357                    -6.6   \n",
       " Belltown          March 2012                350                    -1.8   \n",
       " Belltown          April 2012                358                     2.3   \n",
       " Belltown            May 2012                423                    18.1   \n",
       " Belltown           June 2012                419                    -0.8   \n",
       "\n",
       "           Median_Sale_Price_YoY   Homes_Sold  Homes_Sold_MoM   \\\n",
       "Region                                                           \n",
       " Belltown                    -1.5          42            -22.2   \n",
       " Belltown                     4.5          43              2.4   \n",
       " Belltown                    17.0          65             51.2   \n",
       " Belltown                    51.0          81             24.6   \n",
       " Belltown                    51.4          98             21.0   \n",
       "\n",
       "           Homes_Sold_YoY   New_Listings  New_Listings_MoM   \\\n",
       "Region                                                        \n",
       " Belltown             -6.7            53                8.2   \n",
       " Belltown            -10.4            77               45.3   \n",
       " Belltown             22.6           103               33.8   \n",
       " Belltown             47.3           113                9.7   \n",
       " Belltown             53.1           111               -1.8   \n",
       "\n",
       "           New_Listings_YoY   Inventory  Inventory_MoM    Inventory_YoY   \\\n",
       "Region                                                                     \n",
       " Belltown              -11.7         61            -1.6            -37.8   \n",
       " Belltown              -11.5         59            -3.3            -47.3   \n",
       " Belltown                5.1         69            16.9            -40.0   \n",
       " Belltown                1.8         72             4.3            -35.7   \n",
       " Belltown               -0.9         65            -9.7            -43.0   \n",
       "\n",
       "           Days_on_Market  Days_on_Market_MoM  Days_on_Market_YoY  \\\n",
       "Region                                                              \n",
       " Belltown            45.0                24.0               -41.0   \n",
       " Belltown            65.0                21.0                -4.0   \n",
       " Belltown            53.0               -13.0               -67.0   \n",
       " Belltown            39.0               -14.0               -46.0   \n",
       " Belltown            36.0                -3.0               -17.0   \n",
       "\n",
       "           Average_Sale_To_List  Average_Sale_To_List_MoM   \\\n",
       "Region                                                       \n",
       " Belltown                  96.6                       -0.3   \n",
       " Belltown                  96.7                        0.0   \n",
       " Belltown                  97.9                        1.2   \n",
       " Belltown                  98.0                        0.1   \n",
       " Belltown                  98.2                        0.2   \n",
       "\n",
       "           Average_Sale_To_List_YoY   \n",
       "Region                                \n",
       " Belltown                        0.5  \n",
       " Belltown                        0.8  \n",
       " Belltown                        2.5  \n",
       " Belltown                        2.8  \n",
       " Belltown                        2.1  "
      ],
      "text/html": "<div>\n<style scoped>\n    .dataframe tbody tr th:only-of-type {\n        vertical-align: middle;\n    }\n\n    .dataframe tbody tr th {\n        vertical-align: top;\n    }\n\n    .dataframe thead th {\n        text-align: right;\n    }\n</style>\n<table border=\"1\" class=\"dataframe\">\n  <thead>\n    <tr style=\"text-align: right;\">\n      <th></th>\n      <th>Month_of_Period_End</th>\n      <th>Median_Sale_Price</th>\n      <th>Median_Sale_Price_MoM</th>\n      <th>Median_Sale_Price_YoY</th>\n      <th>Homes_Sold</th>\n      <th>Homes_Sold_MoM</th>\n      <th>Homes_Sold_YoY</th>\n      <th>New_Listings</th>\n      <th>New_Listings_MoM</th>\n      <th>New_Listings_YoY</th>\n      <th>Inventory</th>\n      <th>Inventory_MoM</th>\n      <th>Inventory_YoY</th>\n      <th>Days_on_Market</th>\n      <th>Days_on_Market_MoM</th>\n      <th>Days_on_Market_YoY</th>\n      <th>Average_Sale_To_List</th>\n      <th>Average_Sale_To_List_MoM</th>\n      <th>Average_Sale_To_List_YoY</th>\n    </tr>\n    <tr>\n      <th>Region</th>\n      <th></th>\n      <th></th>\n      <th></th>\n      <th></th>\n      <th></th>\n      <th></th>\n      <th></th>\n      <th></th>\n      <th></th>\n      <th></th>\n      <th></th>\n      <th></th>\n      <th></th>\n      <th></th>\n      <th></th>\n      <th></th>\n      <th></th>\n      <th></th>\n      <th></th>\n    </tr>\n  </thead>\n  <tbody>\n    <tr>\n      <th>Belltown</th>\n      <td>February 2012</td>\n      <td>357</td>\n      <td>-6.6</td>\n      <td>-1.5</td>\n      <td>42</td>\n      <td>-22.2</td>\n      <td>-6.7</td>\n      <td>53</td>\n      <td>8.2</td>\n      <td>-11.7</td>\n      <td>61</td>\n      <td>-1.6</td>\n      <td>-37.8</td>\n      <td>45.0</td>\n      <td>24.0</td>\n      <td>-41.0</td>\n      <td>96.6</td>\n      <td>-0.3</td>\n      <td>0.5</td>\n    </tr>\n    <tr>\n      <th>Belltown</th>\n      <td>March 2012</td>\n      <td>350</td>\n      <td>-1.8</td>\n      <td>4.5</td>\n      <td>43</td>\n      <td>2.4</td>\n      <td>-10.4</td>\n      <td>77</td>\n      <td>45.3</td>\n      <td>-11.5</td>\n      <td>59</td>\n      <td>-3.3</td>\n      <td>-47.3</td>\n      <td>65.0</td>\n      <td>21.0</td>\n      <td>-4.0</td>\n      <td>96.7</td>\n      <td>0.0</td>\n      <td>0.8</td>\n    </tr>\n    <tr>\n      <th>Belltown</th>\n      <td>April 2012</td>\n      <td>358</td>\n      <td>2.3</td>\n      <td>17.0</td>\n      <td>65</td>\n      <td>51.2</td>\n      <td>22.6</td>\n      <td>103</td>\n      <td>33.8</td>\n      <td>5.1</td>\n      <td>69</td>\n      <td>16.9</td>\n      <td>-40.0</td>\n      <td>53.0</td>\n      <td>-13.0</td>\n      <td>-67.0</td>\n      <td>97.9</td>\n      <td>1.2</td>\n      <td>2.5</td>\n    </tr>\n    <tr>\n      <th>Belltown</th>\n      <td>May 2012</td>\n      <td>423</td>\n      <td>18.1</td>\n      <td>51.0</td>\n      <td>81</td>\n      <td>24.6</td>\n      <td>47.3</td>\n      <td>113</td>\n      <td>9.7</td>\n      <td>1.8</td>\n      <td>72</td>\n      <td>4.3</td>\n      <td>-35.7</td>\n      <td>39.0</td>\n      <td>-14.0</td>\n      <td>-46.0</td>\n      <td>98.0</td>\n      <td>0.1</td>\n      <td>2.8</td>\n    </tr>\n    <tr>\n      <th>Belltown</th>\n      <td>June 2012</td>\n      <td>419</td>\n      <td>-0.8</td>\n      <td>51.4</td>\n      <td>98</td>\n      <td>21.0</td>\n      <td>53.1</td>\n      <td>111</td>\n      <td>-1.8</td>\n      <td>-0.9</td>\n      <td>65</td>\n      <td>-9.7</td>\n      <td>-43.0</td>\n      <td>36.0</td>\n      <td>-3.0</td>\n      <td>-17.0</td>\n      <td>98.2</td>\n      <td>0.2</td>\n      <td>2.1</td>\n    </tr>\n  </tbody>\n</table>\n</div>"
     },
     "metadata": {},
     "execution_count": 51
    }
   ],
   "source": [
    "belltown_df = neighborhood_df.loc[neighborhood_df.index == \" Belltown\"]\n",
    "#belltown_df = neighborhood_df.get_group(\" Belltown\")\n",
    "#df_A=df.loc[df['Region']==A]\n",
    "\n",
    "#neighborhood_df.index.unique()\n",
    "\n",
    "belltown_df.head()\n"
   ]
  },
  {
   "cell_type": "code",
   "execution_count": 52,
   "metadata": {},
   "outputs": [],
   "source": [
    "belltown_df['Month_of_Period_End'] = pd.to_datetime(belltown_df['Month_of_Period_End'], infer_datetime_format=True)\n"
   ]
  },
  {
   "cell_type": "code",
   "execution_count": 53,
   "metadata": {},
   "outputs": [
    {
     "output_type": "execute_result",
     "data": {
      "text/plain": [
       "<AxesSubplot:xlabel='Month_of_Period_End'>"
      ]
     },
     "metadata": {},
     "execution_count": 53
    },
    {
     "output_type": "display_data",
     "data": {
      "text/plain": "<Figure size 432x288 with 1 Axes>",
      "image/svg+xml": "<?xml version=\"1.0\" encoding=\"utf-8\" standalone=\"no\"?>\r\n<!DOCTYPE svg PUBLIC \"-//W3C//DTD SVG 1.1//EN\"\r\n  \"http://www.w3.org/Graphics/SVG/1.1/DTD/svg11.dtd\">\r\n<!-- Created with matplotlib (https://matplotlib.org/) -->\r\n<svg height=\"262.474375pt\" version=\"1.1\" viewBox=\"0 0 375.2875 262.474375\" width=\"375.2875pt\" xmlns=\"http://www.w3.org/2000/svg\" xmlns:xlink=\"http://www.w3.org/1999/xlink\">\r\n <metadata>\r\n  <rdf:RDF xmlns:cc=\"http://creativecommons.org/ns#\" xmlns:dc=\"http://purl.org/dc/elements/1.1/\" xmlns:rdf=\"http://www.w3.org/1999/02/22-rdf-syntax-ns#\">\r\n   <cc:Work>\r\n    <dc:type rdf:resource=\"http://purl.org/dc/dcmitype/StillImage\"/>\r\n    <dc:date>2020-12-05T11:03:09.230873</dc:date>\r\n    <dc:format>image/svg+xml</dc:format>\r\n    <dc:creator>\r\n     <cc:Agent>\r\n      <dc:title>Matplotlib v3.3.2, https://matplotlib.org/</dc:title>\r\n     </cc:Agent>\r\n    </dc:creator>\r\n   </cc:Work>\r\n  </rdf:RDF>\r\n </metadata>\r\n <defs>\r\n  <style type=\"text/css\">*{stroke-linecap:butt;stroke-linejoin:round;}</style>\r\n </defs>\r\n <g id=\"figure_1\">\r\n  <g id=\"patch_1\">\r\n   <path d=\"M 0 262.474375 \r\nL 375.2875 262.474375 \r\nL 375.2875 0 \r\nL 0 0 \r\nz\r\n\" style=\"fill:none;\"/>\r\n  </g>\r\n  <g id=\"axes_1\">\r\n   <g id=\"patch_2\">\r\n    <path d=\"M 33.2875 224.64 \r\nL 368.0875 224.64 \r\nL 368.0875 7.2 \r\nL 33.2875 7.2 \r\nz\r\n\" style=\"fill:#ffffff;\"/>\r\n   </g>\r\n   <g id=\"matplotlib.axis_1\">\r\n    <g id=\"xtick_1\">\r\n     <g id=\"line2d_1\">\r\n      <defs>\r\n       <path d=\"M 0 0 \r\nL 0 3.5 \r\n\" id=\"mdcce166638\" style=\"stroke:#000000;stroke-width:0.8;\"/>\r\n      </defs>\r\n      <g>\r\n       <use style=\"stroke:#000000;stroke-width:0.8;\" x=\"68.699038\" xlink:href=\"#mdcce166638\" y=\"224.64\"/>\r\n      </g>\r\n     </g>\r\n     <g id=\"text_1\">\r\n      <!-- 2013 -->\r\n      <g transform=\"translate(55.974038 239.238438)scale(0.1 -0.1)\">\r\n       <defs>\r\n        <path d=\"M 19.1875 8.296875 \r\nL 53.609375 8.296875 \r\nL 53.609375 0 \r\nL 7.328125 0 \r\nL 7.328125 8.296875 \r\nQ 12.9375 14.109375 22.625 23.890625 \r\nQ 32.328125 33.6875 34.8125 36.53125 \r\nQ 39.546875 41.84375 41.421875 45.53125 \r\nQ 43.3125 49.21875 43.3125 52.78125 \r\nQ 43.3125 58.59375 39.234375 62.25 \r\nQ 35.15625 65.921875 28.609375 65.921875 \r\nQ 23.96875 65.921875 18.8125 64.3125 \r\nQ 13.671875 62.703125 7.8125 59.421875 \r\nL 7.8125 69.390625 \r\nQ 13.765625 71.78125 18.9375 73 \r\nQ 24.125 74.21875 28.421875 74.21875 \r\nQ 39.75 74.21875 46.484375 68.546875 \r\nQ 53.21875 62.890625 53.21875 53.421875 \r\nQ 53.21875 48.921875 51.53125 44.890625 \r\nQ 49.859375 40.875 45.40625 35.40625 \r\nQ 44.1875 33.984375 37.640625 27.21875 \r\nQ 31.109375 20.453125 19.1875 8.296875 \r\nz\r\n\" id=\"DejaVuSans-50\"/>\r\n        <path d=\"M 31.78125 66.40625 \r\nQ 24.171875 66.40625 20.328125 58.90625 \r\nQ 16.5 51.421875 16.5 36.375 \r\nQ 16.5 21.390625 20.328125 13.890625 \r\nQ 24.171875 6.390625 31.78125 6.390625 \r\nQ 39.453125 6.390625 43.28125 13.890625 \r\nQ 47.125 21.390625 47.125 36.375 \r\nQ 47.125 51.421875 43.28125 58.90625 \r\nQ 39.453125 66.40625 31.78125 66.40625 \r\nz\r\nM 31.78125 74.21875 \r\nQ 44.046875 74.21875 50.515625 64.515625 \r\nQ 56.984375 54.828125 56.984375 36.375 \r\nQ 56.984375 17.96875 50.515625 8.265625 \r\nQ 44.046875 -1.421875 31.78125 -1.421875 \r\nQ 19.53125 -1.421875 13.0625 8.265625 \r\nQ 6.59375 17.96875 6.59375 36.375 \r\nQ 6.59375 54.828125 13.0625 64.515625 \r\nQ 19.53125 74.21875 31.78125 74.21875 \r\nz\r\n\" id=\"DejaVuSans-48\"/>\r\n        <path d=\"M 12.40625 8.296875 \r\nL 28.515625 8.296875 \r\nL 28.515625 63.921875 \r\nL 10.984375 60.40625 \r\nL 10.984375 69.390625 \r\nL 28.421875 72.90625 \r\nL 38.28125 72.90625 \r\nL 38.28125 8.296875 \r\nL 54.390625 8.296875 \r\nL 54.390625 0 \r\nL 12.40625 0 \r\nz\r\n\" id=\"DejaVuSans-49\"/>\r\n        <path d=\"M 40.578125 39.3125 \r\nQ 47.65625 37.796875 51.625 33 \r\nQ 55.609375 28.21875 55.609375 21.1875 \r\nQ 55.609375 10.40625 48.1875 4.484375 \r\nQ 40.765625 -1.421875 27.09375 -1.421875 \r\nQ 22.515625 -1.421875 17.65625 -0.515625 \r\nQ 12.796875 0.390625 7.625 2.203125 \r\nL 7.625 11.71875 \r\nQ 11.71875 9.328125 16.59375 8.109375 \r\nQ 21.484375 6.890625 26.8125 6.890625 \r\nQ 36.078125 6.890625 40.9375 10.546875 \r\nQ 45.796875 14.203125 45.796875 21.1875 \r\nQ 45.796875 27.640625 41.28125 31.265625 \r\nQ 36.765625 34.90625 28.71875 34.90625 \r\nL 20.21875 34.90625 \r\nL 20.21875 43.015625 \r\nL 29.109375 43.015625 \r\nQ 36.375 43.015625 40.234375 45.921875 \r\nQ 44.09375 48.828125 44.09375 54.296875 \r\nQ 44.09375 59.90625 40.109375 62.90625 \r\nQ 36.140625 65.921875 28.71875 65.921875 \r\nQ 24.65625 65.921875 20.015625 65.03125 \r\nQ 15.375 64.15625 9.8125 62.3125 \r\nL 9.8125 71.09375 \r\nQ 15.4375 72.65625 20.34375 73.4375 \r\nQ 25.25 74.21875 29.59375 74.21875 \r\nQ 40.828125 74.21875 47.359375 69.109375 \r\nQ 53.90625 64.015625 53.90625 55.328125 \r\nQ 53.90625 49.265625 50.4375 45.09375 \r\nQ 46.96875 40.921875 40.578125 39.3125 \r\nz\r\n\" id=\"DejaVuSans-51\"/>\r\n       </defs>\r\n       <use xlink:href=\"#DejaVuSans-50\"/>\r\n       <use x=\"63.623047\" xlink:href=\"#DejaVuSans-48\"/>\r\n       <use x=\"127.246094\" xlink:href=\"#DejaVuSans-49\"/>\r\n       <use x=\"190.869141\" xlink:href=\"#DejaVuSans-51\"/>\r\n      </g>\r\n     </g>\r\n    </g>\r\n    <g id=\"xtick_2\">\r\n     <g id=\"line2d_2\">\r\n      <g>\r\n       <use style=\"stroke:#000000;stroke-width:0.8;\" x=\"107.329808\" xlink:href=\"#mdcce166638\" y=\"224.64\"/>\r\n      </g>\r\n     </g>\r\n     <g id=\"text_2\">\r\n      <!-- 2014 -->\r\n      <g transform=\"translate(94.604808 239.238438)scale(0.1 -0.1)\">\r\n       <defs>\r\n        <path d=\"M 37.796875 64.3125 \r\nL 12.890625 25.390625 \r\nL 37.796875 25.390625 \r\nz\r\nM 35.203125 72.90625 \r\nL 47.609375 72.90625 \r\nL 47.609375 25.390625 \r\nL 58.015625 25.390625 \r\nL 58.015625 17.1875 \r\nL 47.609375 17.1875 \r\nL 47.609375 0 \r\nL 37.796875 0 \r\nL 37.796875 17.1875 \r\nL 4.890625 17.1875 \r\nL 4.890625 26.703125 \r\nz\r\n\" id=\"DejaVuSans-52\"/>\r\n       </defs>\r\n       <use xlink:href=\"#DejaVuSans-50\"/>\r\n       <use x=\"63.623047\" xlink:href=\"#DejaVuSans-48\"/>\r\n       <use x=\"127.246094\" xlink:href=\"#DejaVuSans-49\"/>\r\n       <use x=\"190.869141\" xlink:href=\"#DejaVuSans-52\"/>\r\n      </g>\r\n     </g>\r\n    </g>\r\n    <g id=\"xtick_3\">\r\n     <g id=\"line2d_3\">\r\n      <g>\r\n       <use style=\"stroke:#000000;stroke-width:0.8;\" x=\"145.960577\" xlink:href=\"#mdcce166638\" y=\"224.64\"/>\r\n      </g>\r\n     </g>\r\n     <g id=\"text_3\">\r\n      <!-- 2015 -->\r\n      <g transform=\"translate(133.235577 239.238438)scale(0.1 -0.1)\">\r\n       <defs>\r\n        <path d=\"M 10.796875 72.90625 \r\nL 49.515625 72.90625 \r\nL 49.515625 64.59375 \r\nL 19.828125 64.59375 \r\nL 19.828125 46.734375 \r\nQ 21.96875 47.46875 24.109375 47.828125 \r\nQ 26.265625 48.1875 28.421875 48.1875 \r\nQ 40.625 48.1875 47.75 41.5 \r\nQ 54.890625 34.8125 54.890625 23.390625 \r\nQ 54.890625 11.625 47.5625 5.09375 \r\nQ 40.234375 -1.421875 26.90625 -1.421875 \r\nQ 22.3125 -1.421875 17.546875 -0.640625 \r\nQ 12.796875 0.140625 7.71875 1.703125 \r\nL 7.71875 11.625 \r\nQ 12.109375 9.234375 16.796875 8.0625 \r\nQ 21.484375 6.890625 26.703125 6.890625 \r\nQ 35.15625 6.890625 40.078125 11.328125 \r\nQ 45.015625 15.765625 45.015625 23.390625 \r\nQ 45.015625 31 40.078125 35.4375 \r\nQ 35.15625 39.890625 26.703125 39.890625 \r\nQ 22.75 39.890625 18.8125 39.015625 \r\nQ 14.890625 38.140625 10.796875 36.28125 \r\nz\r\n\" id=\"DejaVuSans-53\"/>\r\n       </defs>\r\n       <use xlink:href=\"#DejaVuSans-50\"/>\r\n       <use x=\"63.623047\" xlink:href=\"#DejaVuSans-48\"/>\r\n       <use x=\"127.246094\" xlink:href=\"#DejaVuSans-49\"/>\r\n       <use x=\"190.869141\" xlink:href=\"#DejaVuSans-53\"/>\r\n      </g>\r\n     </g>\r\n    </g>\r\n    <g id=\"xtick_4\">\r\n     <g id=\"line2d_4\">\r\n      <g>\r\n       <use style=\"stroke:#000000;stroke-width:0.8;\" x=\"184.591346\" xlink:href=\"#mdcce166638\" y=\"224.64\"/>\r\n      </g>\r\n     </g>\r\n     <g id=\"text_4\">\r\n      <!-- 2016 -->\r\n      <g transform=\"translate(171.866346 239.238438)scale(0.1 -0.1)\">\r\n       <defs>\r\n        <path d=\"M 33.015625 40.375 \r\nQ 26.375 40.375 22.484375 35.828125 \r\nQ 18.609375 31.296875 18.609375 23.390625 \r\nQ 18.609375 15.53125 22.484375 10.953125 \r\nQ 26.375 6.390625 33.015625 6.390625 \r\nQ 39.65625 6.390625 43.53125 10.953125 \r\nQ 47.40625 15.53125 47.40625 23.390625 \r\nQ 47.40625 31.296875 43.53125 35.828125 \r\nQ 39.65625 40.375 33.015625 40.375 \r\nz\r\nM 52.59375 71.296875 \r\nL 52.59375 62.3125 \r\nQ 48.875 64.0625 45.09375 64.984375 \r\nQ 41.3125 65.921875 37.59375 65.921875 \r\nQ 27.828125 65.921875 22.671875 59.328125 \r\nQ 17.53125 52.734375 16.796875 39.40625 \r\nQ 19.671875 43.65625 24.015625 45.921875 \r\nQ 28.375 48.1875 33.59375 48.1875 \r\nQ 44.578125 48.1875 50.953125 41.515625 \r\nQ 57.328125 34.859375 57.328125 23.390625 \r\nQ 57.328125 12.15625 50.6875 5.359375 \r\nQ 44.046875 -1.421875 33.015625 -1.421875 \r\nQ 20.359375 -1.421875 13.671875 8.265625 \r\nQ 6.984375 17.96875 6.984375 36.375 \r\nQ 6.984375 53.65625 15.1875 63.9375 \r\nQ 23.390625 74.21875 37.203125 74.21875 \r\nQ 40.921875 74.21875 44.703125 73.484375 \r\nQ 48.484375 72.75 52.59375 71.296875 \r\nz\r\n\" id=\"DejaVuSans-54\"/>\r\n       </defs>\r\n       <use xlink:href=\"#DejaVuSans-50\"/>\r\n       <use x=\"63.623047\" xlink:href=\"#DejaVuSans-48\"/>\r\n       <use x=\"127.246094\" xlink:href=\"#DejaVuSans-49\"/>\r\n       <use x=\"190.869141\" xlink:href=\"#DejaVuSans-54\"/>\r\n      </g>\r\n     </g>\r\n    </g>\r\n    <g id=\"xtick_5\">\r\n     <g id=\"line2d_5\">\r\n      <g>\r\n       <use style=\"stroke:#000000;stroke-width:0.8;\" x=\"223.222115\" xlink:href=\"#mdcce166638\" y=\"224.64\"/>\r\n      </g>\r\n     </g>\r\n     <g id=\"text_5\">\r\n      <!-- 2017 -->\r\n      <g transform=\"translate(210.497115 239.238438)scale(0.1 -0.1)\">\r\n       <defs>\r\n        <path d=\"M 8.203125 72.90625 \r\nL 55.078125 72.90625 \r\nL 55.078125 68.703125 \r\nL 28.609375 0 \r\nL 18.3125 0 \r\nL 43.21875 64.59375 \r\nL 8.203125 64.59375 \r\nz\r\n\" id=\"DejaVuSans-55\"/>\r\n       </defs>\r\n       <use xlink:href=\"#DejaVuSans-50\"/>\r\n       <use x=\"63.623047\" xlink:href=\"#DejaVuSans-48\"/>\r\n       <use x=\"127.246094\" xlink:href=\"#DejaVuSans-49\"/>\r\n       <use x=\"190.869141\" xlink:href=\"#DejaVuSans-55\"/>\r\n      </g>\r\n     </g>\r\n    </g>\r\n    <g id=\"xtick_6\">\r\n     <g id=\"line2d_6\">\r\n      <g>\r\n       <use style=\"stroke:#000000;stroke-width:0.8;\" x=\"261.852885\" xlink:href=\"#mdcce166638\" y=\"224.64\"/>\r\n      </g>\r\n     </g>\r\n     <g id=\"text_6\">\r\n      <!-- 2018 -->\r\n      <g transform=\"translate(249.127885 239.238438)scale(0.1 -0.1)\">\r\n       <defs>\r\n        <path d=\"M 31.78125 34.625 \r\nQ 24.75 34.625 20.71875 30.859375 \r\nQ 16.703125 27.09375 16.703125 20.515625 \r\nQ 16.703125 13.921875 20.71875 10.15625 \r\nQ 24.75 6.390625 31.78125 6.390625 \r\nQ 38.8125 6.390625 42.859375 10.171875 \r\nQ 46.921875 13.96875 46.921875 20.515625 \r\nQ 46.921875 27.09375 42.890625 30.859375 \r\nQ 38.875 34.625 31.78125 34.625 \r\nz\r\nM 21.921875 38.8125 \r\nQ 15.578125 40.375 12.03125 44.71875 \r\nQ 8.5 49.078125 8.5 55.328125 \r\nQ 8.5 64.0625 14.71875 69.140625 \r\nQ 20.953125 74.21875 31.78125 74.21875 \r\nQ 42.671875 74.21875 48.875 69.140625 \r\nQ 55.078125 64.0625 55.078125 55.328125 \r\nQ 55.078125 49.078125 51.53125 44.71875 \r\nQ 48 40.375 41.703125 38.8125 \r\nQ 48.828125 37.15625 52.796875 32.3125 \r\nQ 56.78125 27.484375 56.78125 20.515625 \r\nQ 56.78125 9.90625 50.3125 4.234375 \r\nQ 43.84375 -1.421875 31.78125 -1.421875 \r\nQ 19.734375 -1.421875 13.25 4.234375 \r\nQ 6.78125 9.90625 6.78125 20.515625 \r\nQ 6.78125 27.484375 10.78125 32.3125 \r\nQ 14.796875 37.15625 21.921875 38.8125 \r\nz\r\nM 18.3125 54.390625 \r\nQ 18.3125 48.734375 21.84375 45.5625 \r\nQ 25.390625 42.390625 31.78125 42.390625 \r\nQ 38.140625 42.390625 41.71875 45.5625 \r\nQ 45.3125 48.734375 45.3125 54.390625 \r\nQ 45.3125 60.0625 41.71875 63.234375 \r\nQ 38.140625 66.40625 31.78125 66.40625 \r\nQ 25.390625 66.40625 21.84375 63.234375 \r\nQ 18.3125 60.0625 18.3125 54.390625 \r\nz\r\n\" id=\"DejaVuSans-56\"/>\r\n       </defs>\r\n       <use xlink:href=\"#DejaVuSans-50\"/>\r\n       <use x=\"63.623047\" xlink:href=\"#DejaVuSans-48\"/>\r\n       <use x=\"127.246094\" xlink:href=\"#DejaVuSans-49\"/>\r\n       <use x=\"190.869141\" xlink:href=\"#DejaVuSans-56\"/>\r\n      </g>\r\n     </g>\r\n    </g>\r\n    <g id=\"xtick_7\">\r\n     <g id=\"line2d_7\">\r\n      <g>\r\n       <use style=\"stroke:#000000;stroke-width:0.8;\" x=\"300.483654\" xlink:href=\"#mdcce166638\" y=\"224.64\"/>\r\n      </g>\r\n     </g>\r\n     <g id=\"text_7\">\r\n      <!-- 2019 -->\r\n      <g transform=\"translate(287.758654 239.238438)scale(0.1 -0.1)\">\r\n       <defs>\r\n        <path d=\"M 10.984375 1.515625 \r\nL 10.984375 10.5 \r\nQ 14.703125 8.734375 18.5 7.8125 \r\nQ 22.3125 6.890625 25.984375 6.890625 \r\nQ 35.75 6.890625 40.890625 13.453125 \r\nQ 46.046875 20.015625 46.78125 33.40625 \r\nQ 43.953125 29.203125 39.59375 26.953125 \r\nQ 35.25 24.703125 29.984375 24.703125 \r\nQ 19.046875 24.703125 12.671875 31.3125 \r\nQ 6.296875 37.9375 6.296875 49.421875 \r\nQ 6.296875 60.640625 12.9375 67.421875 \r\nQ 19.578125 74.21875 30.609375 74.21875 \r\nQ 43.265625 74.21875 49.921875 64.515625 \r\nQ 56.59375 54.828125 56.59375 36.375 \r\nQ 56.59375 19.140625 48.40625 8.859375 \r\nQ 40.234375 -1.421875 26.421875 -1.421875 \r\nQ 22.703125 -1.421875 18.890625 -0.6875 \r\nQ 15.09375 0.046875 10.984375 1.515625 \r\nz\r\nM 30.609375 32.421875 \r\nQ 37.25 32.421875 41.125 36.953125 \r\nQ 45.015625 41.5 45.015625 49.421875 \r\nQ 45.015625 57.28125 41.125 61.84375 \r\nQ 37.25 66.40625 30.609375 66.40625 \r\nQ 23.96875 66.40625 20.09375 61.84375 \r\nQ 16.21875 57.28125 16.21875 49.421875 \r\nQ 16.21875 41.5 20.09375 36.953125 \r\nQ 23.96875 32.421875 30.609375 32.421875 \r\nz\r\n\" id=\"DejaVuSans-57\"/>\r\n       </defs>\r\n       <use xlink:href=\"#DejaVuSans-50\"/>\r\n       <use x=\"63.623047\" xlink:href=\"#DejaVuSans-48\"/>\r\n       <use x=\"127.246094\" xlink:href=\"#DejaVuSans-49\"/>\r\n       <use x=\"190.869141\" xlink:href=\"#DejaVuSans-57\"/>\r\n      </g>\r\n     </g>\r\n    </g>\r\n    <g id=\"xtick_8\">\r\n     <g id=\"line2d_8\">\r\n      <g>\r\n       <use style=\"stroke:#000000;stroke-width:0.8;\" x=\"339.114423\" xlink:href=\"#mdcce166638\" y=\"224.64\"/>\r\n      </g>\r\n     </g>\r\n     <g id=\"text_8\">\r\n      <!-- 2020 -->\r\n      <g transform=\"translate(326.389423 239.238438)scale(0.1 -0.1)\">\r\n       <use xlink:href=\"#DejaVuSans-50\"/>\r\n       <use x=\"63.623047\" xlink:href=\"#DejaVuSans-48\"/>\r\n       <use x=\"127.246094\" xlink:href=\"#DejaVuSans-50\"/>\r\n       <use x=\"190.869141\" xlink:href=\"#DejaVuSans-48\"/>\r\n      </g>\r\n     </g>\r\n    </g>\r\n    <g id=\"xtick_9\">\r\n     <g id=\"line2d_9\">\r\n      <defs>\r\n       <path d=\"M 0 0 \r\nL 0 2 \r\n\" id=\"m1c4e03d635\" style=\"stroke:#000000;stroke-width:0.6;\"/>\r\n      </defs>\r\n      <g>\r\n       <use style=\"stroke:#000000;stroke-width:0.6;\" x=\"39.725962\" xlink:href=\"#m1c4e03d635\" y=\"224.64\"/>\r\n      </g>\r\n     </g>\r\n    </g>\r\n    <g id=\"xtick_10\">\r\n     <g id=\"line2d_10\">\r\n      <g>\r\n       <use style=\"stroke:#000000;stroke-width:0.6;\" x=\"49.383654\" xlink:href=\"#m1c4e03d635\" y=\"224.64\"/>\r\n      </g>\r\n     </g>\r\n    </g>\r\n    <g id=\"xtick_11\">\r\n     <g id=\"line2d_11\">\r\n      <g>\r\n       <use style=\"stroke:#000000;stroke-width:0.6;\" x=\"59.041346\" xlink:href=\"#m1c4e03d635\" y=\"224.64\"/>\r\n      </g>\r\n     </g>\r\n    </g>\r\n    <g id=\"xtick_12\">\r\n     <g id=\"line2d_12\">\r\n      <g>\r\n       <use style=\"stroke:#000000;stroke-width:0.6;\" x=\"78.356731\" xlink:href=\"#m1c4e03d635\" y=\"224.64\"/>\r\n      </g>\r\n     </g>\r\n    </g>\r\n    <g id=\"xtick_13\">\r\n     <g id=\"line2d_13\">\r\n      <g>\r\n       <use style=\"stroke:#000000;stroke-width:0.6;\" x=\"88.014423\" xlink:href=\"#m1c4e03d635\" y=\"224.64\"/>\r\n      </g>\r\n     </g>\r\n    </g>\r\n    <g id=\"xtick_14\">\r\n     <g id=\"line2d_14\">\r\n      <g>\r\n       <use style=\"stroke:#000000;stroke-width:0.6;\" x=\"97.672115\" xlink:href=\"#m1c4e03d635\" y=\"224.64\"/>\r\n      </g>\r\n     </g>\r\n    </g>\r\n    <g id=\"xtick_15\">\r\n     <g id=\"line2d_15\">\r\n      <g>\r\n       <use style=\"stroke:#000000;stroke-width:0.6;\" x=\"116.9875\" xlink:href=\"#m1c4e03d635\" y=\"224.64\"/>\r\n      </g>\r\n     </g>\r\n    </g>\r\n    <g id=\"xtick_16\">\r\n     <g id=\"line2d_16\">\r\n      <g>\r\n       <use style=\"stroke:#000000;stroke-width:0.6;\" x=\"126.645192\" xlink:href=\"#m1c4e03d635\" y=\"224.64\"/>\r\n      </g>\r\n     </g>\r\n    </g>\r\n    <g id=\"xtick_17\">\r\n     <g id=\"line2d_17\">\r\n      <g>\r\n       <use style=\"stroke:#000000;stroke-width:0.6;\" x=\"136.302885\" xlink:href=\"#m1c4e03d635\" y=\"224.64\"/>\r\n      </g>\r\n     </g>\r\n    </g>\r\n    <g id=\"xtick_18\">\r\n     <g id=\"line2d_18\">\r\n      <g>\r\n       <use style=\"stroke:#000000;stroke-width:0.6;\" x=\"155.618269\" xlink:href=\"#m1c4e03d635\" y=\"224.64\"/>\r\n      </g>\r\n     </g>\r\n    </g>\r\n    <g id=\"xtick_19\">\r\n     <g id=\"line2d_19\">\r\n      <g>\r\n       <use style=\"stroke:#000000;stroke-width:0.6;\" x=\"165.275962\" xlink:href=\"#m1c4e03d635\" y=\"224.64\"/>\r\n      </g>\r\n     </g>\r\n    </g>\r\n    <g id=\"xtick_20\">\r\n     <g id=\"line2d_20\">\r\n      <g>\r\n       <use style=\"stroke:#000000;stroke-width:0.6;\" x=\"174.933654\" xlink:href=\"#m1c4e03d635\" y=\"224.64\"/>\r\n      </g>\r\n     </g>\r\n    </g>\r\n    <g id=\"xtick_21\">\r\n     <g id=\"line2d_21\">\r\n      <g>\r\n       <use style=\"stroke:#000000;stroke-width:0.6;\" x=\"194.249038\" xlink:href=\"#m1c4e03d635\" y=\"224.64\"/>\r\n      </g>\r\n     </g>\r\n    </g>\r\n    <g id=\"xtick_22\">\r\n     <g id=\"line2d_22\">\r\n      <g>\r\n       <use style=\"stroke:#000000;stroke-width:0.6;\" x=\"203.906731\" xlink:href=\"#m1c4e03d635\" y=\"224.64\"/>\r\n      </g>\r\n     </g>\r\n    </g>\r\n    <g id=\"xtick_23\">\r\n     <g id=\"line2d_23\">\r\n      <g>\r\n       <use style=\"stroke:#000000;stroke-width:0.6;\" x=\"213.564423\" xlink:href=\"#m1c4e03d635\" y=\"224.64\"/>\r\n      </g>\r\n     </g>\r\n    </g>\r\n    <g id=\"xtick_24\">\r\n     <g id=\"line2d_24\">\r\n      <g>\r\n       <use style=\"stroke:#000000;stroke-width:0.6;\" x=\"232.879808\" xlink:href=\"#m1c4e03d635\" y=\"224.64\"/>\r\n      </g>\r\n     </g>\r\n    </g>\r\n    <g id=\"xtick_25\">\r\n     <g id=\"line2d_25\">\r\n      <g>\r\n       <use style=\"stroke:#000000;stroke-width:0.6;\" x=\"242.5375\" xlink:href=\"#m1c4e03d635\" y=\"224.64\"/>\r\n      </g>\r\n     </g>\r\n    </g>\r\n    <g id=\"xtick_26\">\r\n     <g id=\"line2d_26\">\r\n      <g>\r\n       <use style=\"stroke:#000000;stroke-width:0.6;\" x=\"252.195192\" xlink:href=\"#m1c4e03d635\" y=\"224.64\"/>\r\n      </g>\r\n     </g>\r\n    </g>\r\n    <g id=\"xtick_27\">\r\n     <g id=\"line2d_27\">\r\n      <g>\r\n       <use style=\"stroke:#000000;stroke-width:0.6;\" x=\"271.510577\" xlink:href=\"#m1c4e03d635\" y=\"224.64\"/>\r\n      </g>\r\n     </g>\r\n    </g>\r\n    <g id=\"xtick_28\">\r\n     <g id=\"line2d_28\">\r\n      <g>\r\n       <use style=\"stroke:#000000;stroke-width:0.6;\" x=\"281.168269\" xlink:href=\"#m1c4e03d635\" y=\"224.64\"/>\r\n      </g>\r\n     </g>\r\n    </g>\r\n    <g id=\"xtick_29\">\r\n     <g id=\"line2d_29\">\r\n      <g>\r\n       <use style=\"stroke:#000000;stroke-width:0.6;\" x=\"290.825962\" xlink:href=\"#m1c4e03d635\" y=\"224.64\"/>\r\n      </g>\r\n     </g>\r\n    </g>\r\n    <g id=\"xtick_30\">\r\n     <g id=\"line2d_30\">\r\n      <g>\r\n       <use style=\"stroke:#000000;stroke-width:0.6;\" x=\"310.141346\" xlink:href=\"#m1c4e03d635\" y=\"224.64\"/>\r\n      </g>\r\n     </g>\r\n    </g>\r\n    <g id=\"xtick_31\">\r\n     <g id=\"line2d_31\">\r\n      <g>\r\n       <use style=\"stroke:#000000;stroke-width:0.6;\" x=\"319.799038\" xlink:href=\"#m1c4e03d635\" y=\"224.64\"/>\r\n      </g>\r\n     </g>\r\n    </g>\r\n    <g id=\"xtick_32\">\r\n     <g id=\"line2d_32\">\r\n      <g>\r\n       <use style=\"stroke:#000000;stroke-width:0.6;\" x=\"329.456731\" xlink:href=\"#m1c4e03d635\" y=\"224.64\"/>\r\n      </g>\r\n     </g>\r\n    </g>\r\n    <g id=\"xtick_33\">\r\n     <g id=\"line2d_33\">\r\n      <g>\r\n       <use style=\"stroke:#000000;stroke-width:0.6;\" x=\"348.772115\" xlink:href=\"#m1c4e03d635\" y=\"224.64\"/>\r\n      </g>\r\n     </g>\r\n    </g>\r\n    <g id=\"xtick_34\">\r\n     <g id=\"line2d_34\">\r\n      <g>\r\n       <use style=\"stroke:#000000;stroke-width:0.6;\" x=\"358.429808\" xlink:href=\"#m1c4e03d635\" y=\"224.64\"/>\r\n      </g>\r\n     </g>\r\n    </g>\r\n    <g id=\"xtick_35\">\r\n     <g id=\"line2d_35\">\r\n      <g>\r\n       <use style=\"stroke:#000000;stroke-width:0.6;\" x=\"368.0875\" xlink:href=\"#m1c4e03d635\" y=\"224.64\"/>\r\n      </g>\r\n     </g>\r\n    </g>\r\n    <g id=\"text_9\">\r\n     <!-- Month_of_Period_End -->\r\n     <g transform=\"translate(147.60625 252.916562)scale(0.1 -0.1)\">\r\n      <defs>\r\n       <path d=\"M 9.8125 72.90625 \r\nL 24.515625 72.90625 \r\nL 43.109375 23.296875 \r\nL 61.8125 72.90625 \r\nL 76.515625 72.90625 \r\nL 76.515625 0 \r\nL 66.890625 0 \r\nL 66.890625 64.015625 \r\nL 48.09375 14.015625 \r\nL 38.1875 14.015625 \r\nL 19.390625 64.015625 \r\nL 19.390625 0 \r\nL 9.8125 0 \r\nz\r\n\" id=\"DejaVuSans-77\"/>\r\n       <path d=\"M 30.609375 48.390625 \r\nQ 23.390625 48.390625 19.1875 42.75 \r\nQ 14.984375 37.109375 14.984375 27.296875 \r\nQ 14.984375 17.484375 19.15625 11.84375 \r\nQ 23.34375 6.203125 30.609375 6.203125 \r\nQ 37.796875 6.203125 41.984375 11.859375 \r\nQ 46.1875 17.53125 46.1875 27.296875 \r\nQ 46.1875 37.015625 41.984375 42.703125 \r\nQ 37.796875 48.390625 30.609375 48.390625 \r\nz\r\nM 30.609375 56 \r\nQ 42.328125 56 49.015625 48.375 \r\nQ 55.71875 40.765625 55.71875 27.296875 \r\nQ 55.71875 13.875 49.015625 6.21875 \r\nQ 42.328125 -1.421875 30.609375 -1.421875 \r\nQ 18.84375 -1.421875 12.171875 6.21875 \r\nQ 5.515625 13.875 5.515625 27.296875 \r\nQ 5.515625 40.765625 12.171875 48.375 \r\nQ 18.84375 56 30.609375 56 \r\nz\r\n\" id=\"DejaVuSans-111\"/>\r\n       <path d=\"M 54.890625 33.015625 \r\nL 54.890625 0 \r\nL 45.90625 0 \r\nL 45.90625 32.71875 \r\nQ 45.90625 40.484375 42.875 44.328125 \r\nQ 39.84375 48.1875 33.796875 48.1875 \r\nQ 26.515625 48.1875 22.3125 43.546875 \r\nQ 18.109375 38.921875 18.109375 30.90625 \r\nL 18.109375 0 \r\nL 9.078125 0 \r\nL 9.078125 54.6875 \r\nL 18.109375 54.6875 \r\nL 18.109375 46.1875 \r\nQ 21.34375 51.125 25.703125 53.5625 \r\nQ 30.078125 56 35.796875 56 \r\nQ 45.21875 56 50.046875 50.171875 \r\nQ 54.890625 44.34375 54.890625 33.015625 \r\nz\r\n\" id=\"DejaVuSans-110\"/>\r\n       <path d=\"M 18.3125 70.21875 \r\nL 18.3125 54.6875 \r\nL 36.8125 54.6875 \r\nL 36.8125 47.703125 \r\nL 18.3125 47.703125 \r\nL 18.3125 18.015625 \r\nQ 18.3125 11.328125 20.140625 9.421875 \r\nQ 21.96875 7.515625 27.59375 7.515625 \r\nL 36.8125 7.515625 \r\nL 36.8125 0 \r\nL 27.59375 0 \r\nQ 17.1875 0 13.234375 3.875 \r\nQ 9.28125 7.765625 9.28125 18.015625 \r\nL 9.28125 47.703125 \r\nL 2.6875 47.703125 \r\nL 2.6875 54.6875 \r\nL 9.28125 54.6875 \r\nL 9.28125 70.21875 \r\nz\r\n\" id=\"DejaVuSans-116\"/>\r\n       <path d=\"M 54.890625 33.015625 \r\nL 54.890625 0 \r\nL 45.90625 0 \r\nL 45.90625 32.71875 \r\nQ 45.90625 40.484375 42.875 44.328125 \r\nQ 39.84375 48.1875 33.796875 48.1875 \r\nQ 26.515625 48.1875 22.3125 43.546875 \r\nQ 18.109375 38.921875 18.109375 30.90625 \r\nL 18.109375 0 \r\nL 9.078125 0 \r\nL 9.078125 75.984375 \r\nL 18.109375 75.984375 \r\nL 18.109375 46.1875 \r\nQ 21.34375 51.125 25.703125 53.5625 \r\nQ 30.078125 56 35.796875 56 \r\nQ 45.21875 56 50.046875 50.171875 \r\nQ 54.890625 44.34375 54.890625 33.015625 \r\nz\r\n\" id=\"DejaVuSans-104\"/>\r\n       <path d=\"M 50.984375 -16.609375 \r\nL 50.984375 -23.578125 \r\nL -0.984375 -23.578125 \r\nL -0.984375 -16.609375 \r\nz\r\n\" id=\"DejaVuSans-95\"/>\r\n       <path d=\"M 37.109375 75.984375 \r\nL 37.109375 68.5 \r\nL 28.515625 68.5 \r\nQ 23.6875 68.5 21.796875 66.546875 \r\nQ 19.921875 64.59375 19.921875 59.515625 \r\nL 19.921875 54.6875 \r\nL 34.71875 54.6875 \r\nL 34.71875 47.703125 \r\nL 19.921875 47.703125 \r\nL 19.921875 0 \r\nL 10.890625 0 \r\nL 10.890625 47.703125 \r\nL 2.296875 47.703125 \r\nL 2.296875 54.6875 \r\nL 10.890625 54.6875 \r\nL 10.890625 58.5 \r\nQ 10.890625 67.625 15.140625 71.796875 \r\nQ 19.390625 75.984375 28.609375 75.984375 \r\nz\r\n\" id=\"DejaVuSans-102\"/>\r\n       <path d=\"M 19.671875 64.796875 \r\nL 19.671875 37.40625 \r\nL 32.078125 37.40625 \r\nQ 38.96875 37.40625 42.71875 40.96875 \r\nQ 46.484375 44.53125 46.484375 51.125 \r\nQ 46.484375 57.671875 42.71875 61.234375 \r\nQ 38.96875 64.796875 32.078125 64.796875 \r\nz\r\nM 9.8125 72.90625 \r\nL 32.078125 72.90625 \r\nQ 44.34375 72.90625 50.609375 67.359375 \r\nQ 56.890625 61.8125 56.890625 51.125 \r\nQ 56.890625 40.328125 50.609375 34.8125 \r\nQ 44.34375 29.296875 32.078125 29.296875 \r\nL 19.671875 29.296875 \r\nL 19.671875 0 \r\nL 9.8125 0 \r\nz\r\n\" id=\"DejaVuSans-80\"/>\r\n       <path d=\"M 56.203125 29.59375 \r\nL 56.203125 25.203125 \r\nL 14.890625 25.203125 \r\nQ 15.484375 15.921875 20.484375 11.0625 \r\nQ 25.484375 6.203125 34.421875 6.203125 \r\nQ 39.59375 6.203125 44.453125 7.46875 \r\nQ 49.3125 8.734375 54.109375 11.28125 \r\nL 54.109375 2.78125 \r\nQ 49.265625 0.734375 44.1875 -0.34375 \r\nQ 39.109375 -1.421875 33.890625 -1.421875 \r\nQ 20.796875 -1.421875 13.15625 6.1875 \r\nQ 5.515625 13.8125 5.515625 26.8125 \r\nQ 5.515625 40.234375 12.765625 48.109375 \r\nQ 20.015625 56 32.328125 56 \r\nQ 43.359375 56 49.78125 48.890625 \r\nQ 56.203125 41.796875 56.203125 29.59375 \r\nz\r\nM 47.21875 32.234375 \r\nQ 47.125 39.59375 43.09375 43.984375 \r\nQ 39.0625 48.390625 32.421875 48.390625 \r\nQ 24.90625 48.390625 20.390625 44.140625 \r\nQ 15.875 39.890625 15.1875 32.171875 \r\nz\r\n\" id=\"DejaVuSans-101\"/>\r\n       <path d=\"M 41.109375 46.296875 \r\nQ 39.59375 47.171875 37.8125 47.578125 \r\nQ 36.03125 48 33.890625 48 \r\nQ 26.265625 48 22.1875 43.046875 \r\nQ 18.109375 38.09375 18.109375 28.8125 \r\nL 18.109375 0 \r\nL 9.078125 0 \r\nL 9.078125 54.6875 \r\nL 18.109375 54.6875 \r\nL 18.109375 46.1875 \r\nQ 20.953125 51.171875 25.484375 53.578125 \r\nQ 30.03125 56 36.53125 56 \r\nQ 37.453125 56 38.578125 55.875 \r\nQ 39.703125 55.765625 41.0625 55.515625 \r\nz\r\n\" id=\"DejaVuSans-114\"/>\r\n       <path d=\"M 9.421875 54.6875 \r\nL 18.40625 54.6875 \r\nL 18.40625 0 \r\nL 9.421875 0 \r\nz\r\nM 9.421875 75.984375 \r\nL 18.40625 75.984375 \r\nL 18.40625 64.59375 \r\nL 9.421875 64.59375 \r\nz\r\n\" id=\"DejaVuSans-105\"/>\r\n       <path d=\"M 45.40625 46.390625 \r\nL 45.40625 75.984375 \r\nL 54.390625 75.984375 \r\nL 54.390625 0 \r\nL 45.40625 0 \r\nL 45.40625 8.203125 \r\nQ 42.578125 3.328125 38.25 0.953125 \r\nQ 33.9375 -1.421875 27.875 -1.421875 \r\nQ 17.96875 -1.421875 11.734375 6.484375 \r\nQ 5.515625 14.40625 5.515625 27.296875 \r\nQ 5.515625 40.1875 11.734375 48.09375 \r\nQ 17.96875 56 27.875 56 \r\nQ 33.9375 56 38.25 53.625 \r\nQ 42.578125 51.265625 45.40625 46.390625 \r\nz\r\nM 14.796875 27.296875 \r\nQ 14.796875 17.390625 18.875 11.75 \r\nQ 22.953125 6.109375 30.078125 6.109375 \r\nQ 37.203125 6.109375 41.296875 11.75 \r\nQ 45.40625 17.390625 45.40625 27.296875 \r\nQ 45.40625 37.203125 41.296875 42.84375 \r\nQ 37.203125 48.484375 30.078125 48.484375 \r\nQ 22.953125 48.484375 18.875 42.84375 \r\nQ 14.796875 37.203125 14.796875 27.296875 \r\nz\r\n\" id=\"DejaVuSans-100\"/>\r\n       <path d=\"M 9.8125 72.90625 \r\nL 55.90625 72.90625 \r\nL 55.90625 64.59375 \r\nL 19.671875 64.59375 \r\nL 19.671875 43.015625 \r\nL 54.390625 43.015625 \r\nL 54.390625 34.71875 \r\nL 19.671875 34.71875 \r\nL 19.671875 8.296875 \r\nL 56.78125 8.296875 \r\nL 56.78125 0 \r\nL 9.8125 0 \r\nz\r\n\" id=\"DejaVuSans-69\"/>\r\n      </defs>\r\n      <use xlink:href=\"#DejaVuSans-77\"/>\r\n      <use x=\"86.279297\" xlink:href=\"#DejaVuSans-111\"/>\r\n      <use x=\"147.460938\" xlink:href=\"#DejaVuSans-110\"/>\r\n      <use x=\"210.839844\" xlink:href=\"#DejaVuSans-116\"/>\r\n      <use x=\"250.048828\" xlink:href=\"#DejaVuSans-104\"/>\r\n      <use x=\"313.427734\" xlink:href=\"#DejaVuSans-95\"/>\r\n      <use x=\"363.427734\" xlink:href=\"#DejaVuSans-111\"/>\r\n      <use x=\"424.609375\" xlink:href=\"#DejaVuSans-102\"/>\r\n      <use x=\"459.814453\" xlink:href=\"#DejaVuSans-95\"/>\r\n      <use x=\"509.814453\" xlink:href=\"#DejaVuSans-80\"/>\r\n      <use x=\"566.492188\" xlink:href=\"#DejaVuSans-101\"/>\r\n      <use x=\"628.015625\" xlink:href=\"#DejaVuSans-114\"/>\r\n      <use x=\"669.128906\" xlink:href=\"#DejaVuSans-105\"/>\r\n      <use x=\"696.912109\" xlink:href=\"#DejaVuSans-111\"/>\r\n      <use x=\"758.09375\" xlink:href=\"#DejaVuSans-100\"/>\r\n      <use x=\"821.570312\" xlink:href=\"#DejaVuSans-95\"/>\r\n      <use x=\"871.570312\" xlink:href=\"#DejaVuSans-69\"/>\r\n      <use x=\"934.753906\" xlink:href=\"#DejaVuSans-110\"/>\r\n      <use x=\"998.132812\" xlink:href=\"#DejaVuSans-100\"/>\r\n     </g>\r\n    </g>\r\n   </g>\r\n   <g id=\"matplotlib.axis_2\">\r\n    <g id=\"ytick_1\">\r\n     <g id=\"line2d_36\">\r\n      <defs>\r\n       <path d=\"M 0 0 \r\nL -3.5 0 \r\n\" id=\"mc2d639d453\" style=\"stroke:#000000;stroke-width:0.8;\"/>\r\n      </defs>\r\n      <g>\r\n       <use style=\"stroke:#000000;stroke-width:0.8;\" x=\"33.2875\" xlink:href=\"#mc2d639d453\" y=\"214.756364\"/>\r\n      </g>\r\n     </g>\r\n     <g id=\"text_10\">\r\n      <!-- 300 -->\r\n      <g transform=\"translate(7.2 218.555582)scale(0.1 -0.1)\">\r\n       <use xlink:href=\"#DejaVuSans-51\"/>\r\n       <use x=\"63.623047\" xlink:href=\"#DejaVuSans-48\"/>\r\n       <use x=\"127.246094\" xlink:href=\"#DejaVuSans-48\"/>\r\n      </g>\r\n     </g>\r\n    </g>\r\n    <g id=\"ytick_2\">\r\n     <g id=\"line2d_37\">\r\n      <g>\r\n       <use style=\"stroke:#000000;stroke-width:0.8;\" x=\"33.2875\" xlink:href=\"#mc2d639d453\" y=\"184.345175\"/>\r\n      </g>\r\n     </g>\r\n     <g id=\"text_11\">\r\n      <!-- 350 -->\r\n      <g transform=\"translate(7.2 188.144394)scale(0.1 -0.1)\">\r\n       <use xlink:href=\"#DejaVuSans-51\"/>\r\n       <use x=\"63.623047\" xlink:href=\"#DejaVuSans-53\"/>\r\n       <use x=\"127.246094\" xlink:href=\"#DejaVuSans-48\"/>\r\n      </g>\r\n     </g>\r\n    </g>\r\n    <g id=\"ytick_3\">\r\n     <g id=\"line2d_38\">\r\n      <g>\r\n       <use style=\"stroke:#000000;stroke-width:0.8;\" x=\"33.2875\" xlink:href=\"#mc2d639d453\" y=\"153.933986\"/>\r\n      </g>\r\n     </g>\r\n     <g id=\"text_12\">\r\n      <!-- 400 -->\r\n      <g transform=\"translate(7.2 157.733205)scale(0.1 -0.1)\">\r\n       <use xlink:href=\"#DejaVuSans-52\"/>\r\n       <use x=\"63.623047\" xlink:href=\"#DejaVuSans-48\"/>\r\n       <use x=\"127.246094\" xlink:href=\"#DejaVuSans-48\"/>\r\n      </g>\r\n     </g>\r\n    </g>\r\n    <g id=\"ytick_4\">\r\n     <g id=\"line2d_39\">\r\n      <g>\r\n       <use style=\"stroke:#000000;stroke-width:0.8;\" x=\"33.2875\" xlink:href=\"#mc2d639d453\" y=\"123.522797\"/>\r\n      </g>\r\n     </g>\r\n     <g id=\"text_13\">\r\n      <!-- 450 -->\r\n      <g transform=\"translate(7.2 127.322016)scale(0.1 -0.1)\">\r\n       <use xlink:href=\"#DejaVuSans-52\"/>\r\n       <use x=\"63.623047\" xlink:href=\"#DejaVuSans-53\"/>\r\n       <use x=\"127.246094\" xlink:href=\"#DejaVuSans-48\"/>\r\n      </g>\r\n     </g>\r\n    </g>\r\n    <g id=\"ytick_5\">\r\n     <g id=\"line2d_40\">\r\n      <g>\r\n       <use style=\"stroke:#000000;stroke-width:0.8;\" x=\"33.2875\" xlink:href=\"#mc2d639d453\" y=\"93.111608\"/>\r\n      </g>\r\n     </g>\r\n     <g id=\"text_14\">\r\n      <!-- 500 -->\r\n      <g transform=\"translate(7.2 96.910827)scale(0.1 -0.1)\">\r\n       <use xlink:href=\"#DejaVuSans-53\"/>\r\n       <use x=\"63.623047\" xlink:href=\"#DejaVuSans-48\"/>\r\n       <use x=\"127.246094\" xlink:href=\"#DejaVuSans-48\"/>\r\n      </g>\r\n     </g>\r\n    </g>\r\n    <g id=\"ytick_6\">\r\n     <g id=\"line2d_41\">\r\n      <g>\r\n       <use style=\"stroke:#000000;stroke-width:0.8;\" x=\"33.2875\" xlink:href=\"#mc2d639d453\" y=\"62.70042\"/>\r\n      </g>\r\n     </g>\r\n     <g id=\"text_15\">\r\n      <!-- 550 -->\r\n      <g transform=\"translate(7.2 66.499638)scale(0.1 -0.1)\">\r\n       <use xlink:href=\"#DejaVuSans-53\"/>\r\n       <use x=\"63.623047\" xlink:href=\"#DejaVuSans-53\"/>\r\n       <use x=\"127.246094\" xlink:href=\"#DejaVuSans-48\"/>\r\n      </g>\r\n     </g>\r\n    </g>\r\n    <g id=\"ytick_7\">\r\n     <g id=\"line2d_42\">\r\n      <g>\r\n       <use style=\"stroke:#000000;stroke-width:0.8;\" x=\"33.2875\" xlink:href=\"#mc2d639d453\" y=\"32.289231\"/>\r\n      </g>\r\n     </g>\r\n     <g id=\"text_16\">\r\n      <!-- 600 -->\r\n      <g transform=\"translate(7.2 36.08845)scale(0.1 -0.1)\">\r\n       <use xlink:href=\"#DejaVuSans-54\"/>\r\n       <use x=\"63.623047\" xlink:href=\"#DejaVuSans-48\"/>\r\n       <use x=\"127.246094\" xlink:href=\"#DejaVuSans-48\"/>\r\n      </g>\r\n     </g>\r\n    </g>\r\n   </g>\r\n   <g id=\"line2d_43\">\r\n    <path clip-path=\"url(#p337cd228e0)\" d=\"M 33.2875 180.087608 \r\nL 36.506731 184.345175 \r\nL 39.725962 179.479385 \r\nL 42.945192 139.944839 \r\nL 46.164423 142.377734 \r\nL 49.383654 160.624448 \r\nL 52.602885 196.50965 \r\nL 55.822115 214.756364 \r\nL 59.041346 214.756364 \r\nL 62.260577 214.756364 \r\nL 65.479808 147.851748 \r\nL 68.699038 142.985958 \r\nL 71.918269 147.851748 \r\nL 75.1375 140.553063 \r\nL 78.356731 136.295497 \r\nL 81.575962 146.027077 \r\nL 84.795192 166.098462 \r\nL 88.014423 180.087608 \r\nL 91.233654 163.057343 \r\nL 94.452885 184.345175 \r\nL 97.672115 185.561622 \r\nL 100.891346 187.386294 \r\nL 104.110577 184.345175 \r\nL 107.329808 177.654713 \r\nL 110.549038 156.975105 \r\nL 113.768269 117.440559 \r\nL 116.9875 124.131021 \r\nL 120.206731 163.057343 \r\nL 123.425962 163.057343 \r\nL 126.645192 169.13958 \r\nL 129.864423 169.13958 \r\nL 133.083654 171.572476 \r\nL 136.302885 176.438266 \r\nL 139.522115 178.871161 \r\nL 142.741346 178.262937 \r\nL 145.960577 181.304056 \r\nL 149.179808 175.221818 \r\nL 152.399038 169.13958 \r\nL 155.618269 147.851748 \r\nL 158.8375 167.923133 \r\nL 162.056731 158.191552 \r\nL 165.275962 158.191552 \r\nL 168.495192 147.851748 \r\nL 171.714423 141.76951 \r\nL 174.933654 130.821483 \r\nL 178.152885 130.821483 \r\nL 181.372115 138.728392 \r\nL 184.591346 160.016224 \r\nL 187.810577 143.594182 \r\nL 191.029808 121.089902 \r\nL 194.249038 77.906014 \r\nL 197.468269 82.771804 \r\nL 200.6875 103.451413 \r\nL 203.906731 122.30635 \r\nL 207.125962 129.605035 \r\nL 210.345192 135.687273 \r\nL 213.564423 131.429706 \r\nL 216.783654 120.481678 \r\nL 220.002885 107.100755 \r\nL 223.222115 97.369175 \r\nL 226.441346 91.286937 \r\nL 229.660577 108.317203 \r\nL 232.879808 76.081343 \r\nL 236.099038 59.051077 \r\nL 239.318269 44.453706 \r\nL 242.5375 32.289231 \r\nL 245.756731 32.289231 \r\nL 248.975962 40.804364 \r\nL 252.195192 41.412587 \r\nL 255.414423 50.535944 \r\nL 258.633654 32.289231 \r\nL 261.852885 29.248112 \r\nL 265.072115 19.516531 \r\nL 268.291346 21.341203 \r\nL 271.510577 21.341203 \r\nL 274.729808 20.124755 \r\nL 277.949038 26.206993 \r\nL 281.168269 17.083636 \r\nL 284.3875 41.412587 \r\nL 287.606731 44.453706 \r\nL 290.825962 50.535944 \r\nL 294.045192 26.815217 \r\nL 297.264423 27.423441 \r\nL 300.483654 44.453706 \r\nL 303.702885 56.618182 \r\nL 306.922115 56.618182 \r\nL 310.141346 60.875748 \r\nL 313.360577 59.659301 \r\nL 316.579808 70.607329 \r\nL 319.799038 79.730685 \r\nL 323.018269 71.823776 \r\nL 326.2375 71.823776 \r\nL 329.456731 68.782657 \r\nL 332.675962 87.637594 \r\nL 335.895192 77.906014 \r\nL 339.114423 78.514238 \r\nL 342.333654 71.823776 \r\nL 345.552885 66.957986 \r\nL 348.772115 45.06193 \r\nL 351.991346 65.133315 \r\nL 355.210577 61.483972 \r\nL 358.429808 66.957986 \r\nL 361.649038 63.308643 \r\nL 364.868269 62.70042 \r\nL 368.0875 20.124755 \r\n\" style=\"fill:none;stroke:#1f77b4;stroke-linecap:square;stroke-width:1.5;\"/>\r\n   </g>\r\n   <g id=\"patch_3\">\r\n    <path d=\"M 33.2875 224.64 \r\nL 33.2875 7.2 \r\n\" style=\"fill:none;stroke:#000000;stroke-linecap:square;stroke-linejoin:miter;stroke-width:0.8;\"/>\r\n   </g>\r\n   <g id=\"patch_4\">\r\n    <path d=\"M 368.0875 224.64 \r\nL 368.0875 7.2 \r\n\" style=\"fill:none;stroke:#000000;stroke-linecap:square;stroke-linejoin:miter;stroke-width:0.8;\"/>\r\n   </g>\r\n   <g id=\"patch_5\">\r\n    <path d=\"M 33.2875 224.64 \r\nL 368.0875 224.64 \r\n\" style=\"fill:none;stroke:#000000;stroke-linecap:square;stroke-linejoin:miter;stroke-width:0.8;\"/>\r\n   </g>\r\n   <g id=\"patch_6\">\r\n    <path d=\"M 33.2875 7.2 \r\nL 368.0875 7.2 \r\n\" style=\"fill:none;stroke:#000000;stroke-linecap:square;stroke-linejoin:miter;stroke-width:0.8;\"/>\r\n   </g>\r\n   <g id=\"legend_1\">\r\n    <g id=\"patch_7\">\r\n     <path d=\"M 40.2875 30.15625 \r\nL 164.464063 30.15625 \r\nQ 166.464063 30.15625 166.464063 28.15625 \r\nL 166.464063 14.2 \r\nQ 166.464063 12.2 164.464063 12.2 \r\nL 40.2875 12.2 \r\nQ 38.2875 12.2 38.2875 14.2 \r\nL 38.2875 28.15625 \r\nQ 38.2875 30.15625 40.2875 30.15625 \r\nz\r\n\" style=\"fill:#ffffff;opacity:0.8;stroke:#cccccc;stroke-linejoin:miter;\"/>\r\n    </g>\r\n    <g id=\"line2d_44\">\r\n     <path d=\"M 42.2875 20.298438 \r\nL 62.2875 20.298438 \r\n\" style=\"fill:none;stroke:#1f77b4;stroke-linecap:square;stroke-width:1.5;\"/>\r\n    </g>\r\n    <g id=\"line2d_45\"/>\r\n    <g id=\"text_17\">\r\n     <!-- Median_Sale_Price -->\r\n     <g transform=\"translate(70.2875 23.798438)scale(0.1 -0.1)\">\r\n      <defs>\r\n       <path d=\"M 34.28125 27.484375 \r\nQ 23.390625 27.484375 19.1875 25 \r\nQ 14.984375 22.515625 14.984375 16.5 \r\nQ 14.984375 11.71875 18.140625 8.90625 \r\nQ 21.296875 6.109375 26.703125 6.109375 \r\nQ 34.1875 6.109375 38.703125 11.40625 \r\nQ 43.21875 16.703125 43.21875 25.484375 \r\nL 43.21875 27.484375 \r\nz\r\nM 52.203125 31.203125 \r\nL 52.203125 0 \r\nL 43.21875 0 \r\nL 43.21875 8.296875 \r\nQ 40.140625 3.328125 35.546875 0.953125 \r\nQ 30.953125 -1.421875 24.3125 -1.421875 \r\nQ 15.921875 -1.421875 10.953125 3.296875 \r\nQ 6 8.015625 6 15.921875 \r\nQ 6 25.140625 12.171875 29.828125 \r\nQ 18.359375 34.515625 30.609375 34.515625 \r\nL 43.21875 34.515625 \r\nL 43.21875 35.40625 \r\nQ 43.21875 41.609375 39.140625 45 \r\nQ 35.0625 48.390625 27.6875 48.390625 \r\nQ 23 48.390625 18.546875 47.265625 \r\nQ 14.109375 46.140625 10.015625 43.890625 \r\nL 10.015625 52.203125 \r\nQ 14.9375 54.109375 19.578125 55.046875 \r\nQ 24.21875 56 28.609375 56 \r\nQ 40.484375 56 46.34375 49.84375 \r\nQ 52.203125 43.703125 52.203125 31.203125 \r\nz\r\n\" id=\"DejaVuSans-97\"/>\r\n       <path d=\"M 53.515625 70.515625 \r\nL 53.515625 60.890625 \r\nQ 47.90625 63.578125 42.921875 64.890625 \r\nQ 37.9375 66.21875 33.296875 66.21875 \r\nQ 25.25 66.21875 20.875 63.09375 \r\nQ 16.5 59.96875 16.5 54.203125 \r\nQ 16.5 49.359375 19.40625 46.890625 \r\nQ 22.3125 44.4375 30.421875 42.921875 \r\nL 36.375 41.703125 \r\nQ 47.40625 39.59375 52.65625 34.296875 \r\nQ 57.90625 29 57.90625 20.125 \r\nQ 57.90625 9.515625 50.796875 4.046875 \r\nQ 43.703125 -1.421875 29.984375 -1.421875 \r\nQ 24.8125 -1.421875 18.96875 -0.25 \r\nQ 13.140625 0.921875 6.890625 3.21875 \r\nL 6.890625 13.375 \r\nQ 12.890625 10.015625 18.65625 8.296875 \r\nQ 24.421875 6.59375 29.984375 6.59375 \r\nQ 38.421875 6.59375 43.015625 9.90625 \r\nQ 47.609375 13.234375 47.609375 19.390625 \r\nQ 47.609375 24.75 44.3125 27.78125 \r\nQ 41.015625 30.8125 33.5 32.328125 \r\nL 27.484375 33.5 \r\nQ 16.453125 35.6875 11.515625 40.375 \r\nQ 6.59375 45.0625 6.59375 53.421875 \r\nQ 6.59375 63.09375 13.40625 68.65625 \r\nQ 20.21875 74.21875 32.171875 74.21875 \r\nQ 37.3125 74.21875 42.625 73.28125 \r\nQ 47.953125 72.359375 53.515625 70.515625 \r\nz\r\n\" id=\"DejaVuSans-83\"/>\r\n       <path d=\"M 9.421875 75.984375 \r\nL 18.40625 75.984375 \r\nL 18.40625 0 \r\nL 9.421875 0 \r\nz\r\n\" id=\"DejaVuSans-108\"/>\r\n       <path d=\"M 48.78125 52.59375 \r\nL 48.78125 44.1875 \r\nQ 44.96875 46.296875 41.140625 47.34375 \r\nQ 37.3125 48.390625 33.40625 48.390625 \r\nQ 24.65625 48.390625 19.8125 42.84375 \r\nQ 14.984375 37.3125 14.984375 27.296875 \r\nQ 14.984375 17.28125 19.8125 11.734375 \r\nQ 24.65625 6.203125 33.40625 6.203125 \r\nQ 37.3125 6.203125 41.140625 7.25 \r\nQ 44.96875 8.296875 48.78125 10.40625 \r\nL 48.78125 2.09375 \r\nQ 45.015625 0.34375 40.984375 -0.53125 \r\nQ 36.96875 -1.421875 32.421875 -1.421875 \r\nQ 20.0625 -1.421875 12.78125 6.34375 \r\nQ 5.515625 14.109375 5.515625 27.296875 \r\nQ 5.515625 40.671875 12.859375 48.328125 \r\nQ 20.21875 56 33.015625 56 \r\nQ 37.15625 56 41.109375 55.140625 \r\nQ 45.0625 54.296875 48.78125 52.59375 \r\nz\r\n\" id=\"DejaVuSans-99\"/>\r\n      </defs>\r\n      <use xlink:href=\"#DejaVuSans-77\"/>\r\n      <use x=\"86.279297\" xlink:href=\"#DejaVuSans-101\"/>\r\n      <use x=\"147.802734\" xlink:href=\"#DejaVuSans-100\"/>\r\n      <use x=\"211.279297\" xlink:href=\"#DejaVuSans-105\"/>\r\n      <use x=\"239.0625\" xlink:href=\"#DejaVuSans-97\"/>\r\n      <use x=\"300.341797\" xlink:href=\"#DejaVuSans-110\"/>\r\n      <use x=\"363.720703\" xlink:href=\"#DejaVuSans-95\"/>\r\n      <use x=\"413.720703\" xlink:href=\"#DejaVuSans-83\"/>\r\n      <use x=\"477.197266\" xlink:href=\"#DejaVuSans-97\"/>\r\n      <use x=\"538.476562\" xlink:href=\"#DejaVuSans-108\"/>\r\n      <use x=\"566.259766\" xlink:href=\"#DejaVuSans-101\"/>\r\n      <use x=\"627.783203\" xlink:href=\"#DejaVuSans-95\"/>\r\n      <use x=\"677.783203\" xlink:href=\"#DejaVuSans-80\"/>\r\n      <use x=\"736.335938\" xlink:href=\"#DejaVuSans-114\"/>\r\n      <use x=\"777.449219\" xlink:href=\"#DejaVuSans-105\"/>\r\n      <use x=\"805.232422\" xlink:href=\"#DejaVuSans-99\"/>\r\n      <use x=\"860.212891\" xlink:href=\"#DejaVuSans-101\"/>\r\n     </g>\r\n    </g>\r\n   </g>\r\n  </g>\r\n </g>\r\n <defs>\r\n  <clipPath id=\"p337cd228e0\">\r\n   <rect height=\"217.44\" width=\"334.8\" x=\"33.2875\" y=\"7.2\"/>\r\n  </clipPath>\r\n </defs>\r\n</svg>\r\n",
      "image/png": "[encoded data removed]"
     },
     "metadata": {
      "needs_background": "light"
     }
    }
   ],
   "source": [
    "#belltown_df[\"Median Sale Price\",\"Year\"].plot()\n",
    "\n",
    "belltown_df.plot(y=\"Median_Sale_Price\", x=\"Month_of_Period_End\", kind=\"line\")"
   ]
  },
  {
   "cell_type": "code",
   "execution_count": 54,
   "metadata": {},
   "outputs": [
    {
     "output_type": "execute_result",
     "data": {
      "text/plain": [
       "(-0.7513717688393359,\n",
       " 0.8329907730802779,\n",
       " 3,\n",
       " 101,\n",
       " {'1%': -3.4968181663902103,\n",
       "  '5%': -2.8906107514600103,\n",
       "  '10%': -2.5822770483285953},\n",
       " 833.365488387235)"
      ]
     },
     "metadata": {},
     "execution_count": 54
    }
   ],
   "source": [
    "from statsmodels.tsa.stattools import adfuller\n",
    "adfuller(belltown_df.Median_Sale_Price)"
   ]
  },
  {
   "cell_type": "code",
   "execution_count": 55,
   "metadata": {},
   "outputs": [],
   "source": [
    "belltown_df['Returns'] = belltown_df.Median_Sale_Price.pct_change()\n",
    "belltown_df = belltown_df.dropna()"
   ]
  },
  {
   "cell_type": "code",
   "execution_count": 56,
   "metadata": {},
   "outputs": [
    {
     "output_type": "execute_result",
     "data": {
      "text/plain": [
       "           Original\n",
       "Region             \n",
       " Belltown  0.020992\n",
       " Belltown  0.014953\n",
       " Belltown  0.066298\n",
       " Belltown -0.056995\n",
       " Belltown  0.010989\n",
       " Belltown -0.016304\n",
       " Belltown  0.011050\n",
       " Belltown  0.001821\n",
       " Belltown  0.127273"
      ],
      "text/html": "<div>\n<style scoped>\n    .dataframe tbody tr th:only-of-type {\n        vertical-align: middle;\n    }\n\n    .dataframe tbody tr th {\n        vertical-align: top;\n    }\n\n    .dataframe thead th {\n        text-align: right;\n    }\n</style>\n<table border=\"1\" class=\"dataframe\">\n  <thead>\n    <tr style=\"text-align: right;\">\n      <th></th>\n      <th>Original</th>\n    </tr>\n    <tr>\n      <th>Region</th>\n      <th></th>\n    </tr>\n  </thead>\n  <tbody>\n    <tr>\n      <th>Belltown</th>\n      <td>0.020992</td>\n    </tr>\n    <tr>\n      <th>Belltown</th>\n      <td>0.014953</td>\n    </tr>\n    <tr>\n      <th>Belltown</th>\n      <td>0.066298</td>\n    </tr>\n    <tr>\n      <th>Belltown</th>\n      <td>-0.056995</td>\n    </tr>\n    <tr>\n      <th>Belltown</th>\n      <td>0.010989</td>\n    </tr>\n    <tr>\n      <th>Belltown</th>\n      <td>-0.016304</td>\n    </tr>\n    <tr>\n      <th>Belltown</th>\n      <td>0.011050</td>\n    </tr>\n    <tr>\n      <th>Belltown</th>\n      <td>0.001821</td>\n    </tr>\n    <tr>\n      <th>Belltown</th>\n      <td>0.127273</td>\n    </tr>\n  </tbody>\n</table>\n</div>"
     },
     "metadata": {},
     "execution_count": 56
    }
   ],
   "source": [
    "train = belltown_df.iloc[:94,:] \n",
    "test = belltown_df.iloc[95:,:]\n",
    "\n",
    "Comparison = pd.DataFrame()\n",
    "#Comparison.index = test.index\n",
    "Comparison[\"Original\"] = (test.loc[:, 'Returns'])\n",
    "Returns = train.loc[:, 'Returns']\n",
    "Comparison"
   ]
  },
  {
   "cell_type": "code",
   "execution_count": 57,
   "metadata": {},
   "outputs": [
    {
     "output_type": "execute_result",
     "data": {
      "text/plain": [
       "<class 'statsmodels.iolib.summary.Summary'>\n",
       "\"\"\"\n",
       "                              ARMA Model Results                              \n",
       "==============================================================================\n",
       "Dep. Variable:                      y   No. Observations:                   94\n",
       "Model:                     ARMA(1, 1)   Log Likelihood                 122.306\n",
       "Method:                       css-mle   S.D. of innovations              0.066\n",
       "Date:                Sat, 05 Dec 2020   AIC                           -236.611\n",
       "Time:                        11:03:10   BIC                           -226.438\n",
       "Sample:                             0   HQIC                          -232.502\n",
       "                                                                              \n",
       "==============================================================================\n",
       "                 coef    std err          z      P>|z|      [0.025      0.975]\n",
       "------------------------------------------------------------------------------\n",
       "const          0.0062      0.008      0.788      0.431      -0.009       0.022\n",
       "ar.L1.y        0.0027      0.360      0.007      0.994      -0.702       0.708\n",
       "ma.L1.y        0.1585      0.345      0.459      0.646      -0.518       0.835\n",
       "                                    Roots                                    \n",
       "=============================================================================\n",
       "                  Real          Imaginary           Modulus         Frequency\n",
       "-----------------------------------------------------------------------------\n",
       "AR.1          371.8089           +0.0000j          371.8089            0.0000\n",
       "MA.1           -6.3098           +0.0000j            6.3098            0.5000\n",
       "-----------------------------------------------------------------------------\n",
       "\"\"\""
      ],
      "text/html": "<table class=\"simpletable\">\n<caption>ARMA Model Results</caption>\n<tr>\n  <th>Dep. Variable:</th>         <td>y</td>        <th>  No. Observations:  </th>    <td>94</td>   \n</tr>\n<tr>\n  <th>Model:</th>            <td>ARMA(1, 1)</td>    <th>  Log Likelihood     </th>  <td>122.306</td>\n</tr>\n<tr>\n  <th>Method:</th>             <td>css-mle</td>     <th>  S.D. of innovations</th>   <td>0.066</td> \n</tr>\n<tr>\n  <th>Date:</th>          <td>Sat, 05 Dec 2020</td> <th>  AIC                </th> <td>-236.611</td>\n</tr>\n<tr>\n  <th>Time:</th>              <td>11:03:10</td>     <th>  BIC                </th> <td>-226.438</td>\n</tr>\n<tr>\n  <th>Sample:</th>                <td>0</td>        <th>  HQIC               </th> <td>-232.502</td>\n</tr>\n<tr>\n  <th></th>                       <td> </td>        <th>                     </th>     <td> </td>   \n</tr>\n</table>\n<table class=\"simpletable\">\n<tr>\n     <td></td>        <th>coef</th>     <th>std err</th>      <th>z</th>      <th>P>|z|</th>  <th>[0.025</th>    <th>0.975]</th>  \n</tr>\n<tr>\n  <th>const</th>   <td>    0.0062</td> <td>    0.008</td> <td>    0.788</td> <td> 0.431</td> <td>   -0.009</td> <td>    0.022</td>\n</tr>\n<tr>\n  <th>ar.L1.y</th> <td>    0.0027</td> <td>    0.360</td> <td>    0.007</td> <td> 0.994</td> <td>   -0.702</td> <td>    0.708</td>\n</tr>\n<tr>\n  <th>ma.L1.y</th> <td>    0.1585</td> <td>    0.345</td> <td>    0.459</td> <td> 0.646</td> <td>   -0.518</td> <td>    0.835</td>\n</tr>\n</table>\n<table class=\"simpletable\">\n<caption>Roots</caption>\n<tr>\n    <td></td>   <th>            Real</th>  <th>         Imaginary</th> <th>         Modulus</th>  <th>        Frequency</th>\n</tr>\n<tr>\n  <th>AR.1</th> <td>         371.8089</td> <td>          +0.0000j</td> <td>         371.8089</td> <td>           0.0000</td>\n</tr>\n<tr>\n  <th>MA.1</th> <td>          -6.3098</td> <td>          +0.0000j</td> <td>           6.3098</td> <td>           0.5000</td>\n</tr>\n</table>"
     },
     "metadata": {},
     "execution_count": 57
    }
   ],
   "source": [
    "from statsmodels.tsa.arima_model import ARMA\n",
    "\n",
    "model = ARMA(Returns.values, order=(1,1))\n",
    "results = model.fit()\n",
    "\n",
    "results.summary()"
   ]
  },
  {
   "cell_type": "code",
   "execution_count": 58,
   "metadata": {},
   "outputs": [
    {
     "output_type": "execute_result",
     "data": {
      "text/plain": [
       "           Original      Arma\n",
       "Region                       \n",
       " Belltown  0.020992  0.011920\n",
       " Belltown  0.014953  0.006226\n",
       " Belltown  0.066298  0.006211\n",
       " Belltown -0.056995  0.006211\n",
       " Belltown  0.010989  0.006211\n",
       " Belltown -0.016304  0.006211\n",
       " Belltown  0.011050  0.006211\n",
       " Belltown  0.001821  0.006211\n",
       " Belltown  0.127273  0.006211"
      ],
      "text/html": "<div>\n<style scoped>\n    .dataframe tbody tr th:only-of-type {\n        vertical-align: middle;\n    }\n\n    .dataframe tbody tr th {\n        vertical-align: top;\n    }\n\n    .dataframe thead th {\n        text-align: right;\n    }\n</style>\n<table border=\"1\" class=\"dataframe\">\n  <thead>\n    <tr style=\"text-align: right;\">\n      <th></th>\n      <th>Original</th>\n      <th>Arma</th>\n    </tr>\n    <tr>\n      <th>Region</th>\n      <th></th>\n      <th></th>\n    </tr>\n  </thead>\n  <tbody>\n    <tr>\n      <th>Belltown</th>\n      <td>0.020992</td>\n      <td>0.011920</td>\n    </tr>\n    <tr>\n      <th>Belltown</th>\n      <td>0.014953</td>\n      <td>0.006226</td>\n    </tr>\n    <tr>\n      <th>Belltown</th>\n      <td>0.066298</td>\n      <td>0.006211</td>\n    </tr>\n    <tr>\n      <th>Belltown</th>\n      <td>-0.056995</td>\n      <td>0.006211</td>\n    </tr>\n    <tr>\n      <th>Belltown</th>\n      <td>0.010989</td>\n      <td>0.006211</td>\n    </tr>\n    <tr>\n      <th>Belltown</th>\n      <td>-0.016304</td>\n      <td>0.006211</td>\n    </tr>\n    <tr>\n      <th>Belltown</th>\n      <td>0.011050</td>\n      <td>0.006211</td>\n    </tr>\n    <tr>\n      <th>Belltown</th>\n      <td>0.001821</td>\n      <td>0.006211</td>\n    </tr>\n    <tr>\n      <th>Belltown</th>\n      <td>0.127273</td>\n      <td>0.006211</td>\n    </tr>\n  </tbody>\n</table>\n</div>"
     },
     "metadata": {},
     "execution_count": 58
    }
   ],
   "source": [
    "predicted_arma = results.forecast(steps=9)[0]\n",
    "Comparison[\"Arma\"] = predicted_arma\n",
    "Comparison"
   ]
  },
  {
   "cell_type": "code",
   "execution_count": 35,
   "metadata": {},
   "outputs": [
    {
     "output_type": "stream",
     "name": "stderr",
     "text": [
      "C:\\Users\\siege\\.conda\\envs\\UWFinTech\\lib\\site-packages\\statsmodels\\tsa\\base\\tsa_model.py:578: ValueWarning: An unsupported index was provided and will be ignored when e.g. forecasting.\n  warnings.warn('An unsupported index was provided and will be'\nC:\\Users\\siege\\.conda\\envs\\UWFinTech\\lib\\site-packages\\statsmodels\\tsa\\base\\tsa_model.py:578: ValueWarning: An unsupported index was provided and will be ignored when e.g. forecasting.\n  warnings.warn('An unsupported index was provided and will be'\n"
     ]
    },
    {
     "output_type": "execute_result",
     "data": {
      "text/plain": [
       "<class 'statsmodels.iolib.summary.Summary'>\n",
       "\"\"\"\n",
       "                             ARIMA Model Results                              \n",
       "==============================================================================\n",
       "Dep. Variable:              D.Returns   No. Observations:                   93\n",
       "Model:                 ARIMA(1, 1, 1)   Log Likelihood                 118.367\n",
       "Method:                       css-mle   S.D. of innovations              0.066\n",
       "Date:                Sat, 05 Dec 2020   AIC                           -228.734\n",
       "Time:                        10:58:03   BIC                           -218.603\n",
       "Sample:                             1   HQIC                          -224.643\n",
       "                                                                              \n",
       "===================================================================================\n",
       "                      coef    std err          z      P>|z|      [0.025      0.975]\n",
       "-----------------------------------------------------------------------------------\n",
       "const              -0.0001      0.000     -0.373      0.709      -0.001       0.000\n",
       "ar.L1.D.Returns     0.1615      0.103      1.569      0.117      -0.040       0.363\n",
       "ma.L1.D.Returns    -1.0000      0.028    -35.159      0.000      -1.056      -0.944\n",
       "                                    Roots                                    \n",
       "=============================================================================\n",
       "                  Real          Imaginary           Modulus         Frequency\n",
       "-----------------------------------------------------------------------------\n",
       "AR.1            6.1910           +0.0000j            6.1910            0.0000\n",
       "MA.1            1.0000           +0.0000j            1.0000            0.0000\n",
       "-----------------------------------------------------------------------------\n",
       "\"\"\""
      ],
      "text/html": "<table class=\"simpletable\">\n<caption>ARIMA Model Results</caption>\n<tr>\n  <th>Dep. Variable:</th>     <td>D.Returns</td>    <th>  No. Observations:  </th>    <td>93</td>   \n</tr>\n<tr>\n  <th>Model:</th>          <td>ARIMA(1, 1, 1)</td>  <th>  Log Likelihood     </th>  <td>118.367</td>\n</tr>\n<tr>\n  <th>Method:</th>             <td>css-mle</td>     <th>  S.D. of innovations</th>   <td>0.066</td> \n</tr>\n<tr>\n  <th>Date:</th>          <td>Sat, 05 Dec 2020</td> <th>  AIC                </th> <td>-228.734</td>\n</tr>\n<tr>\n  <th>Time:</th>              <td>10:58:03</td>     <th>  BIC                </th> <td>-218.603</td>\n</tr>\n<tr>\n  <th>Sample:</th>                <td>1</td>        <th>  HQIC               </th> <td>-224.643</td>\n</tr>\n<tr>\n  <th></th>                       <td> </td>        <th>                     </th>     <td> </td>   \n</tr>\n</table>\n<table class=\"simpletable\">\n<tr>\n         <td></td>            <th>coef</th>     <th>std err</th>      <th>z</th>      <th>P>|z|</th>  <th>[0.025</th>    <th>0.975]</th>  \n</tr>\n<tr>\n  <th>const</th>           <td>   -0.0001</td> <td>    0.000</td> <td>   -0.373</td> <td> 0.709</td> <td>   -0.001</td> <td>    0.000</td>\n</tr>\n<tr>\n  <th>ar.L1.D.Returns</th> <td>    0.1615</td> <td>    0.103</td> <td>    1.569</td> <td> 0.117</td> <td>   -0.040</td> <td>    0.363</td>\n</tr>\n<tr>\n  <th>ma.L1.D.Returns</th> <td>   -1.0000</td> <td>    0.028</td> <td>  -35.159</td> <td> 0.000</td> <td>   -1.056</td> <td>   -0.944</td>\n</tr>\n</table>\n<table class=\"simpletable\">\n<caption>Roots</caption>\n<tr>\n    <td></td>   <th>            Real</th>  <th>         Imaginary</th> <th>         Modulus</th>  <th>        Frequency</th>\n</tr>\n<tr>\n  <th>AR.1</th> <td>           6.1910</td> <td>          +0.0000j</td> <td>           6.1910</td> <td>           0.0000</td>\n</tr>\n<tr>\n  <th>MA.1</th> <td>           1.0000</td> <td>          +0.0000j</td> <td>           1.0000</td> <td>           0.0000</td>\n</tr>\n</table>"
     },
     "metadata": {},
     "execution_count": 35
    }
   ],
   "source": [
    "from statsmodels.tsa.arima_model import ARIMA\n",
    "model = ARIMA(Returns, order=(1, 1, 1))\n",
    "results = model.fit()\n",
    "results.summary()"
   ]
  },
  {
   "cell_type": "code",
   "execution_count": 36,
   "metadata": {},
   "outputs": [
    {
     "output_type": "execute_result",
     "data": {
      "text/plain": [
       "           Original      Arma     Arima\n",
       "Region                                 \n",
       " Belltown  0.020992  0.011920  0.011920\n",
       " Belltown  0.014953  0.006226  0.006226\n",
       " Belltown  0.066298  0.006211  0.006211\n",
       " Belltown -0.056995  0.006211  0.006211\n",
       " Belltown  0.010989  0.006211  0.006211\n",
       " Belltown -0.016304  0.006211  0.006211\n",
       " Belltown  0.011050  0.006211  0.006211\n",
       " Belltown  0.001821  0.006211  0.006211\n",
       " Belltown  0.127273  0.006211  0.006211"
      ],
      "text/html": "<div>\n<style scoped>\n    .dataframe tbody tr th:only-of-type {\n        vertical-align: middle;\n    }\n\n    .dataframe tbody tr th {\n        vertical-align: top;\n    }\n\n    .dataframe thead th {\n        text-align: right;\n    }\n</style>\n<table border=\"1\" class=\"dataframe\">\n  <thead>\n    <tr style=\"text-align: right;\">\n      <th></th>\n      <th>Original</th>\n      <th>Arma</th>\n      <th>Arima</th>\n    </tr>\n    <tr>\n      <th>Region</th>\n      <th></th>\n      <th></th>\n      <th></th>\n    </tr>\n  </thead>\n  <tbody>\n    <tr>\n      <th>Belltown</th>\n      <td>0.020992</td>\n      <td>0.011920</td>\n      <td>0.011920</td>\n    </tr>\n    <tr>\n      <th>Belltown</th>\n      <td>0.014953</td>\n      <td>0.006226</td>\n      <td>0.006226</td>\n    </tr>\n    <tr>\n      <th>Belltown</th>\n      <td>0.066298</td>\n      <td>0.006211</td>\n      <td>0.006211</td>\n    </tr>\n    <tr>\n      <th>Belltown</th>\n      <td>-0.056995</td>\n      <td>0.006211</td>\n      <td>0.006211</td>\n    </tr>\n    <tr>\n      <th>Belltown</th>\n      <td>0.010989</td>\n      <td>0.006211</td>\n      <td>0.006211</td>\n    </tr>\n    <tr>\n      <th>Belltown</th>\n      <td>-0.016304</td>\n      <td>0.006211</td>\n      <td>0.006211</td>\n    </tr>\n    <tr>\n      <th>Belltown</th>\n      <td>0.011050</td>\n      <td>0.006211</td>\n      <td>0.006211</td>\n    </tr>\n    <tr>\n      <th>Belltown</th>\n      <td>0.001821</td>\n      <td>0.006211</td>\n      <td>0.006211</td>\n    </tr>\n    <tr>\n      <th>Belltown</th>\n      <td>0.127273</td>\n      <td>0.006211</td>\n      <td>0.006211</td>\n    </tr>\n  </tbody>\n</table>\n</div>"
     },
     "metadata": {},
     "execution_count": 36
    }
   ],
   "source": [
    "predicted_arima = results.forecast(steps=9)[0]\n",
    "Comparison[\"Arima\"] = predicted_arma\n",
    "Comparison"
   ]
  },
  {
   "cell_type": "code",
   "execution_count": 37,
   "metadata": {},
   "outputs": [
    {
     "output_type": "execute_result",
     "data": {
      "text/plain": [
       "<class 'statsmodels.iolib.summary.Summary'>\n",
       "\"\"\"\n",
       "                       Zero Mean - GARCH Model Results                        \n",
       "==============================================================================\n",
       "Dep. Variable:                Returns   R-squared:                       0.000\n",
       "Mean Model:                 Zero Mean   Adj. R-squared:                  0.011\n",
       "Vol Model:                      GARCH   Log-Likelihood:                130.361\n",
       "Distribution:                  Normal   AIC:                          -254.722\n",
       "Method:            Maximum Likelihood   BIC:                          -247.092\n",
       "                                        No. Observations:                   94\n",
       "Date:                Sat, Dec 05 2020   Df Residuals:                       91\n",
       "Time:                        10:58:04   Df Model:                            3\n",
       "                               Volatility Model                              \n",
       "=============================================================================\n",
       "                 coef    std err          t      P>|t|       95.0% Conf. Int.\n",
       "-----------------------------------------------------------------------------\n",
       "omega      8.9813e-05  2.083e-04      0.431      0.666 [-3.185e-04,4.982e-04]\n",
       "alpha[1]       0.1000  4.951e-02      2.020  4.340e-02    [2.963e-03,  0.197]\n",
       "beta[1]        0.8800  4.973e-02     17.697  4.399e-70      [  0.783,  0.977]\n",
       "=============================================================================\n",
       "\n",
       "Covariance estimator: robust\n",
       "\"\"\""
      ],
      "text/html": "<table class=\"simpletable\">\n<caption>Zero Mean - GARCH Model Results</caption>\n<tr>\n  <th>Dep. Variable:</th>       <td>Returns</td>      <th>  R-squared:         </th>  <td>   0.000</td> \n</tr>\n<tr>\n  <th>Mean Model:</th>         <td>Zero Mean</td>     <th>  Adj. R-squared:    </th>  <td>   0.011</td> \n</tr>\n<tr>\n  <th>Vol Model:</th>            <td>GARCH</td>       <th>  Log-Likelihood:    </th> <td>   130.361</td>\n</tr>\n<tr>\n  <th>Distribution:</th>        <td>Normal</td>       <th>  AIC:               </th> <td>  -254.722</td>\n</tr>\n<tr>\n  <th>Method:</th>        <td>Maximum Likelihood</td> <th>  BIC:               </th> <td>  -247.092</td>\n</tr>\n<tr>\n  <th></th>                        <td></td>          <th>  No. Observations:  </th>     <td>94</td>    \n</tr>\n<tr>\n  <th>Date:</th>           <td>Sat, Dec 05 2020</td>  <th>  Df Residuals:      </th>     <td>91</td>    \n</tr>\n<tr>\n  <th>Time:</th>               <td>10:58:04</td>      <th>  Df Model:          </th>      <td>3</td>    \n</tr>\n</table>\n<table class=\"simpletable\">\n<caption>Volatility Model</caption>\n<tr>\n      <td></td>        <th>coef</th>     <th>std err</th>      <th>t</th>       <th>P>|t|</th>      <th>95.0% Conf. Int.</th>   \n</tr>\n<tr>\n  <th>omega</th>    <td>8.9813e-05</td> <td>2.083e-04</td> <td>    0.431</td> <td>    0.666</td> <td>[-3.185e-04,4.982e-04]</td>\n</tr>\n<tr>\n  <th>alpha[1]</th> <td>    0.1000</td> <td>4.951e-02</td> <td>    2.020</td> <td>4.340e-02</td>   <td>[2.963e-03,  0.197]</td> \n</tr>\n<tr>\n  <th>beta[1]</th>  <td>    0.8800</td> <td>4.973e-02</td> <td>   17.697</td> <td>4.399e-70</td>    <td>[  0.783,  0.977]</td>  \n</tr>\n</table><br/><br/>Covariance estimator: robust"
     },
     "metadata": {},
     "execution_count": 37
    }
   ],
   "source": [
    "from arch import arch_model\n",
    "model = arch_model(Returns, mean=\"Zero\", vol=\"GARCH\", p=1, q=1)\n",
    "res = model.fit(disp=\"off\")\n",
    "res.summary()"
   ]
  },
  {
   "cell_type": "code",
   "execution_count": 38,
   "metadata": {},
   "outputs": [],
   "source": [
    "import numpy as np\n",
    "\n",
    "forecast_horizon = 9\n",
    "garch = res.forecast(horizon=forecast_horizon)\n",
    "intermediate = np.sqrt(garch.variance.dropna() * 252)\n",
    "final = intermediate.dropna().T\n",
    "final.columns = [\"Garch\"]\n",
    "final.index = Comparison.index\n",
    "Comparison[\"Garch\"] = final[\"Garch\"]"
   ]
  },
  {
   "cell_type": "code",
   "execution_count": 39,
   "metadata": {},
   "outputs": [
    {
     "output_type": "execute_result",
     "data": {
      "text/plain": [
       "           Original      Arma     Arima     Garch\n",
       "Region                                           \n",
       " Belltown  0.020992  0.011920  0.011920  0.636742\n",
       " Belltown  0.014953  0.006226  0.006226  0.648047\n",
       " Belltown  0.066298  0.006211  0.006211  0.658937\n",
       " Belltown -0.056995  0.006211  0.006211  0.669438\n",
       " Belltown  0.010989  0.006211  0.006211  0.679571\n",
       " Belltown -0.016304  0.006211  0.006211  0.689357\n",
       " Belltown  0.011050  0.006211  0.006211  0.698815\n",
       " Belltown  0.001821  0.006211  0.006211  0.707960\n",
       " Belltown  0.127273  0.006211  0.006211  0.716810"
      ],
      "text/html": "<div>\n<style scoped>\n    .dataframe tbody tr th:only-of-type {\n        vertical-align: middle;\n    }\n\n    .dataframe tbody tr th {\n        vertical-align: top;\n    }\n\n    .dataframe thead th {\n        text-align: right;\n    }\n</style>\n<table border=\"1\" class=\"dataframe\">\n  <thead>\n    <tr style=\"text-align: right;\">\n      <th></th>\n      <th>Original</th>\n      <th>Arma</th>\n      <th>Arima</th>\n      <th>Garch</th>\n    </tr>\n    <tr>\n      <th>Region</th>\n      <th></th>\n      <th></th>\n      <th></th>\n      <th></th>\n    </tr>\n  </thead>\n  <tbody>\n    <tr>\n      <th>Belltown</th>\n      <td>0.020992</td>\n      <td>0.011920</td>\n      <td>0.011920</td>\n      <td>0.636742</td>\n    </tr>\n    <tr>\n      <th>Belltown</th>\n      <td>0.014953</td>\n      <td>0.006226</td>\n      <td>0.006226</td>\n      <td>0.648047</td>\n    </tr>\n    <tr>\n      <th>Belltown</th>\n      <td>0.066298</td>\n      <td>0.006211</td>\n      <td>0.006211</td>\n      <td>0.658937</td>\n    </tr>\n    <tr>\n      <th>Belltown</th>\n      <td>-0.056995</td>\n      <td>0.006211</td>\n      <td>0.006211</td>\n      <td>0.669438</td>\n    </tr>\n    <tr>\n      <th>Belltown</th>\n      <td>0.010989</td>\n      <td>0.006211</td>\n      <td>0.006211</td>\n      <td>0.679571</td>\n    </tr>\n    <tr>\n      <th>Belltown</th>\n      <td>-0.016304</td>\n      <td>0.006211</td>\n      <td>0.006211</td>\n      <td>0.689357</td>\n    </tr>\n    <tr>\n      <th>Belltown</th>\n      <td>0.011050</td>\n      <td>0.006211</td>\n      <td>0.006211</td>\n      <td>0.698815</td>\n    </tr>\n    <tr>\n      <th>Belltown</th>\n      <td>0.001821</td>\n      <td>0.006211</td>\n      <td>0.006211</td>\n      <td>0.707960</td>\n    </tr>\n    <tr>\n      <th>Belltown</th>\n      <td>0.127273</td>\n      <td>0.006211</td>\n      <td>0.006211</td>\n      <td>0.716810</td>\n    </tr>\n  </tbody>\n</table>\n</div>"
     },
     "metadata": {},
     "execution_count": 39
    }
   ],
   "source": [
    "Comparison"
   ]
  }
 ],
 "metadata": {
  "kernelspec": {
   "name": "python3",
   "display_name": "Python 3.8.6 64-bit ('UWFinTech': conda)",
   "metadata": {
    "interpreter": {
     "hash": "9fd44a851b9145035dd80132b24dd6363586216d2fdf1d8f45d933d6f3baeb2e"
    }
   }
  },
  "language_info": {
   "codemirror_mode": {
    "name": "ipython",
    "version": 3
   },
   "file_extension": ".py",
   "mimetype": "text/x-python",
   "name": "python",
   "nbconvert_exporter": "python",
   "pygments_lexer": "ipython3",
   "version": "3.8.6-final"
  }
 },
 "nbformat": 4,
 "nbformat_minor": 4
}