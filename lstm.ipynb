{
 "metadata": {
  "language_info": {
   "codemirror_mode": {
    "name": "ipython",
    "version": 3
   },
   "file_extension": ".py",
   "mimetype": "text/x-python",
   "name": "python",
   "nbconvert_exporter": "python",
   "pygments_lexer": "ipython3",
   "version": "3.8.6-final"
  },
  "orig_nbformat": 2,
  "kernelspec": {
   "name": "python3",
   "display_name": "Python 3"
  }
 },
 "nbformat": 4,
 "nbformat_minor": 2,
 "cells": [
  {
   "cell_type": "code",
   "execution_count": 94,
   "metadata": {},
   "outputs": [],
   "source": [
    "# Import libraries\n",
    "import numpy as np\n",
    "import pandas as pd\n",
    "import hvplot.pandas\n",
    "import random"
   ]
  },
  {
   "cell_type": "code",
   "execution_count": 95,
   "metadata": {},
   "outputs": [],
   "source": [
    "# Import ML libraries\n",
    "from numpy.random import seed\n",
    "from tensorflow import random as ts_random\n",
    "\n",
    "# Augmented Dickey-Fuller test\n",
    "from statsmodels.tsa.stattools import adfuller"
   ]
  },
  {
   "cell_type": "code",
   "execution_count": 6,
   "metadata": {},
   "outputs": [],
   "source": [
    "# Set ML algorithm seeds\n",
    "seed(1)\n",
    "ts_random.set_seed(2)"
   ]
  },
  {
   "cell_type": "code",
   "execution_count": 7,
   "metadata": {},
   "outputs": [],
   "source": [
    "# Import csv file and change index to datetime\n",
    "seattle_neighborhoods_df = pd.read_csv(\"seattle-neighborhoods.csv\", index_col=\"Month of Period End\", infer_datetime_format=True, parse_dates=True)\n",
    "# Fill empty values with previous row's values in that column\n",
    "seattle_neighborhoods_df = seattle_neighborhoods_df.fillna(method=\"pad\")\n",
    "# Turn datetime index into a column\n",
    "seattle_neighborhoods_df.reset_index(inplace=True)\n",
    "# Convert colum to strings\n",
    "seattle_neighborhoods_df['Median Sale Price'] = seattle_neighborhoods_df['Median Sale Price'].astype(str)\n",
    "# Remove leading and trailing whitespaces in column headers\n",
    "seattle_neighborhoods_df.columns = seattle_neighborhoods_df.columns.str.strip()"
   ]
  },
  {
   "cell_type": "code",
   "execution_count": 8,
   "metadata": {},
   "outputs": [],
   "source": [
    "# Create MultiIndex of dataframe to sort by both date and Region\n",
    "seattle_neighborhoods_df.set_index(['Month of Period End', 'Region'], inplace=True)\n",
    "# Sort index by neighborhood and then date, ascending both columns\n",
    "seattle_neighborhoods_df.sort_index(level=[\"Month of Period End\", 'Region'], ascending=[1, 1], inplace=True)"
   ]
  },
  {
   "cell_type": "code",
   "execution_count": 9,
   "metadata": {},
   "outputs": [],
   "source": [
    "# Define characters to strip from colum values AFTER Index has been defined\n",
    "# In order to prevent the index columns from being stripped as well\n",
    "dictionary = {'\\$':'', 'K':'000', ',':'', '\\%':''} \n",
    "seattle_neighborhoods_df.replace(dictionary, regex=True, inplace=True)\n",
    "# Convert all column values to numeric values\n",
    "seattle_neighborhoods_df =  seattle_neighborhoods_df.apply(pd.to_numeric)"
   ]
  },
  {
   "cell_type": "code",
   "execution_count": 10,
   "metadata": {},
   "outputs": [],
   "source": [
    "# Contain column values as variables for easier reference\n",
    "\n",
    "# 0 - 'Median Sale Price'\n",
    "# 1 - 'Median Sale Price MoM',\n",
    "# 2 - 'Median Sale Price YoY',\n",
    "msp = seattle_neighborhoods_df.columns.values[0]\n",
    "msp_mom = seattle_neighborhoods_df.columns.values[1]\n",
    "msp_yoy = seattle_neighborhoods_df.columns.values[2]\n",
    "\n",
    "# 3 - 'Homes Sold',\n",
    "# 4 - 'Homes Sold MoM',\n",
    "# 5 - 'Homes Sold YoY',\n",
    "hs = seattle_neighborhoods_df.columns.values[3]\n",
    "hs_mom = seattle_neighborhoods_df.columns.values[4]\n",
    "hs_yoy = seattle_neighborhoods_df.columns.values[5]\n",
    "\n",
    "# 6 - 'New Listings',\n",
    "# 7 - 'New Listings MoM',\n",
    "# 8 - 'New Listings YoY',\n",
    "nl = seattle_neighborhoods_df.columns.values[6]\n",
    "nl_mom = seattle_neighborhoods_df.columns.values[7]\n",
    "nl_yoy = seattle_neighborhoods_df.columns.values[8]\n",
    "\n",
    "# 9 - 'Inventory',\n",
    "# 10 - 'Inventory MoM',\n",
    "# 11 - 'Inventory YoY',\n",
    "inv = seattle_neighborhoods_df.columns.values[9]\n",
    "inv_mom = seattle_neighborhoods_df.columns.values[10]\n",
    "inv_yoy = seattle_neighborhoods_df.columns.values[11]\n",
    "\n",
    "# 12 - 'Days on Market',\n",
    "# 13 - 'Days on Market MoM',\n",
    "# 14 - 'Days on Market YoY',\n",
    "dom = seattle_neighborhoods_df.columns.values[12]\n",
    "dom_mom = seattle_neighborhoods_df.columns.values[13]\n",
    "dom_yoy = seattle_neighborhoods_df.columns.values[14]\n",
    "\n",
    "# 15 - 'Average Sale To List',\n",
    "# 16 - 'Average Sale To List MoM'\n",
    "# 17 - 'Average Sale To List YoY'\n",
    "asl = seattle_neighborhoods_df.columns.values[15]\n",
    "asl_mom = seattle_neighborhoods_df.columns.values[16]\n",
    "asl_yoy = seattle_neighborhoods_df.columns.values[17]\n"
   ]
  },
  {
   "cell_type": "code",
   "execution_count": 11,
   "metadata": {},
   "outputs": [],
   "source": [
    "# Create practical arrays of values for easy reference\n",
    "\n",
    "# Main attributes\n",
    "main_values = [msp, hs, nl, inv, dom, asl]\n",
    "# Month-over-month values\n",
    "mom_values = [msp_mom, hs_mom, nl_mom, inv_mom, dom_mom, asl_mom]\n",
    "# Year-over-year values\n",
    "yoy_values = [msp_yoy, hs_yoy, nl_yoy, inv_yoy, dom_yoy, asl_yoy]\n",
    "# And just in case we need to explicitly request all columns and Pandas isn't behaving\n",
    "all_values = [msp, msp_mom, msp_yoy, hs, hs_mom, hs_yoy, nl, nl_mom, nl_yoy, inv, inv_mom, inv_yoy, dom, dom_mom, dom_yoy, asl, asl_mom, asl_yoy]"
   ]
  },
  {
   "cell_type": "code",
   "execution_count": 97,
   "metadata": {},
   "outputs": [
    {
     "output_type": "stream",
     "name": "stdout",
     "text": [
      "Seattle, WA - First Hill\nADF Statistic:\n    -2.200890901188599\np-value:\n    0.20592227002810432\nn_lags:\n    0\nCritial Values:\n   1%, -3.4948504603223145\nCritial Values:\n   5%, -2.889758398668639\nCritial Values:\n   10%, -2.5818220155325444\n"
     ]
    },
    {
     "output_type": "display_data",
     "data": {},
     "metadata": {}
    },
    {
     "output_type": "execute_result",
     "data": {
      "text/html": "<div id='8022'>\n\n\n\n\n\n  <div class=\"bk-root\" id=\"db942cb5-27d5-49f0-8d04-42930ccbf232\" data-root-id=\"8022\"></div>\n</div>\n<script type=\"application/javascript\">(function(root) {\n  function embed_document(root) {\n    var docs_json = {\"dc80604b-0ff5-46d4-b4b9-d85414d9ddc1\":{\"roots\":{\"references\":[{\"attributes\":{\"data\":{\"Median Sale Price\":[235000,162000,207000,189000,203000,193000,280000,254000,198000,214000,235000,250000,243000,305000,310000,313000,280000,268000,255000,260000,277000,344000,390000,335000,335000,332000,309000,332000,373000,373000,357000,275000,265000,251000,328000,328000,328000,318000,325000,325000,343000,404000,378000,378000,378000,382000,425000,414000,407000,429000,417000,356000,317000,320000,325000,575000,600000,605000,625000,615000,630000,415000,435000,415000,457000,415000,383000,430000,458000,478000,580000,578000,568000,553000,556000,585000,696000,650000,640000,540000,700000,733000,649000,590000,583000,633000,628000,577000,500000,459000,441000,459000,523000,475000,500000,440000,595000,494000,517000,578000,600000,635000,565000,493000,545000],\"Median_Sale_Price\":[235000,162000,207000,189000,203000,193000,280000,254000,198000,214000,235000,250000,243000,305000,310000,313000,280000,268000,255000,260000,277000,344000,390000,335000,335000,332000,309000,332000,373000,373000,357000,275000,265000,251000,328000,328000,328000,318000,325000,325000,343000,404000,378000,378000,378000,382000,425000,414000,407000,429000,417000,356000,317000,320000,325000,575000,600000,605000,625000,615000,630000,415000,435000,415000,457000,415000,383000,430000,458000,478000,580000,578000,568000,553000,556000,585000,696000,650000,640000,540000,700000,733000,649000,590000,583000,633000,628000,577000,500000,459000,441000,459000,523000,475000,500000,440000,595000,494000,517000,578000,600000,635000,565000,493000,545000],\"Month of Period End\":{\"__ndarray__\":\"AABAX2NTc0IAAADmuFxzQgAAQDizZnNCAADAJFtwc0IAAAB3VXpzQgAAgGP9g3NCAADAtfeNc0IAAAAI8pdzQgAAgPSZoXNCAADARpSrc0IAAEAzPLVzQgAAgIU2v3NCAADA1zDJc0IAAMD4M9JzQgAAAEsu3HNCAACAN9blc0IAAMCJ0O9zQgAAQHZ4+XNCAACAyHIDdEIAAMAabQ10QgAAQAcVF3RCAACAWQ8hdEIAAABGtyp0QgAAQJixNHRCAACA6qs+dEIAAIALr0d0QgAAwF2pUXRCAABASlFbdEIAAICcS2V0QgAAAInzbnRCAABA2+14dEIAAIAt6IJ0QgAAABqQjHRCAABAbIqWdEIAAMBYMqB0QgAAAKssqnRCAABA/Sa0dEIAAEAeKr10QgAAgHAkx3RCAAAAXczQdEIAAECvxtp0QgAAwJtu5HRCAAAA7mjudEIAAEBAY/h0QgAAwCwLAnVCAAAAfwUMdUIAAIBrrRV1QgAAwL2nH3VCAAAAEKIpdUIAAMCW9zJ1QgAAAOnxPHVCAACA1ZlGdUIAAMAnlFB1QgAAQBQ8WnVCAACAZjZkdUIAAMC4MG51QgAAQKXYd3VCAACA99KBdUIAAADkeot1QgAAQDZ1lXVCAACAiG+fdUIAAICpcqh1QgAAwPtssnVCAABA6BS8dUIAAIA6D8Z1QgAAACe3z3VCAABAebHZdUIAAIDLq+N1QgAAALhT7XVCAABACk73dUIAAMD29QB2QgAAAEnwCnZCAABAm+oUdkIAAEC87R12QgAAgA7oJ3ZCAAAA+48xdkIAAEBNijt2QgAAwDkyRXZCAAAAjCxPdkIAAEDeJll2QgAAwMrOYnZCAAAAHclsdkIAAIAJcXZ2QgAAwFtrgHZCAAAArmWKdkIAAADPaJN2QgAAQCFjnXZCAADADQundkIAAABgBbF2QgAAgEytunZCAADAnqfEdkIAAADxoc52QgAAgN1J2HZCAADAL0TidkIAAEAc7Ot2QgAAgG7m9XZCAADAwOD/dkIAAIBHNgl3QgAAwJkwE3dCAABAhtgcd0IAAIDY0iZ3QgAAAMV6MHdCAABAF3U6d0IAAIBpb0R3QgAAAFYXTndC\",\"dtype\":\"float64\",\"order\":\"little\",\"shape\":[105]},\"Month_of_Period_End\":{\"__ndarray__\":\"AABAX2NTc0IAAADmuFxzQgAAQDizZnNCAADAJFtwc0IAAAB3VXpzQgAAgGP9g3NCAADAtfeNc0IAAAAI8pdzQgAAgPSZoXNCAADARpSrc0IAAEAzPLVzQgAAgIU2v3NCAADA1zDJc0IAAMD4M9JzQgAAAEsu3HNCAACAN9blc0IAAMCJ0O9zQgAAQHZ4+XNCAACAyHIDdEIAAMAabQ10QgAAQAcVF3RCAACAWQ8hdEIAAABGtyp0QgAAQJixNHRCAACA6qs+dEIAAIALr0d0QgAAwF2pUXRCAABASlFbdEIAAICcS2V0QgAAAInzbnRCAABA2+14dEIAAIAt6IJ0QgAAABqQjHRCAABAbIqWdEIAAMBYMqB0QgAAAKssqnRCAABA/Sa0dEIAAEAeKr10QgAAgHAkx3RCAAAAXczQdEIAAECvxtp0QgAAwJtu5HRCAAAA7mjudEIAAEBAY/h0QgAAwCwLAnVCAAAAfwUMdUIAAIBrrRV1QgAAwL2nH3VCAAAAEKIpdUIAAMCW9zJ1QgAAAOnxPHVCAACA1ZlGdUIAAMAnlFB1QgAAQBQ8WnVCAACAZjZkdUIAAMC4MG51QgAAQKXYd3VCAACA99KBdUIAAADkeot1QgAAQDZ1lXVCAACAiG+fdUIAAICpcqh1QgAAwPtssnVCAABA6BS8dUIAAIA6D8Z1QgAAACe3z3VCAABAebHZdUIAAIDLq+N1QgAAALhT7XVCAABACk73dUIAAMD29QB2QgAAAEnwCnZCAABAm+oUdkIAAEC87R12QgAAgA7oJ3ZCAAAA+48xdkIAAEBNijt2QgAAwDkyRXZCAAAAjCxPdkIAAEDeJll2QgAAwMrOYnZCAAAAHclsdkIAAIAJcXZ2QgAAwFtrgHZCAAAArmWKdkIAAADPaJN2QgAAQCFjnXZCAADADQundkIAAABgBbF2QgAAgEytunZCAADAnqfEdkIAAADxoc52QgAAgN1J2HZCAADAL0TidkIAAEAc7Ot2QgAAgG7m9XZCAADAwOD/dkIAAIBHNgl3QgAAwJkwE3dCAABAhtgcd0IAAIDY0iZ3QgAAAMV6MHdCAABAF3U6d0IAAIBpb0R3QgAAAFYXTndC\",\"dtype\":\"float64\",\"order\":\"little\",\"shape\":[105]}},\"selected\":{\"id\":\"8058\"},\"selection_policy\":{\"id\":\"8087\"}},\"id\":\"8057\",\"type\":\"ColumnDataSource\"},{\"attributes\":{\"data_source\":{\"id\":\"8057\"},\"glyph\":{\"id\":\"8060\"},\"hover_glyph\":null,\"muted_glyph\":{\"id\":\"8062\"},\"nonselection_glyph\":{\"id\":\"8061\"},\"selection_glyph\":null,\"view\":{\"id\":\"8064\"}},\"id\":\"8063\",\"type\":\"GlyphRenderer\"},{\"attributes\":{\"num_minor_ticks\":5,\"tickers\":[{\"id\":\"8075\"},{\"id\":\"8076\"},{\"id\":\"8077\"},{\"id\":\"8078\"},{\"id\":\"8079\"},{\"id\":\"8080\"},{\"id\":\"8081\"},{\"id\":\"8082\"},{\"id\":\"8083\"},{\"id\":\"8084\"},{\"id\":\"8085\"},{\"id\":\"8086\"}]},\"id\":\"8037\",\"type\":\"DatetimeTicker\"},{\"attributes\":{},\"id\":\"8087\",\"type\":\"UnionRenderers\"},{\"attributes\":{\"callback\":null,\"formatters\":{\"@{Month of Period End}\":\"datetime\",\"@{Month_of_Period_End}\":\"datetime\"},\"renderers\":[{\"id\":\"8063\"}],\"tags\":[\"hv_created\"],\"tooltips\":[[\"Month of Period End\",\"@{Month_of_Period_End}{%F %T}\"],[\"Median Sale Price\",\"@{Median_Sale_Price}\"]]},\"id\":\"8026\",\"type\":\"HoverTool\"},{\"attributes\":{\"line_color\":\"#1f77b3\",\"line_width\":2,\"x\":{\"field\":\"Month of Period End\"},\"y\":{\"field\":\"Median Sale Price\"}},\"id\":\"8060\",\"type\":\"Line\"},{\"attributes\":{\"line_alpha\":0.1,\"line_color\":\"#1f77b3\",\"line_width\":2,\"x\":{\"field\":\"Month of Period End\"},\"y\":{\"field\":\"Median Sale Price\"}},\"id\":\"8061\",\"type\":\"Line\"},{\"attributes\":{\"end\":790100.0,\"reset_end\":790100.0,\"reset_start\":104900.0,\"start\":104900.0,\"tags\":[[[\"Median Sale Price\",\"Median Sale Price\",null]]]},\"id\":\"8025\",\"type\":\"Range1d\"},{\"attributes\":{\"line_alpha\":0.2,\"line_color\":\"#1f77b3\",\"line_width\":2,\"x\":{\"field\":\"Month of Period End\"},\"y\":{\"field\":\"Median Sale Price\"}},\"id\":\"8062\",\"type\":\"Line\"},{\"attributes\":{\"end\":1601510400000.0,\"reset_end\":1601510400000.0,\"reset_start\":1328054400000.0,\"start\":1328054400000.0,\"tags\":[[[\"Month of Period End\",\"Month of Period End\",null]]]},\"id\":\"8024\",\"type\":\"Range1d\"},{\"attributes\":{\"source\":{\"id\":\"8057\"}},\"id\":\"8064\",\"type\":\"CDSView\"},{\"attributes\":{},\"id\":\"8048\",\"type\":\"ResetTool\"},{\"attributes\":{},\"id\":\"8032\",\"type\":\"LinearScale\"},{\"attributes\":{\"children\":[{\"id\":\"8023\"},{\"id\":\"8027\"},{\"id\":\"8109\"}],\"margin\":[0,0,0,0],\"name\":\"Row13368\",\"tags\":[\"embedded\"]},\"id\":\"8022\",\"type\":\"Row\"},{\"attributes\":{},\"id\":\"8065\",\"type\":\"DatetimeTickFormatter\"},{\"attributes\":{},\"id\":\"8046\",\"type\":\"WheelZoomTool\"},{\"attributes\":{},\"id\":\"8034\",\"type\":\"LinearScale\"},{\"attributes\":{},\"id\":\"8045\",\"type\":\"PanTool\"},{\"attributes\":{},\"id\":\"8067\",\"type\":\"BasicTickFormatter\"},{\"attributes\":{\"axis\":{\"id\":\"8036\"},\"grid_line_color\":null,\"ticker\":null},\"id\":\"8039\",\"type\":\"Grid\"},{\"attributes\":{\"axis_label\":\"Month of Period End\",\"bounds\":\"auto\",\"formatter\":{\"id\":\"8065\"},\"major_label_orientation\":\"horizontal\",\"ticker\":{\"id\":\"8037\"}},\"id\":\"8036\",\"type\":\"DatetimeAxis\"},{\"attributes\":{\"bottom_units\":\"screen\",\"fill_alpha\":0.5,\"fill_color\":\"lightgrey\",\"left_units\":\"screen\",\"level\":\"overlay\",\"line_alpha\":1.0,\"line_color\":\"black\",\"line_dash\":[4,4],\"line_width\":2,\"right_units\":\"screen\",\"top_units\":\"screen\"},\"id\":\"8049\",\"type\":\"BoxAnnotation\"},{\"attributes\":{\"axis\":{\"id\":\"8040\"},\"dimension\":1,\"grid_line_color\":null,\"ticker\":null},\"id\":\"8043\",\"type\":\"Grid\"},{\"attributes\":{\"mantissas\":[1,2,5],\"max_interval\":500.0,\"num_minor_ticks\":0},\"id\":\"8075\",\"type\":\"AdaptiveTicker\"},{\"attributes\":{\"margin\":[5,5,5,5],\"name\":\"HSpacer13373\",\"sizing_mode\":\"stretch_width\"},\"id\":\"8109\",\"type\":\"Spacer\"},{\"attributes\":{},\"id\":\"8044\",\"type\":\"SaveTool\"},{\"attributes\":{\"base\":60,\"mantissas\":[1,2,5,10,15,20,30],\"max_interval\":1800000.0,\"min_interval\":1000.0,\"num_minor_ticks\":0},\"id\":\"8076\",\"type\":\"AdaptiveTicker\"},{\"attributes\":{\"days\":[1,2,3,4,5,6,7,8,9,10,11,12,13,14,15,16,17,18,19,20,21,22,23,24,25,26,27,28,29,30,31]},\"id\":\"8078\",\"type\":\"DaysTicker\"},{\"attributes\":{\"base\":24,\"mantissas\":[1,2,4,6,8,12],\"max_interval\":43200000.0,\"min_interval\":3600000.0,\"num_minor_ticks\":0},\"id\":\"8077\",\"type\":\"AdaptiveTicker\"},{\"attributes\":{\"text\":\"Seattle, WA - First Hill\",\"text_color\":{\"value\":\"black\"},\"text_font_size\":{\"value\":\"12pt\"}},\"id\":\"8028\",\"type\":\"Title\"},{\"attributes\":{\"months\":[0,1,2,3,4,5,6,7,8,9,10,11]},\"id\":\"8082\",\"type\":\"MonthsTicker\"},{\"attributes\":{\"below\":[{\"id\":\"8036\"}],\"center\":[{\"id\":\"8039\"},{\"id\":\"8043\"}],\"left\":[{\"id\":\"8040\"}],\"margin\":[5,5,5,5],\"min_border_bottom\":10,\"min_border_left\":10,\"min_border_right\":10,\"min_border_top\":10,\"plot_height\":300,\"plot_width\":700,\"renderers\":[{\"id\":\"8063\"}],\"sizing_mode\":\"fixed\",\"title\":{\"id\":\"8028\"},\"toolbar\":{\"id\":\"8050\"},\"x_range\":{\"id\":\"8024\"},\"x_scale\":{\"id\":\"8032\"},\"y_range\":{\"id\":\"8025\"},\"y_scale\":{\"id\":\"8034\"}},\"id\":\"8027\",\"subtype\":\"Figure\",\"type\":\"Plot\"},{\"attributes\":{\"months\":[0,2,4,6,8,10]},\"id\":\"8083\",\"type\":\"MonthsTicker\"},{\"attributes\":{\"axis_label\":\"\",\"bounds\":\"auto\",\"formatter\":{\"id\":\"8067\"},\"major_label_orientation\":\"horizontal\",\"ticker\":{\"id\":\"8041\"}},\"id\":\"8040\",\"type\":\"LinearAxis\"},{\"attributes\":{\"overlay\":{\"id\":\"8049\"}},\"id\":\"8047\",\"type\":\"BoxZoomTool\"},{\"attributes\":{\"days\":[1,4,7,10,13,16,19,22,25,28]},\"id\":\"8079\",\"type\":\"DaysTicker\"},{\"attributes\":{\"margin\":[5,5,5,5],\"name\":\"HSpacer13372\",\"sizing_mode\":\"stretch_width\"},\"id\":\"8023\",\"type\":\"Spacer\"},{\"attributes\":{\"days\":[1,15]},\"id\":\"8081\",\"type\":\"DaysTicker\"},{\"attributes\":{\"months\":[0,6]},\"id\":\"8085\",\"type\":\"MonthsTicker\"},{\"attributes\":{\"days\":[1,8,15,22]},\"id\":\"8080\",\"type\":\"DaysTicker\"},{\"attributes\":{},\"id\":\"8086\",\"type\":\"YearsTicker\"},{\"attributes\":{},\"id\":\"8058\",\"type\":\"Selection\"},{\"attributes\":{\"months\":[0,4,8]},\"id\":\"8084\",\"type\":\"MonthsTicker\"},{\"attributes\":{\"active_drag\":\"auto\",\"active_inspect\":\"auto\",\"active_multi\":null,\"active_scroll\":\"auto\",\"active_tap\":\"auto\",\"tools\":[{\"id\":\"8026\"},{\"id\":\"8044\"},{\"id\":\"8045\"},{\"id\":\"8046\"},{\"id\":\"8047\"},{\"id\":\"8048\"}]},\"id\":\"8050\",\"type\":\"Toolbar\"},{\"attributes\":{},\"id\":\"8041\",\"type\":\"BasicTicker\"}],\"root_ids\":[\"8022\"]},\"title\":\"Bokeh Application\",\"version\":\"2.2.3\"}};\n    var render_items = [{\"docid\":\"dc80604b-0ff5-46d4-b4b9-d85414d9ddc1\",\"root_ids\":[\"8022\"],\"roots\":{\"8022\":\"db942cb5-27d5-49f0-8d04-42930ccbf232\"}}];\n    root.Bokeh.embed.embed_items_notebook(docs_json, render_items);\n  }\n  if (root.Bokeh !== undefined && root.Bokeh.Panel !== undefined) {\n    embed_document(root);\n  } else {\n    var attempts = 0;\n    var timer = setInterval(function(root) {\n      if (root.Bokeh !== undefined && root.Bokeh.Panel !== undefined) {\n        clearInterval(timer);\n        embed_document(root);\n      } else if (document.readyState == \"complete\") {\n        attempts++;\n        if (attempts > 100) {\n          clearInterval(timer);\n          console.log(\"Bokeh: ERROR: Unable to run BokehJS code because BokehJS library is missing\");\n        }\n      }\n    }, 10, root)\n  }\n})(window);</script>",
      "application/vnd.holoviews_exec.v0+json": "",
      "text/plain": [
       ":Curve   [Month of Period End]   (Median Sale Price)"
      ]
     },
     "metadata": {
      "application/vnd.holoviews_exec.v0+json": {
       "id": "8022"
      }
     },
     "execution_count": 97
    }
   ],
   "source": [
    "# ADF Returns values - printed here for reference\n",
    "#     -------\n",
    "#     [0]adf : float\n",
    "#         The test statistic.\n",
    "#     [1]pvalue : float\n",
    "#         MacKinnon\"s approximate p-value based on MacKinnon (1994, 2010).\n",
    "#     [2]usedlag : int\n",
    "#         The number of lags used.\n",
    "#     [3]nobs : int\n",
    "#         The number of observations used for the ADF regression and calculation\n",
    "#         of the critical values.\n",
    "#     [4]critical values : dict\n",
    "#         Critical values for the test statistic at the 1 %, 5 %, and 10 %\n",
    "#         levels. Based on MacKinnon (2010).\n",
    "#     [5]icbest : float\n",
    "#         The maximized information criterion if autolag is not None.\n",
    "#     [6]resstore : ResultStore, optional\n",
    "#         A dummy class with results attached as attributes.\n",
    "\n",
    "# Select a neighborhood randomly\n",
    "hood = random.choice(seattle_neighborhoods_df.index.get_level_values(\"Region\").unique())\n",
    "\n",
    "# Contain specific instance of neighborhood and value\n",
    "df = seattle_neighborhoods_df.xs(hood, level='Region')[msp]\n",
    "\n",
    "# Just trying to keep the code clean...\n",
    "result = adfuller(df)\n",
    "\n",
    "print(hood)\n",
    "print(f'ADF Statistic:')\n",
    "print(f'    {result[0]}')\n",
    "print(f'p-value:')\n",
    "print(f'    {result[1]}')\n",
    "print(f'n_lags:')\n",
    "print(f'    {result[2]}')\n",
    "for key, value in result[4].items():\n",
    "    print('Critial Values:')\n",
    "    print(f'   {key}, {value}')\n",
    "    \n",
    "df.hvplot(title=hood)"
   ]
  },
  {
   "cell_type": "code",
   "execution_count": 98,
   "metadata": {},
   "outputs": [],
   "source": [
    "# Contain the full list of Seattle neighborhods as an array for easy reference\n",
    "neighborhood_list = seattle_neighborhoods_df.index.get_level_values(\"Region\").unique()"
   ]
  },
  {
   "cell_type": "code",
   "execution_count": 102,
   "metadata": {
    "tags": []
   },
   "outputs": [
    {
     "output_type": "stream",
     "name": "stdout",
     "text": [
      "Seattle, WA - Lake City\nMedian Sale Price - ADF: -0.6815144552172131 \n \nHomes Sold - ADF: -2.247586411453391 \n \nNew Listings - ADF: -3.6964911185475295 \n \nInventory - ADF: -1.9580636661168263 \n \nDays on Market - ADF: -3.688604472106919 \n \nAverage Sale To List - ADF: -2.3772813117458185 \n \n\nSeattle, WA - Lake View\nMedian Sale Price - ADF: -2.627204227693555 \n \nHomes Sold - ADF: -2.028855417011148 \n \nNew Listings - ADF: -3.5917575270429927 \n \nInventory - ADF: 1.1182173334664238 \n \nDays on Market - ADF: -0.7510613011155549 \n \nAverage Sale To List - ADF: -1.8014124887617822 \n \n\nSeattle, WA - Laurelhurst\nMedian Sale Price - ADF: -2.9527885186622207 \n \nHomes Sold - ADF: -2.728024258405608 \n \nNew Listings - ADF: -1.5593847282856115 \n \nInventory - ADF: -4.237764152954558 \n \nDays on Market - ADF: -5.694628194035351 \n \nAverage Sale To List - ADF: -2.080954695944824 \n \n\nSeattle, WA - Lawton Park\nMedian Sale Price - ADF: -0.9924587145147495 \n \nHomes Sold - ADF: -3.7617598891932236 \n \nNew Listings - ADF: -2.4637092270613525 \n \nInventory - ADF: -1.8219664120178565 \n \nDays on Market - ADF: -6.559433771964885 \n \nAverage Sale To List - ADF: -2.8144626216228623 \n \n\nSeattle, WA - Leschi\nMedian Sale Price - ADF: 0.38027462333811474 \n \nHomes Sold - ADF: -2.2986222510745824 \n \nNew Listings - ADF: -2.621272091141166 \n \nInventory - ADF: -1.7638284722950421 \n \nDays on Market - ADF: -4.912533996484976 \n \nAverage Sale To List - ADF: -1.9012390623591484 \n \n\n"
     ]
    }
   ],
   "source": [
    "# Iterate through every neighborhood and run the ADF test on values\n",
    "# Define a start and stop to contain a range of neighborhoods\n",
    "start = 45\n",
    "stop = 50\n",
    "\n",
    "for neighborhood in neighborhood_list[start:stop]:\n",
    "    # Run ADF on Seattle data, looking at Median Sale Price\n",
    "    print(f'{neighborhood}')\n",
    "    for i in main_values:\n",
    "        print(f\"{i} - ADF: {adfuller(seattle_neighborhoods_df.xs(neighborhood, level='Region')[i])[0]} \\n \")\n",
    "        # print(  adfuller(seattle_neighborhoods_df.xs(neighborhood, level='Region')[msp])[1])\n",
    "    print()\n",
    "\n",
    "# For clarification, the above line `seattle_neighborhoods_df.xs(neighborhood, level='Region')[i])[0]` takes the FULL dataframe,\n",
    "#   uses Pandas cross section (xs) to slice to one of the two indexes (`Month of Period End` and `Region`)\n",
    "#   referenced by the `neighborhood` variable\n",
    "#   and the index level is specified by the `level` parameter\n",
    "#   then the particular column of data in that neighborhood is selected from the returned array with the [i]\n",
    "#   which pulls a new value during each iteration as the `for loop` traverses the `main_values` array that\n",
    "#   contains shorthand variables for each column in the original dataframe"
   ]
  },
  {
   "cell_type": "code",
   "execution_count": 103,
   "metadata": {},
   "outputs": [
    {
     "output_type": "display_data",
     "data": {},
     "metadata": {}
    },
    {
     "output_type": "execute_result",
     "data": {
      "text/html": "<div id='8211'>\n\n\n\n\n\n  <div class=\"bk-root\" id=\"c445192d-3192-4c0b-a857-cb3b1c954a19\" data-root-id=\"8211\"></div>\n</div>\n<script type=\"application/javascript\">(function(root) {\n  function embed_document(root) {\n    var docs_json = {\"7324343f-fa66-4780-9ee0-8338f542fe58\":{\"roots\":{\"references\":[{\"attributes\":{\"line_color\":\"#9367bc\",\"line_width\":2,\"x\":{\"field\":\"Month of Period End\"},\"y\":{\"field\":\"value\"}},\"id\":\"8387\",\"type\":\"Line\"},{\"attributes\":{\"bottom_units\":\"screen\",\"fill_alpha\":0.5,\"fill_color\":\"lightgrey\",\"left_units\":\"screen\",\"level\":\"overlay\",\"line_alpha\":1.0,\"line_color\":\"black\",\"line_dash\":[4,4],\"line_width\":2,\"right_units\":\"screen\",\"top_units\":\"screen\"},\"id\":\"8243\",\"type\":\"BoxAnnotation\"},{\"attributes\":{\"days\":[1,4,7,10,13,16,19,22,25,28]},\"id\":\"8273\",\"type\":\"DaysTicker\"},{\"attributes\":{\"line_alpha\":0.1,\"line_color\":\"#9367bc\",\"line_width\":2,\"x\":{\"field\":\"Month of Period End\"},\"y\":{\"field\":\"value\"}},\"id\":\"8388\",\"type\":\"Line\"},{\"attributes\":{\"days\":[1,15]},\"id\":\"8275\",\"type\":\"DaysTicker\"},{\"attributes\":{\"data_source\":{\"id\":\"8384\"},\"glyph\":{\"id\":\"8387\"},\"hover_glyph\":null,\"muted_glyph\":{\"id\":\"8389\"},\"nonselection_glyph\":{\"id\":\"8388\"},\"selection_glyph\":null,\"view\":{\"id\":\"8391\"}},\"id\":\"8390\",\"type\":\"GlyphRenderer\"},{\"attributes\":{\"months\":[0,6]},\"id\":\"8279\",\"type\":\"MonthsTicker\"},{\"attributes\":{\"source\":{\"id\":\"8421\"}},\"id\":\"8428\",\"type\":\"CDSView\"},{\"attributes\":{\"margin\":[5,5,5,5],\"name\":\"HSpacer13511\",\"sizing_mode\":\"stretch_width\"},\"id\":\"8212\",\"type\":\"Spacer\"},{\"attributes\":{\"days\":[1,8,15,22]},\"id\":\"8274\",\"type\":\"DaysTicker\"},{\"attributes\":{},\"id\":\"8280\",\"type\":\"YearsTicker\"},{\"attributes\":{\"label\":{\"value\":\"Days on Market MoM\"},\"renderers\":[{\"id\":\"8390\"}]},\"id\":\"8420\",\"type\":\"LegendItem\"},{\"attributes\":{\"months\":[0,1,2,3,4,5,6,7,8,9,10,11]},\"id\":\"8276\",\"type\":\"MonthsTicker\"},{\"attributes\":{\"line_alpha\":0.2,\"line_color\":\"#8c564b\",\"line_width\":2,\"x\":{\"field\":\"Month of Period End\"},\"y\":{\"field\":\"value\"}},\"id\":\"8426\",\"type\":\"Line\"},{\"attributes\":{\"months\":[0,2,4,6,8,10]},\"id\":\"8277\",\"type\":\"MonthsTicker\"},{\"attributes\":{\"line_alpha\":0.2,\"line_color\":\"#9367bc\",\"line_width\":2,\"x\":{\"field\":\"Month of Period End\"},\"y\":{\"field\":\"value\"}},\"id\":\"8389\",\"type\":\"Line\"},{\"attributes\":{},\"id\":\"8317\",\"type\":\"Selection\"},{\"attributes\":{\"data_source\":{\"id\":\"8421\"},\"glyph\":{\"id\":\"8424\"},\"hover_glyph\":null,\"muted_glyph\":{\"id\":\"8426\"},\"nonselection_glyph\":{\"id\":\"8425\"},\"selection_glyph\":null,\"view\":{\"id\":\"8428\"}},\"id\":\"8427\",\"type\":\"GlyphRenderer\"},{\"attributes\":{\"source\":{\"id\":\"8384\"}},\"id\":\"8391\",\"type\":\"CDSView\"},{\"attributes\":{\"months\":[0,4,8]},\"id\":\"8278\",\"type\":\"MonthsTicker\"},{\"attributes\":{},\"id\":\"8422\",\"type\":\"Selection\"},{\"attributes\":{\"line_color\":\"#d62628\",\"line_width\":2,\"x\":{\"field\":\"Month of Period End\"},\"y\":{\"field\":\"value\"}},\"id\":\"8352\",\"type\":\"Line\"},{\"attributes\":{\"line_color\":\"#2ba02b\",\"line_width\":2,\"x\":{\"field\":\"Month of Period End\"},\"y\":{\"field\":\"value\"}},\"id\":\"8319\",\"type\":\"Line\"},{\"attributes\":{\"line_alpha\":0.2,\"line_color\":\"#2ba02b\",\"line_width\":2,\"x\":{\"field\":\"Month of Period End\"},\"y\":{\"field\":\"value\"}},\"id\":\"8321\",\"type\":\"Line\"},{\"attributes\":{\"source\":{\"id\":\"8316\"}},\"id\":\"8323\",\"type\":\"CDSView\"},{\"attributes\":{},\"id\":\"8418\",\"type\":\"UnionRenderers\"},{\"attributes\":{\"end\":221.48000000000002,\"reset_end\":221.48000000000002,\"reset_start\":-86.68,\"start\":-86.68,\"tags\":[[[\"value\",\"value\",null]]]},\"id\":\"8214\",\"type\":\"Range1d\"},{\"attributes\":{\"data\":{\"Month of Period End\":{\"__ndarray__\":\"AABAX2NTc0IAAADmuFxzQgAAQDizZnNCAADAJFtwc0IAAAB3VXpzQgAAgGP9g3NCAADAtfeNc0IAAAAI8pdzQgAAgPSZoXNCAADARpSrc0IAAEAzPLVzQgAAgIU2v3NCAADA1zDJc0IAAMD4M9JzQgAAAEsu3HNCAACAN9blc0IAAMCJ0O9zQgAAQHZ4+XNCAACAyHIDdEIAAMAabQ10QgAAQAcVF3RCAACAWQ8hdEIAAABGtyp0QgAAQJixNHRCAACA6qs+dEIAAIALr0d0QgAAwF2pUXRCAABASlFbdEIAAICcS2V0QgAAAInzbnRCAABA2+14dEIAAIAt6IJ0QgAAABqQjHRCAABAbIqWdEIAAMBYMqB0QgAAAKssqnRCAABA/Sa0dEIAAEAeKr10QgAAgHAkx3RCAAAAXczQdEIAAECvxtp0QgAAwJtu5HRCAAAA7mjudEIAAEBAY/h0QgAAwCwLAnVCAAAAfwUMdUIAAIBrrRV1QgAAwL2nH3VCAAAAEKIpdUIAAMCW9zJ1QgAAAOnxPHVCAACA1ZlGdUIAAMAnlFB1QgAAQBQ8WnVCAACAZjZkdUIAAMC4MG51QgAAQKXYd3VCAACA99KBdUIAAADkeot1QgAAQDZ1lXVCAACAiG+fdUIAAICpcqh1QgAAwPtssnVCAABA6BS8dUIAAIA6D8Z1QgAAACe3z3VCAABAebHZdUIAAIDLq+N1QgAAALhT7XVCAABACk73dUIAAMD29QB2QgAAAEnwCnZCAABAm+oUdkIAAEC87R12QgAAgA7oJ3ZCAAAA+48xdkIAAEBNijt2QgAAwDkyRXZCAAAAjCxPdkIAAEDeJll2QgAAwMrOYnZCAAAAHclsdkIAAIAJcXZ2QgAAwFtrgHZCAAAArmWKdkIAAADPaJN2QgAAQCFjnXZCAADADQundkIAAABgBbF2QgAAgEytunZCAADAnqfEdkIAAADxoc52QgAAgN1J2HZCAADAL0TidkIAAEAc7Ot2QgAAgG7m9XZCAADAwOD/dkIAAIBHNgl3QgAAwJkwE3dCAABAhtgcd0IAAIDY0iZ3QgAAAMV6MHdCAABAF3U6d0IAAIBpb0R3QgAAAFYXTndC\",\"dtype\":\"float64\",\"order\":\"little\",\"shape\":[105]},\"Month_of_Period_End\":{\"__ndarray__\":\"AABAX2NTc0IAAADmuFxzQgAAQDizZnNCAADAJFtwc0IAAAB3VXpzQgAAgGP9g3NCAADAtfeNc0IAAAAI8pdzQgAAgPSZoXNCAADARpSrc0IAAEAzPLVzQgAAgIU2v3NCAADA1zDJc0IAAMD4M9JzQgAAAEsu3HNCAACAN9blc0IAAMCJ0O9zQgAAQHZ4+XNCAACAyHIDdEIAAMAabQ10QgAAQAcVF3RCAACAWQ8hdEIAAABGtyp0QgAAQJixNHRCAACA6qs+dEIAAIALr0d0QgAAwF2pUXRCAABASlFbdEIAAICcS2V0QgAAAInzbnRCAABA2+14dEIAAIAt6IJ0QgAAABqQjHRCAABAbIqWdEIAAMBYMqB0QgAAAKssqnRCAABA/Sa0dEIAAEAeKr10QgAAgHAkx3RCAAAAXczQdEIAAECvxtp0QgAAwJtu5HRCAAAA7mjudEIAAEBAY/h0QgAAwCwLAnVCAAAAfwUMdUIAAIBrrRV1QgAAwL2nH3VCAAAAEKIpdUIAAMCW9zJ1QgAAAOnxPHVCAACA1ZlGdUIAAMAnlFB1QgAAQBQ8WnVCAACAZjZkdUIAAMC4MG51QgAAQKXYd3VCAACA99KBdUIAAADkeot1QgAAQDZ1lXVCAACAiG+fdUIAAICpcqh1QgAAwPtssnVCAABA6BS8dUIAAIA6D8Z1QgAAACe3z3VCAABAebHZdUIAAIDLq+N1QgAAALhT7XVCAABACk73dUIAAMD29QB2QgAAAEnwCnZCAABAm+oUdkIAAEC87R12QgAAgA7oJ3ZCAAAA+48xdkIAAEBNijt2QgAAwDkyRXZCAAAAjCxPdkIAAEDeJll2QgAAwMrOYnZCAAAAHclsdkIAAIAJcXZ2QgAAwFtrgHZCAAAArmWKdkIAAADPaJN2QgAAQCFjnXZCAADADQundkIAAABgBbF2QgAAgEytunZCAADAnqfEdkIAAADxoc52QgAAgN1J2HZCAADAL0TidkIAAEAc7Ot2QgAAgG7m9XZCAADAwOD/dkIAAIBHNgl3QgAAwJkwE3dCAABAhtgcd0IAAIDY0iZ3QgAAAMV6MHdCAABAF3U6d0IAAIBpb0R3QgAAAFYXTndC\",\"dtype\":\"float64\",\"order\":\"little\",\"shape\":[105]},\"Variable\":[\"New Listings MoM\",\"New Listings MoM\",\"New Listings MoM\",\"New Listings MoM\",\"New Listings MoM\",\"New Listings MoM\",\"New Listings MoM\",\"New Listings MoM\",\"New Listings MoM\",\"New Listings MoM\",\"New Listings MoM\",\"New Listings MoM\",\"New Listings MoM\",\"New Listings MoM\",\"New Listings MoM\",\"New Listings MoM\",\"New Listings MoM\",\"New Listings MoM\",\"New Listings MoM\",\"New Listings MoM\",\"New Listings MoM\",\"New Listings MoM\",\"New Listings MoM\",\"New Listings MoM\",\"New Listings MoM\",\"New Listings MoM\",\"New Listings MoM\",\"New Listings MoM\",\"New Listings MoM\",\"New Listings MoM\",\"New Listings MoM\",\"New Listings MoM\",\"New Listings MoM\",\"New Listings MoM\",\"New Listings MoM\",\"New Listings MoM\",\"New Listings MoM\",\"New Listings MoM\",\"New Listings MoM\",\"New Listings MoM\",\"New Listings MoM\",\"New Listings MoM\",\"New Listings MoM\",\"New Listings MoM\",\"New Listings MoM\",\"New Listings MoM\",\"New Listings MoM\",\"New Listings MoM\",\"New Listings MoM\",\"New Listings MoM\",\"New Listings MoM\",\"New Listings MoM\",\"New Listings MoM\",\"New Listings MoM\",\"New Listings MoM\",\"New Listings MoM\",\"New Listings MoM\",\"New Listings MoM\",\"New Listings MoM\",\"New Listings MoM\",\"New Listings MoM\",\"New Listings MoM\",\"New Listings MoM\",\"New Listings MoM\",\"New Listings MoM\",\"New Listings MoM\",\"New Listings MoM\",\"New Listings MoM\",\"New Listings MoM\",\"New Listings MoM\",\"New Listings MoM\",\"New Listings MoM\",\"New Listings MoM\",\"New Listings MoM\",\"New Listings MoM\",\"New Listings MoM\",\"New Listings MoM\",\"New Listings MoM\",\"New Listings MoM\",\"New Listings MoM\",\"New Listings MoM\",\"New Listings MoM\",\"New Listings MoM\",\"New Listings MoM\",\"New Listings MoM\",\"New Listings MoM\",\"New Listings MoM\",\"New Listings MoM\",\"New Listings MoM\",\"New Listings MoM\",\"New Listings MoM\",\"New Listings MoM\",\"New Listings MoM\",\"New Listings MoM\",\"New Listings MoM\",\"New Listings MoM\",\"New Listings MoM\",\"New Listings MoM\",\"New Listings MoM\",\"New Listings MoM\",\"New Listings MoM\",\"New Listings MoM\",\"New Listings MoM\",\"New Listings MoM\",\"New Listings MoM\"],\"value\":{\"__ndarray__\":\"zczMzMxMNUCamZmZmRk8QDMzMzMzMw9AMzMzMzMzD0AzMzMzMzMXwJqZmZmZmSXAmpmZmZmZE8CamZmZmRkzQGZmZmZm5jbAAAAAAACAPcBmZmZmZiZDwGZmZmZmZltAmpmZmZmZOUAAAAAAAAA1QGZmZmZmZidAmpmZmZkZMEAAAAAAAAAEwAAAAAAAACfAmpmZmZmZE8AzMzMzMzPjv5qZmZmZmTDAMzMzMzMzQ8CamZmZmVlDwJqZmZmZWV5AzczMzMzMBEBmZmZmZuY9QM3MzMzMzClAZmZmZmZmL0CamZmZmZkiwDMzMzMzMw/AzczMzMzMMsBmZmZmZuYxQJqZmZmZmTDAZmZmZmbmQ8DNzMzMzIxCwAAAAAAAwFlAMzMzMzMzLUBmZmZmZmZGQM3MzMzMzCdAmpmZmZmZ8b8AAAAAAAAewAAAAAAAABrAZmZmZmZmFMDNzMzMzMwSQAAAAAAAADTAAAAAAAAAQsAzMzMzM3NBwJqZmZmZ+VZAMzMzMzOzMUBmZmZmZqZDQDMzMzMzMx9AAAAAAAAA+D8zMzMzMzPjPzMzMzMzMw/AzczMzMzMIMAzMzMzMzMrQJqZmZmZWUDAzczMzMyMQMAzMzMzM/NAwGZmZmZmplNAAAAAAAAAIUDNzMzMzMxKQGZmZmZmZhTAZmZmZmZmNkCamZmZmZnJv2ZmZmZmZirAZmZmZmZmGsDNzMzMzMwrQM3MzMzMTDXAAAAAAACAP8DNzMzMzExIwGZmZmZmJltAzczMzMzMHEBmZmZmZmZKQM3MzMzMzOy/ZmZmZmZmNkAzMzMzMzPTv83MzMzMTDHAZmZmZmZmIcCamZmZmZk8QM3MzMzMTDvAzczMzMyMQcAAAAAAAIBOwJqZmZmZeWhAmpmZmZmZ8T8zMzMzMxNRQDMzMzMzMyBAzczMzMxMMkAzMzMzM7M1wJqZmZmZmTLAzczMzMzMJsCamZmZmZk4QM3MzMzMzDHAZmZmZmamRcCamZmZmRlEwAAAAAAAIFxAZmZmZmZmSUAzMzMzMzM2QAAAAAAAAD7AAAAAAABAQkCamZmZmZkvQAAAAAAAAClAMzMzMzMzG0AzMzMzMzMXwAAAAAAAAC7A\",\"dtype\":\"float64\",\"order\":\"little\",\"shape\":[105]}},\"selected\":{\"id\":\"8317\"},\"selection_policy\":{\"id\":\"8346\"}},\"id\":\"8316\",\"type\":\"ColumnDataSource\"},{\"attributes\":{\"client_comm_id\":\"35ca5756034644ee9c868ac57cc4cd03\",\"comm_id\":\"3206b5fff2114d16ba9e2af19ccdf0a0\",\"plot_id\":\"8211\"},\"id\":\"8830\",\"type\":\"panel.models.comm_manager.CommManager\"},{\"attributes\":{\"line_alpha\":0.1,\"line_color\":\"#2ba02b\",\"line_width\":2,\"x\":{\"field\":\"Month of Period End\"},\"y\":{\"field\":\"value\"}},\"id\":\"8320\",\"type\":\"Line\"},{\"attributes\":{\"data_source\":{\"id\":\"8316\"},\"glyph\":{\"id\":\"8319\"},\"hover_glyph\":null,\"muted_glyph\":{\"id\":\"8321\"},\"nonselection_glyph\":{\"id\":\"8320\"},\"selection_glyph\":null,\"view\":{\"id\":\"8323\"}},\"id\":\"8322\",\"type\":\"GlyphRenderer\"},{\"attributes\":{},\"id\":\"8281\",\"type\":\"UnionRenderers\"},{\"attributes\":{\"label\":{\"value\":\"New Listings MoM\"},\"renderers\":[{\"id\":\"8322\"}]},\"id\":\"8348\",\"type\":\"LegendItem\"},{\"attributes\":{\"data\":{\"Month of Period End\":{\"__ndarray__\":\"AABAX2NTc0IAAADmuFxzQgAAQDizZnNCAADAJFtwc0IAAAB3VXpzQgAAgGP9g3NCAADAtfeNc0IAAAAI8pdzQgAAgPSZoXNCAADARpSrc0IAAEAzPLVzQgAAgIU2v3NCAADA1zDJc0IAAMD4M9JzQgAAAEsu3HNCAACAN9blc0IAAMCJ0O9zQgAAQHZ4+XNCAACAyHIDdEIAAMAabQ10QgAAQAcVF3RCAACAWQ8hdEIAAABGtyp0QgAAQJixNHRCAACA6qs+dEIAAIALr0d0QgAAwF2pUXRCAABASlFbdEIAAICcS2V0QgAAAInzbnRCAABA2+14dEIAAIAt6IJ0QgAAABqQjHRCAABAbIqWdEIAAMBYMqB0QgAAAKssqnRCAABA/Sa0dEIAAEAeKr10QgAAgHAkx3RCAAAAXczQdEIAAECvxtp0QgAAwJtu5HRCAAAA7mjudEIAAEBAY/h0QgAAwCwLAnVCAAAAfwUMdUIAAIBrrRV1QgAAwL2nH3VCAAAAEKIpdUIAAMCW9zJ1QgAAAOnxPHVCAACA1ZlGdUIAAMAnlFB1QgAAQBQ8WnVCAACAZjZkdUIAAMC4MG51QgAAQKXYd3VCAACA99KBdUIAAADkeot1QgAAQDZ1lXVCAACAiG+fdUIAAICpcqh1QgAAwPtssnVCAABA6BS8dUIAAIA6D8Z1QgAAACe3z3VCAABAebHZdUIAAIDLq+N1QgAAALhT7XVCAABACk73dUIAAMD29QB2QgAAAEnwCnZCAABAm+oUdkIAAEC87R12QgAAgA7oJ3ZCAAAA+48xdkIAAEBNijt2QgAAwDkyRXZCAAAAjCxPdkIAAEDeJll2QgAAwMrOYnZCAAAAHclsdkIAAIAJcXZ2QgAAwFtrgHZCAAAArmWKdkIAAADPaJN2QgAAQCFjnXZCAADADQundkIAAABgBbF2QgAAgEytunZCAADAnqfEdkIAAADxoc52QgAAgN1J2HZCAADAL0TidkIAAEAc7Ot2QgAAgG7m9XZCAADAwOD/dkIAAIBHNgl3QgAAwJkwE3dCAABAhtgcd0IAAIDY0iZ3QgAAAMV6MHdCAABAF3U6d0IAAIBpb0R3QgAAAFYXTndC\",\"dtype\":\"float64\",\"order\":\"little\",\"shape\":[105]},\"Month_of_Period_End\":{\"__ndarray__\":\"AABAX2NTc0IAAADmuFxzQgAAQDizZnNCAADAJFtwc0IAAAB3VXpzQgAAgGP9g3NCAADAtfeNc0IAAAAI8pdzQgAAgPSZoXNCAADARpSrc0IAAEAzPLVzQgAAgIU2v3NCAADA1zDJc0IAAMD4M9JzQgAAAEsu3HNCAACAN9blc0IAAMCJ0O9zQgAAQHZ4+XNCAACAyHIDdEIAAMAabQ10QgAAQAcVF3RCAACAWQ8hdEIAAABGtyp0QgAAQJixNHRCAACA6qs+dEIAAIALr0d0QgAAwF2pUXRCAABASlFbdEIAAICcS2V0QgAAAInzbnRCAABA2+14dEIAAIAt6IJ0QgAAABqQjHRCAABAbIqWdEIAAMBYMqB0QgAAAKssqnRCAABA/Sa0dEIAAEAeKr10QgAAgHAkx3RCAAAAXczQdEIAAECvxtp0QgAAwJtu5HRCAAAA7mjudEIAAEBAY/h0QgAAwCwLAnVCAAAAfwUMdUIAAIBrrRV1QgAAwL2nH3VCAAAAEKIpdUIAAMCW9zJ1QgAAAOnxPHVCAACA1ZlGdUIAAMAnlFB1QgAAQBQ8WnVCAACAZjZkdUIAAMC4MG51QgAAQKXYd3VCAACA99KBdUIAAADkeot1QgAAQDZ1lXVCAACAiG+fdUIAAICpcqh1QgAAwPtssnVCAABA6BS8dUIAAIA6D8Z1QgAAACe3z3VCAABAebHZdUIAAIDLq+N1QgAAALhT7XVCAABACk73dUIAAMD29QB2QgAAAEnwCnZCAABAm+oUdkIAAEC87R12QgAAgA7oJ3ZCAAAA+48xdkIAAEBNijt2QgAAwDkyRXZCAAAAjCxPdkIAAEDeJll2QgAAwMrOYnZCAAAAHclsdkIAAIAJcXZ2QgAAwFtrgHZCAAAArmWKdkIAAADPaJN2QgAAQCFjnXZCAADADQundkIAAABgBbF2QgAAgEytunZCAADAnqfEdkIAAADxoc52QgAAgN1J2HZCAADAL0TidkIAAEAc7Ot2QgAAgG7m9XZCAADAwOD/dkIAAIBHNgl3QgAAwJkwE3dCAABAhtgcd0IAAIDY0iZ3QgAAAMV6MHdCAABAF3U6d0IAAIBpb0R3QgAAAFYXTndC\",\"dtype\":\"float64\",\"order\":\"little\",\"shape\":[105]},\"Variable\":[\"Homes Sold MoM\",\"Homes Sold MoM\",\"Homes Sold MoM\",\"Homes Sold MoM\",\"Homes Sold MoM\",\"Homes Sold MoM\",\"Homes Sold MoM\",\"Homes Sold MoM\",\"Homes Sold MoM\",\"Homes Sold MoM\",\"Homes Sold MoM\",\"Homes Sold MoM\",\"Homes Sold MoM\",\"Homes Sold MoM\",\"Homes Sold MoM\",\"Homes Sold MoM\",\"Homes Sold MoM\",\"Homes Sold MoM\",\"Homes Sold MoM\",\"Homes Sold MoM\",\"Homes Sold MoM\",\"Homes Sold MoM\",\"Homes Sold MoM\",\"Homes Sold MoM\",\"Homes Sold MoM\",\"Homes Sold MoM\",\"Homes Sold MoM\",\"Homes Sold MoM\",\"Homes Sold MoM\",\"Homes Sold MoM\",\"Homes Sold MoM\",\"Homes Sold MoM\",\"Homes Sold MoM\",\"Homes Sold MoM\",\"Homes Sold MoM\",\"Homes Sold MoM\",\"Homes Sold MoM\",\"Homes Sold MoM\",\"Homes Sold MoM\",\"Homes Sold MoM\",\"Homes Sold MoM\",\"Homes Sold MoM\",\"Homes Sold MoM\",\"Homes Sold MoM\",\"Homes Sold MoM\",\"Homes Sold MoM\",\"Homes Sold MoM\",\"Homes Sold MoM\",\"Homes Sold MoM\",\"Homes Sold MoM\",\"Homes Sold MoM\",\"Homes Sold MoM\",\"Homes Sold MoM\",\"Homes Sold MoM\",\"Homes Sold MoM\",\"Homes Sold MoM\",\"Homes Sold MoM\",\"Homes Sold MoM\",\"Homes Sold MoM\",\"Homes Sold MoM\",\"Homes Sold MoM\",\"Homes Sold MoM\",\"Homes Sold MoM\",\"Homes Sold MoM\",\"Homes Sold MoM\",\"Homes Sold MoM\",\"Homes Sold MoM\",\"Homes Sold MoM\",\"Homes Sold MoM\",\"Homes Sold MoM\",\"Homes Sold MoM\",\"Homes Sold MoM\",\"Homes Sold MoM\",\"Homes Sold MoM\",\"Homes Sold MoM\",\"Homes Sold MoM\",\"Homes Sold MoM\",\"Homes Sold MoM\",\"Homes Sold MoM\",\"Homes Sold MoM\",\"Homes Sold MoM\",\"Homes Sold MoM\",\"Homes Sold MoM\",\"Homes Sold MoM\",\"Homes Sold MoM\",\"Homes Sold MoM\",\"Homes Sold MoM\",\"Homes Sold MoM\",\"Homes Sold MoM\",\"Homes Sold MoM\",\"Homes Sold MoM\",\"Homes Sold MoM\",\"Homes Sold MoM\",\"Homes Sold MoM\",\"Homes Sold MoM\",\"Homes Sold MoM\",\"Homes Sold MoM\",\"Homes Sold MoM\",\"Homes Sold MoM\",\"Homes Sold MoM\",\"Homes Sold MoM\",\"Homes Sold MoM\",\"Homes Sold MoM\",\"Homes Sold MoM\",\"Homes Sold MoM\"],\"value\":{\"__ndarray__\":\"ZmZmZmZmJ0AzMzMzM7NBQJqZmZmZGTBAzczMzMzMLEDNzMzMzMwQQAAAAAAAACTAmpmZmZmZEUDNzMzMzEwzwDMzMzMzMzJAZmZmZmZmIcAzMzMzMzMhwDMzMzMzMznAZmZmZmZmGkDNzMzMzMxHQJqZmZmZmS1AzczMzMxMM0DNzMzMzMwiwM3MzMzMzChAMzMzMzMzD8DNzMzMzEw0wDMzMzMzMypAAAAAAACAN8AzMzMzMzMHwAAAAAAAgDnAMzMzMzMzK0CamZmZmdlAQJqZmZmZmS9AzczMzMzMGkAzMzMzMzMPQJqZmZmZmfm/AAAAAAAAFMAzMzMzMzMZwDMzMzMzMyFAmpmZmZmZNcAzMzMzMzMDQDMzMzMzc0LAmpmZmZkZNUDNzMzMzExEQAAAAAAAgDZAMzMzMzMzF0BmZmZmZmYsQJqZmZmZmck/ZmZmZmZmKsBmZmZmZmYhwAAAAAAAAAAAAAAAAACAO8AzMzMzM7MzQGZmZmZm5kTAMzMzMzNzQEBmZmZmZuZAQGZmZmZmZilAmpmZmZmZG0BmZmZmZmY8QM3MzMzMzCrAAAAAAAAAFkCamZmZmZklwJqZmZmZmRvAmpmZmZmZFcDNzMzMzMwnwAAAAAAAAD3AMzMzMzMz47+amZmZmdlKQM3MzMzMzBbAmpmZmZkZPkAAAAAAAAAcQAAAAAAAACXAZmZmZmZmHEBmZmZmZmYwwM3MzMzMzBJAmpmZmZmZHcBmZmZmZmYrwGZmZmZmJkLAzczMzMxMMEDNzMzMzAxEQJqZmZmZmSZAmpmZmZmZLEBmZmZmZmYCwGZmZmZmZhDAZmZmZmZmIMAzMzMzM7M7wDMzMzMzszNAZmZmZmZmJ8CamZmZmZkkwJqZmZmZGTbAAAAAAACAP0CamZmZmZkfQAAAAAAAQEJAAAAAAAAALEDNzMzMzMwcwDMzMzMzM/s/MzMzMzMzC8AAAAAAAIA1wGZmZmZmZi1AzczMzMzMIcAzMzMzMzPTvzMzMzMzszzAzczMzMwMQEDNzMzMzMw2QJqZmZmZmTnAZmZmZmZm5j8AAAAAAMBCQAAAAAAAADRAMzMzMzMzA8DNzMzMzMwhQJqZmZmZmem/\",\"dtype\":\"float64\",\"order\":\"little\",\"shape\":[105]}},\"selected\":{\"id\":\"8286\"},\"selection_policy\":{\"id\":\"8313\"}},\"id\":\"8285\",\"type\":\"ColumnDataSource\"},{\"attributes\":{\"children\":[{\"id\":\"8738\"}],\"css_classes\":[\"panel-widget-box\"],\"margin\":[5,5,5,5],\"name\":\"WidgetBox13503\"},\"id\":\"8737\",\"type\":\"Column\"},{\"attributes\":{},\"id\":\"8251\",\"type\":\"DatetimeTickFormatter\"},{\"attributes\":{},\"id\":\"8253\",\"type\":\"BasicTickFormatter\"},{\"attributes\":{},\"id\":\"8346\",\"type\":\"UnionRenderers\"},{\"attributes\":{\"callback\":null,\"formatters\":{\"@{Month of Period End}\":\"datetime\",\"@{Month_of_Period_End}\":\"datetime\"},\"renderers\":[{\"id\":\"8261\"},{\"id\":\"8291\"},{\"id\":\"8322\"},{\"id\":\"8355\"},{\"id\":\"8390\"},{\"id\":\"8427\"}],\"tags\":[\"hv_created\"],\"tooltips\":[[\"Variable\",\"@{Variable}\"],[\"Month of Period End\",\"@{Month_of_Period_End}\"],[\"value\",\"@{value}\"]]},\"id\":\"8215\",\"type\":\"HoverTool\"},{\"attributes\":{\"line_alpha\":0.1,\"line_color\":\"#8c564b\",\"line_width\":2,\"x\":{\"field\":\"Month of Period End\"},\"y\":{\"field\":\"value\"}},\"id\":\"8425\",\"type\":\"Line\"},{\"attributes\":{\"text\":\"Region: Seattle, WA\",\"text_color\":{\"value\":\"black\"},\"text_font_size\":{\"value\":\"12pt\"}},\"id\":\"8222\",\"type\":\"Title\"},{\"attributes\":{\"data_source\":{\"id\":\"8285\"},\"glyph\":{\"id\":\"8288\"},\"hover_glyph\":null,\"muted_glyph\":{\"id\":\"8290\"},\"nonselection_glyph\":{\"id\":\"8289\"},\"selection_glyph\":null,\"view\":{\"id\":\"8292\"}},\"id\":\"8291\",\"type\":\"GlyphRenderer\"},{\"attributes\":{},\"id\":\"8226\",\"type\":\"LinearScale\"},{\"attributes\":{\"line_color\":\"#1f77b3\",\"line_width\":2,\"x\":{\"field\":\"Month of Period End\"},\"y\":{\"field\":\"value\"}},\"id\":\"8258\",\"type\":\"Line\"},{\"attributes\":{\"end\":1601510400000.0,\"reset_end\":1601510400000.0,\"reset_start\":1328054400000.0,\"start\":1328054400000.0,\"tags\":[[[\"Month of Period End\",\"Month of Period End\",null]]]},\"id\":\"8213\",\"type\":\"Range1d\"},{\"attributes\":{\"line_alpha\":0.1,\"line_color\":\"#1f77b3\",\"line_width\":2,\"x\":{\"field\":\"Month of Period End\"},\"y\":{\"field\":\"value\"}},\"id\":\"8259\",\"type\":\"Line\"},{\"attributes\":{\"data\":{\"Month of Period End\":{\"__ndarray__\":\"AABAX2NTc0IAAADmuFxzQgAAQDizZnNCAADAJFtwc0IAAAB3VXpzQgAAgGP9g3NCAADAtfeNc0IAAAAI8pdzQgAAgPSZoXNCAADARpSrc0IAAEAzPLVzQgAAgIU2v3NCAADA1zDJc0IAAMD4M9JzQgAAAEsu3HNCAACAN9blc0IAAMCJ0O9zQgAAQHZ4+XNCAACAyHIDdEIAAMAabQ10QgAAQAcVF3RCAACAWQ8hdEIAAABGtyp0QgAAQJixNHRCAACA6qs+dEIAAIALr0d0QgAAwF2pUXRCAABASlFbdEIAAICcS2V0QgAAAInzbnRCAABA2+14dEIAAIAt6IJ0QgAAABqQjHRCAABAbIqWdEIAAMBYMqB0QgAAAKssqnRCAABA/Sa0dEIAAEAeKr10QgAAgHAkx3RCAAAAXczQdEIAAECvxtp0QgAAwJtu5HRCAAAA7mjudEIAAEBAY/h0QgAAwCwLAnVCAAAAfwUMdUIAAIBrrRV1QgAAwL2nH3VCAAAAEKIpdUIAAMCW9zJ1QgAAAOnxPHVCAACA1ZlGdUIAAMAnlFB1QgAAQBQ8WnVCAACAZjZkdUIAAMC4MG51QgAAQKXYd3VCAACA99KBdUIAAADkeot1QgAAQDZ1lXVCAACAiG+fdUIAAICpcqh1QgAAwPtssnVCAABA6BS8dUIAAIA6D8Z1QgAAACe3z3VCAABAebHZdUIAAIDLq+N1QgAAALhT7XVCAABACk73dUIAAMD29QB2QgAAAEnwCnZCAABAm+oUdkIAAEC87R12QgAAgA7oJ3ZCAAAA+48xdkIAAEBNijt2QgAAwDkyRXZCAAAAjCxPdkIAAEDeJll2QgAAwMrOYnZCAAAAHclsdkIAAIAJcXZ2QgAAwFtrgHZCAAAArmWKdkIAAADPaJN2QgAAQCFjnXZCAADADQundkIAAABgBbF2QgAAgEytunZCAADAnqfEdkIAAADxoc52QgAAgN1J2HZCAADAL0TidkIAAEAc7Ot2QgAAgG7m9XZCAADAwOD/dkIAAIBHNgl3QgAAwJkwE3dCAABAhtgcd0IAAIDY0iZ3QgAAAMV6MHdCAABAF3U6d0IAAIBpb0R3QgAAAFYXTndC\",\"dtype\":\"float64\",\"order\":\"little\",\"shape\":[105]},\"Month_of_Period_End\":{\"__ndarray__\":\"AABAX2NTc0IAAADmuFxzQgAAQDizZnNCAADAJFtwc0IAAAB3VXpzQgAAgGP9g3NCAADAtfeNc0IAAAAI8pdzQgAAgPSZoXNCAADARpSrc0IAAEAzPLVzQgAAgIU2v3NCAADA1zDJc0IAAMD4M9JzQgAAAEsu3HNCAACAN9blc0IAAMCJ0O9zQgAAQHZ4+XNCAACAyHIDdEIAAMAabQ10QgAAQAcVF3RCAACAWQ8hdEIAAABGtyp0QgAAQJixNHRCAACA6qs+dEIAAIALr0d0QgAAwF2pUXRCAABASlFbdEIAAICcS2V0QgAAAInzbnRCAABA2+14dEIAAIAt6IJ0QgAAABqQjHRCAABAbIqWdEIAAMBYMqB0QgAAAKssqnRCAABA/Sa0dEIAAEAeKr10QgAAgHAkx3RCAAAAXczQdEIAAECvxtp0QgAAwJtu5HRCAAAA7mjudEIAAEBAY/h0QgAAwCwLAnVCAAAAfwUMdUIAAIBrrRV1QgAAwL2nH3VCAAAAEKIpdUIAAMCW9zJ1QgAAAOnxPHVCAACA1ZlGdUIAAMAnlFB1QgAAQBQ8WnVCAACAZjZkdUIAAMC4MG51QgAAQKXYd3VCAACA99KBdUIAAADkeot1QgAAQDZ1lXVCAACAiG+fdUIAAICpcqh1QgAAwPtssnVCAABA6BS8dUIAAIA6D8Z1QgAAACe3z3VCAABAebHZdUIAAIDLq+N1QgAAALhT7XVCAABACk73dUIAAMD29QB2QgAAAEnwCnZCAABAm+oUdkIAAEC87R12QgAAgA7oJ3ZCAAAA+48xdkIAAEBNijt2QgAAwDkyRXZCAAAAjCxPdkIAAEDeJll2QgAAwMrOYnZCAAAAHclsdkIAAIAJcXZ2QgAAwFtrgHZCAAAArmWKdkIAAADPaJN2QgAAQCFjnXZCAADADQundkIAAABgBbF2QgAAgEytunZCAADAnqfEdkIAAADxoc52QgAAgN1J2HZCAADAL0TidkIAAEAc7Ot2QgAAgG7m9XZCAADAwOD/dkIAAIBHNgl3QgAAwJkwE3dCAABAhtgcd0IAAIDY0iZ3QgAAAMV6MHdCAABAF3U6d0IAAIBpb0R3QgAAAFYXTndC\",\"dtype\":\"float64\",\"order\":\"little\",\"shape\":[105]},\"Variable\":[\"Median Sale Price MoM\",\"Median Sale Price MoM\",\"Median Sale Price MoM\",\"Median Sale Price MoM\",\"Median Sale Price MoM\",\"Median Sale Price MoM\",\"Median Sale Price MoM\",\"Median Sale Price MoM\",\"Median Sale Price MoM\",\"Median Sale Price MoM\",\"Median Sale Price MoM\",\"Median Sale Price MoM\",\"Median Sale Price MoM\",\"Median Sale Price MoM\",\"Median Sale Price MoM\",\"Median Sale Price MoM\",\"Median Sale Price MoM\",\"Median Sale Price MoM\",\"Median Sale Price MoM\",\"Median Sale Price MoM\",\"Median Sale Price MoM\",\"Median Sale Price MoM\",\"Median Sale Price MoM\",\"Median Sale Price MoM\",\"Median Sale Price MoM\",\"Median Sale Price MoM\",\"Median Sale Price MoM\",\"Median Sale Price MoM\",\"Median Sale Price MoM\",\"Median Sale Price MoM\",\"Median Sale Price MoM\",\"Median Sale Price MoM\",\"Median Sale Price MoM\",\"Median Sale Price MoM\",\"Median Sale Price MoM\",\"Median Sale Price MoM\",\"Median Sale Price MoM\",\"Median Sale Price MoM\",\"Median Sale Price MoM\",\"Median Sale Price MoM\",\"Median Sale Price MoM\",\"Median Sale Price MoM\",\"Median Sale Price MoM\",\"Median Sale Price MoM\",\"Median Sale Price MoM\",\"Median Sale Price MoM\",\"Median Sale Price MoM\",\"Median Sale Price MoM\",\"Median Sale Price MoM\",\"Median Sale Price MoM\",\"Median Sale Price MoM\",\"Median Sale Price MoM\",\"Median Sale Price MoM\",\"Median Sale Price MoM\",\"Median Sale Price MoM\",\"Median Sale Price MoM\",\"Median Sale Price MoM\",\"Median Sale Price MoM\",\"Median Sale Price MoM\",\"Median Sale Price MoM\",\"Median Sale Price MoM\",\"Median Sale Price MoM\",\"Median Sale Price MoM\",\"Median Sale Price MoM\",\"Median Sale Price MoM\",\"Median Sale Price MoM\",\"Median Sale Price MoM\",\"Median Sale Price MoM\",\"Median Sale Price MoM\",\"Median Sale Price MoM\",\"Median Sale Price MoM\",\"Median Sale Price MoM\",\"Median Sale Price MoM\",\"Median Sale Price MoM\",\"Median Sale Price MoM\",\"Median Sale Price MoM\",\"Median Sale Price MoM\",\"Median Sale Price MoM\",\"Median Sale Price MoM\",\"Median Sale Price MoM\",\"Median Sale Price MoM\",\"Median Sale Price MoM\",\"Median Sale Price MoM\",\"Median Sale Price MoM\",\"Median Sale Price MoM\",\"Median Sale Price MoM\",\"Median Sale Price MoM\",\"Median Sale Price MoM\",\"Median Sale Price MoM\",\"Median Sale Price MoM\",\"Median Sale Price MoM\",\"Median Sale Price MoM\",\"Median Sale Price MoM\",\"Median Sale Price MoM\",\"Median Sale Price MoM\",\"Median Sale Price MoM\",\"Median Sale Price MoM\",\"Median Sale Price MoM\",\"Median Sale Price MoM\",\"Median Sale Price MoM\",\"Median Sale Price MoM\",\"Median Sale Price MoM\",\"Median Sale Price MoM\",\"Median Sale Price MoM\",\"Median Sale Price MoM\"],\"value\":{\"__ndarray__\":\"zczMzMzMGkDNzMzMzMwiQJqZmZmZmSBAMzMzMzMz0z8AAAAAAAAAAM3MzMzMzPS/AAAAAAAAEMCamZmZmZkBQDMzMzMzM9M/AAAAAAAAEkBmZmZmZmYWwGZmZmZmZg7AMzMzMzMzEUCamZmZmZkiQGZmZmZmZgLAZmZmZmZmDkAzMzMzMzPzP2ZmZmZmZhJAZmZmZmZmCsAAAAAAAADgP2ZmZmZmZuY/AAAAAAAACMCamZmZmZnZP5qZmZmZmck/MzMzMzMz8z+amZmZmZkBwJqZmZmZmQVAZmZmZmZmFkBmZmZmZmYCQJqZmZmZmfE/MzMzMzMzIMDNzMzMzMweQAAAAAAAAAAAAAAAAAAABMAzMzMzMzPTP5qZmZmZmRFAzczMzMzMEMAzMzMzMzMLQM3MzMzMzB5AAAAAAAAAAABmZmZmZmYQQJqZmZmZmem/MzMzMzMzG0AzMzMzMzMhwM3MzMzMzADAAAAAAAAAGkDNzMzMzMwAQJqZmZmZmbm/MzMzMzMzB8CamZmZmZkXQGZmZmZmZv4/AAAAAAAABEAAAAAAAAAAQM3MzMzMzOw/MzMzMzMz4z8AAAAAAAD4v83MzMzMzOy/MzMzMzMz07/NzMzMzMwAQAAAAAAAAAAAMzMzMzMzC0AAAAAAAAAUQDMzMzMzMwNAmpmZmZmZ6b8zMzMzMzMZQAAAAAAAAAAAAAAAAAAAAMCamZmZmZnJvwAAAAAAAPi/zczMzMzMCEAzMzMzMzPzvwAAAAAAABRAmpmZmZmZub8AAAAAAAD4P83MzMzMzBBAMzMzMzMz8z+amZmZmZkJwJqZmZmZmdm/AAAAAAAAGsDNzMzMzMwMQJqZmZmZmbm/mpmZmZmZBcCamZmZmZkBwM3MzMzMzBLAAAAAAAAAFkAzMzMzMzMDQJqZmZmZmQFAmpmZmZmZ+T+amZmZmZnpv2ZmZmZmZgLAAAAAAAAAAMAAAAAAAADgPzMzMzMzMwdAAAAAAAAAEsCamZmZmZnxPwAAAAAAAAxAmpmZmZmZG8CamZmZmZkhQDMzMzMzMw9AMzMzMzMzE8AAAAAAAAAYQDMzMzMzM9O/zczMzMzMBEBmZmZmZmb+v5qZmZmZmbk/\",\"dtype\":\"float64\",\"order\":\"little\",\"shape\":[105]}},\"selected\":{\"id\":\"8256\"},\"selection_policy\":{\"id\":\"8281\"}},\"id\":\"8255\",\"type\":\"ColumnDataSource\"},{\"attributes\":{\"line_color\":\"#ff7e0e\",\"line_width\":2,\"x\":{\"field\":\"Month of Period End\"},\"y\":{\"field\":\"value\"}},\"id\":\"8288\",\"type\":\"Line\"},{\"attributes\":{},\"id\":\"8235\",\"type\":\"BasicTicker\"},{\"attributes\":{\"line_color\":\"#8c564b\",\"line_width\":2,\"x\":{\"field\":\"Month of Period End\"},\"y\":{\"field\":\"value\"}},\"id\":\"8424\",\"type\":\"Line\"},{\"attributes\":{\"label\":{\"value\":\"Average Sale To List MoM\"},\"renderers\":[{\"id\":\"8427\"}]},\"id\":\"8459\",\"type\":\"LegendItem\"},{\"attributes\":{\"source\":{\"id\":\"8255\"}},\"id\":\"8262\",\"type\":\"CDSView\"},{\"attributes\":{\"label\":{\"value\":\"Median Sale Price MoM\"},\"renderers\":[{\"id\":\"8261\"}]},\"id\":\"8284\",\"type\":\"LegendItem\"},{\"attributes\":{},\"id\":\"8239\",\"type\":\"PanTool\"},{\"attributes\":{\"line_alpha\":0.2,\"line_color\":\"#1f77b3\",\"line_width\":2,\"x\":{\"field\":\"Month of Period End\"},\"y\":{\"field\":\"value\"}},\"id\":\"8260\",\"type\":\"Line\"},{\"attributes\":{\"line_alpha\":0.1,\"line_color\":\"#d62628\",\"line_width\":2,\"x\":{\"field\":\"Month of Period End\"},\"y\":{\"field\":\"value\"}},\"id\":\"8353\",\"type\":\"Line\"},{\"attributes\":{},\"id\":\"8457\",\"type\":\"UnionRenderers\"},{\"attributes\":{\"data_source\":{\"id\":\"8255\"},\"glyph\":{\"id\":\"8258\"},\"hover_glyph\":null,\"muted_glyph\":{\"id\":\"8260\"},\"nonselection_glyph\":{\"id\":\"8259\"},\"selection_glyph\":null,\"view\":{\"id\":\"8262\"}},\"id\":\"8261\",\"type\":\"GlyphRenderer\"},{\"attributes\":{\"axis\":{\"id\":\"8230\"},\"grid_line_color\":null,\"ticker\":null},\"id\":\"8233\",\"type\":\"Grid\"},{\"attributes\":{\"line_alpha\":0.2,\"line_color\":\"#d62628\",\"line_width\":2,\"x\":{\"field\":\"Month of Period End\"},\"y\":{\"field\":\"value\"}},\"id\":\"8354\",\"type\":\"Line\"},{\"attributes\":{\"click_policy\":\"mute\",\"items\":[{\"id\":\"8284\"},{\"id\":\"8315\"},{\"id\":\"8348\"},{\"id\":\"8383\"},{\"id\":\"8420\"},{\"id\":\"8459\"}],\"location\":[0,0],\"title\":\"Variable\"},\"id\":\"8283\",\"type\":\"Legend\"},{\"attributes\":{\"data\":{\"Month of Period End\":{\"__ndarray__\":\"AABAX2NTc0IAAADmuFxzQgAAQDizZnNCAADAJFtwc0IAAAB3VXpzQgAAgGP9g3NCAADAtfeNc0IAAAAI8pdzQgAAgPSZoXNCAADARpSrc0IAAEAzPLVzQgAAgIU2v3NCAADA1zDJc0IAAMD4M9JzQgAAAEsu3HNCAACAN9blc0IAAMCJ0O9zQgAAQHZ4+XNCAACAyHIDdEIAAMAabQ10QgAAQAcVF3RCAACAWQ8hdEIAAABGtyp0QgAAQJixNHRCAACA6qs+dEIAAIALr0d0QgAAwF2pUXRCAABASlFbdEIAAICcS2V0QgAAAInzbnRCAABA2+14dEIAAIAt6IJ0QgAAABqQjHRCAABAbIqWdEIAAMBYMqB0QgAAAKssqnRCAABA/Sa0dEIAAEAeKr10QgAAgHAkx3RCAAAAXczQdEIAAECvxtp0QgAAwJtu5HRCAAAA7mjudEIAAEBAY/h0QgAAwCwLAnVCAAAAfwUMdUIAAIBrrRV1QgAAwL2nH3VCAAAAEKIpdUIAAMCW9zJ1QgAAAOnxPHVCAACA1ZlGdUIAAMAnlFB1QgAAQBQ8WnVCAACAZjZkdUIAAMC4MG51QgAAQKXYd3VCAACA99KBdUIAAADkeot1QgAAQDZ1lXVCAACAiG+fdUIAAICpcqh1QgAAwPtssnVCAABA6BS8dUIAAIA6D8Z1QgAAACe3z3VCAABAebHZdUIAAIDLq+N1QgAAALhT7XVCAABACk73dUIAAMD29QB2QgAAAEnwCnZCAABAm+oUdkIAAEC87R12QgAAgA7oJ3ZCAAAA+48xdkIAAEBNijt2QgAAwDkyRXZCAAAAjCxPdkIAAEDeJll2QgAAwMrOYnZCAAAAHclsdkIAAIAJcXZ2QgAAwFtrgHZCAAAArmWKdkIAAADPaJN2QgAAQCFjnXZCAADADQundkIAAABgBbF2QgAAgEytunZCAADAnqfEdkIAAADxoc52QgAAgN1J2HZCAADAL0TidkIAAEAc7Ot2QgAAgG7m9XZCAADAwOD/dkIAAIBHNgl3QgAAwJkwE3dCAABAhtgcd0IAAIDY0iZ3QgAAAMV6MHdCAABAF3U6d0IAAIBpb0R3QgAAAFYXTndC\",\"dtype\":\"float64\",\"order\":\"little\",\"shape\":[105]},\"Month_of_Period_End\":{\"__ndarray__\":\"AABAX2NTc0IAAADmuFxzQgAAQDizZnNCAADAJFtwc0IAAAB3VXpzQgAAgGP9g3NCAADAtfeNc0IAAAAI8pdzQgAAgPSZoXNCAADARpSrc0IAAEAzPLVzQgAAgIU2v3NCAADA1zDJc0IAAMD4M9JzQgAAAEsu3HNCAACAN9blc0IAAMCJ0O9zQgAAQHZ4+XNCAACAyHIDdEIAAMAabQ10QgAAQAcVF3RCAACAWQ8hdEIAAABGtyp0QgAAQJixNHRCAACA6qs+dEIAAIALr0d0QgAAwF2pUXRCAABASlFbdEIAAICcS2V0QgAAAInzbnRCAABA2+14dEIAAIAt6IJ0QgAAABqQjHRCAABAbIqWdEIAAMBYMqB0QgAAAKssqnRCAABA/Sa0dEIAAEAeKr10QgAAgHAkx3RCAAAAXczQdEIAAECvxtp0QgAAwJtu5HRCAAAA7mjudEIAAEBAY/h0QgAAwCwLAnVCAAAAfwUMdUIAAIBrrRV1QgAAwL2nH3VCAAAAEKIpdUIAAMCW9zJ1QgAAAOnxPHVCAACA1ZlGdUIAAMAnlFB1QgAAQBQ8WnVCAACAZjZkdUIAAMC4MG51QgAAQKXYd3VCAACA99KBdUIAAADkeot1QgAAQDZ1lXVCAACAiG+fdUIAAICpcqh1QgAAwPtssnVCAABA6BS8dUIAAIA6D8Z1QgAAACe3z3VCAABAebHZdUIAAIDLq+N1QgAAALhT7XVCAABACk73dUIAAMD29QB2QgAAAEnwCnZCAABAm+oUdkIAAEC87R12QgAAgA7oJ3ZCAAAA+48xdkIAAEBNijt2QgAAwDkyRXZCAAAAjCxPdkIAAEDeJll2QgAAwMrOYnZCAAAAHclsdkIAAIAJcXZ2QgAAwFtrgHZCAAAArmWKdkIAAADPaJN2QgAAQCFjnXZCAADADQundkIAAABgBbF2QgAAgEytunZCAADAnqfEdkIAAADxoc52QgAAgN1J2HZCAADAL0TidkIAAEAc7Ot2QgAAgG7m9XZCAADAwOD/dkIAAIBHNgl3QgAAwJkwE3dCAABAhtgcd0IAAIDY0iZ3QgAAAMV6MHdCAABAF3U6d0IAAIBpb0R3QgAAAFYXTndC\",\"dtype\":\"float64\",\"order\":\"little\",\"shape\":[105]},\"Variable\":[\"Days on Market MoM\",\"Days on Market MoM\",\"Days on Market MoM\",\"Days on Market MoM\",\"Days on Market MoM\",\"Days on Market MoM\",\"Days on Market MoM\",\"Days on Market MoM\",\"Days on Market MoM\",\"Days on Market MoM\",\"Days on Market MoM\",\"Days on Market MoM\",\"Days on Market MoM\",\"Days on Market MoM\",\"Days on Market MoM\",\"Days on Market MoM\",\"Days on Market MoM\",\"Days on Market MoM\",\"Days on Market MoM\",\"Days on Market MoM\",\"Days on Market MoM\",\"Days on Market MoM\",\"Days on Market MoM\",\"Days on Market MoM\",\"Days on Market MoM\",\"Days on Market MoM\",\"Days on Market MoM\",\"Days on Market MoM\",\"Days on Market MoM\",\"Days on Market MoM\",\"Days on Market MoM\",\"Days on Market MoM\",\"Days on Market MoM\",\"Days on Market MoM\",\"Days on Market MoM\",\"Days on Market MoM\",\"Days on Market MoM\",\"Days on Market MoM\",\"Days on Market MoM\",\"Days on Market MoM\",\"Days on Market MoM\",\"Days on Market MoM\",\"Days on Market MoM\",\"Days on Market MoM\",\"Days on Market MoM\",\"Days on Market MoM\",\"Days on Market MoM\",\"Days on Market MoM\",\"Days on Market MoM\",\"Days on Market MoM\",\"Days on Market MoM\",\"Days on Market MoM\",\"Days on Market MoM\",\"Days on Market MoM\",\"Days on Market MoM\",\"Days on Market MoM\",\"Days on Market MoM\",\"Days on Market MoM\",\"Days on Market MoM\",\"Days on Market MoM\",\"Days on Market MoM\",\"Days on Market MoM\",\"Days on Market MoM\",\"Days on Market MoM\",\"Days on Market MoM\",\"Days on Market MoM\",\"Days on Market MoM\",\"Days on Market MoM\",\"Days on Market MoM\",\"Days on Market MoM\",\"Days on Market MoM\",\"Days on Market MoM\",\"Days on Market MoM\",\"Days on Market MoM\",\"Days on Market MoM\",\"Days on Market MoM\",\"Days on Market MoM\",\"Days on Market MoM\",\"Days on Market MoM\",\"Days on Market MoM\",\"Days on Market MoM\",\"Days on Market MoM\",\"Days on Market MoM\",\"Days on Market MoM\",\"Days on Market MoM\",\"Days on Market MoM\",\"Days on Market MoM\",\"Days on Market MoM\",\"Days on Market MoM\",\"Days on Market MoM\",\"Days on Market MoM\",\"Days on Market MoM\",\"Days on Market MoM\",\"Days on Market MoM\",\"Days on Market MoM\",\"Days on Market MoM\",\"Days on Market MoM\",\"Days on Market MoM\",\"Days on Market MoM\",\"Days on Market MoM\",\"Days on Market MoM\",\"Days on Market MoM\",\"Days on Market MoM\",\"Days on Market MoM\",\"Days on Market MoM\"],\"value\":{\"__ndarray__\":\"AAAAAAAAAEAAAAAAAAA2wAAAAAAAACTAAAAAAAAAJsAAAAAAAAAAwAAAAAAAAAhAAAAAAAAAAEAAAAAAAAAUwAAAAAAAAAhAAAAAAAAACEAAAAAAAAAgQAAAAAAAABxAAAAAAAAAKsAAAAAAAAAowAAAAAAAABDAAAAAAAAA8L8AAAAAAAAAAAAAAAAAAPA/AAAAAAAACEAAAAAAAAAIQAAAAAAAAPC/AAAAAAAACEAAAAAAAAAkQAAAAAAAACJAAAAAAAAAMcAAAAAAAAAYwAAAAAAAABDAAAAAAAAA8L8AAAAAAAAAAAAAAAAAAPA/AAAAAAAACEAAAAAAAAAAQAAAAAAAAPA/AAAAAAAAFEAAAAAAAAAIQAAAAAAAAAhAAAAAAAAAKMAAAAAAAAAYwAAAAAAAAPC/AAAAAAAAAAAAAAAAAADwPwAAAAAAAAAAAAAAAAAA8D8AAAAAAADwvwAAAAAAAAAAAAAAAAAAAEAAAAAAAAAAQAAAAAAAAAAAAAAAAAAAEMAAAAAAAAAAAAAAAAAAAAAAAAAAAAAAAAAAAAAAAAAAAAAAAAAAAAAAAAAAAAAA8D8AAAAAAAAAAAAAAAAAAAAAAAAAAAAACEAAAAAAAADwPwAAAAAAAAhAAAAAAAAAIMAAAAAAAAAAAAAAAAAAAPC/AAAAAAAAAAAAAAAAAAAAAAAAAAAAAPA/AAAAAAAAAAAAAAAAAAAAAAAAAAAAAAAAAAAAAAAAAAAAAAAAAAAAQAAAAAAAAABAAAAAAAAAFMAAAAAAAAAAAAAAAAAAAAAAAAAAAAAAAAAAAAAAAADwPwAAAAAAAPA/AAAAAAAACEAAAAAAAAAQQAAAAAAAAADAAAAAAAAAJkAAAAAAAAAoQAAAAAAAACRAAAAAAAAAIMAAAAAAAAA1wAAAAAAAACLAAAAAAAAA8D8AAAAAAAAAQAAAAAAAAAhAAAAAAAAAIEAAAAAAAAAIQAAAAAAAACDAAAAAAAAAHEAAAAAAAAAkQAAAAAAAACRAAAAAAAAAO8AAAAAAAAAmwAAAAAAAAPC/AAAAAAAAEEAAAAAAAAAAwAAAAAAAAAAAAAAAAAAAAAAAAAAAAADwvwAAAAAAAABA\",\"dtype\":\"float64\",\"order\":\"little\",\"shape\":[105]}},\"selected\":{\"id\":\"8385\"},\"selection_policy\":{\"id\":\"8418\"}},\"id\":\"8384\",\"type\":\"ColumnDataSource\"},{\"attributes\":{\"below\":[{\"id\":\"8230\"}],\"center\":[{\"id\":\"8233\"},{\"id\":\"8237\"}],\"left\":[{\"id\":\"8234\"}],\"margin\":[5,5,5,5],\"min_border_bottom\":10,\"min_border_left\":10,\"min_border_right\":10,\"min_border_top\":10,\"plot_height\":300,\"plot_width\":700,\"renderers\":[{\"id\":\"8261\"},{\"id\":\"8291\"},{\"id\":\"8322\"},{\"id\":\"8355\"},{\"id\":\"8390\"},{\"id\":\"8427\"}],\"right\":[{\"id\":\"8283\"}],\"sizing_mode\":\"fixed\",\"title\":{\"id\":\"8222\"},\"toolbar\":{\"id\":\"8244\"},\"x_range\":{\"id\":\"8213\"},\"x_scale\":{\"id\":\"8226\"},\"y_range\":{\"id\":\"8214\"},\"y_scale\":{\"id\":\"8228\"}},\"id\":\"8221\",\"subtype\":\"Figure\",\"type\":\"Plot\"},{\"attributes\":{},\"id\":\"8256\",\"type\":\"Selection\"},{\"attributes\":{\"axis_label\":\"Month of Period End\",\"bounds\":\"auto\",\"formatter\":{\"id\":\"8251\"},\"major_label_orientation\":\"horizontal\",\"ticker\":{\"id\":\"8231\"}},\"id\":\"8230\",\"type\":\"DatetimeAxis\"},{\"attributes\":{\"source\":{\"id\":\"8349\"}},\"id\":\"8356\",\"type\":\"CDSView\"},{\"attributes\":{\"axis\":{\"id\":\"8234\"},\"dimension\":1,\"grid_line_color\":null,\"ticker\":null},\"id\":\"8237\",\"type\":\"Grid\"},{\"attributes\":{},\"id\":\"8350\",\"type\":\"Selection\"},{\"attributes\":{\"label\":{\"value\":\"Homes Sold MoM\"},\"renderers\":[{\"id\":\"8291\"}]},\"id\":\"8315\",\"type\":\"LegendItem\"},{\"attributes\":{\"axis_label\":\"Price\",\"bounds\":\"auto\",\"formatter\":{\"id\":\"8253\"},\"major_label_orientation\":\"horizontal\",\"ticker\":{\"id\":\"8235\"}},\"id\":\"8234\",\"type\":\"LinearAxis\"},{\"attributes\":{\"source\":{\"id\":\"8285\"}},\"id\":\"8292\",\"type\":\"CDSView\"},{\"attributes\":{\"data_source\":{\"id\":\"8349\"},\"glyph\":{\"id\":\"8352\"},\"hover_glyph\":null,\"muted_glyph\":{\"id\":\"8354\"},\"nonselection_glyph\":{\"id\":\"8353\"},\"selection_glyph\":null,\"view\":{\"id\":\"8356\"}},\"id\":\"8355\",\"type\":\"GlyphRenderer\"},{\"attributes\":{},\"id\":\"8228\",\"type\":\"LinearScale\"},{\"attributes\":{\"label\":{\"value\":\"Inventory MoM\"},\"renderers\":[{\"id\":\"8355\"}]},\"id\":\"8383\",\"type\":\"LegendItem\"},{\"attributes\":{\"num_minor_ticks\":5,\"tickers\":[{\"id\":\"8269\"},{\"id\":\"8270\"},{\"id\":\"8271\"},{\"id\":\"8272\"},{\"id\":\"8273\"},{\"id\":\"8274\"},{\"id\":\"8275\"},{\"id\":\"8276\"},{\"id\":\"8277\"},{\"id\":\"8278\"},{\"id\":\"8279\"},{\"id\":\"8280\"}]},\"id\":\"8231\",\"type\":\"DatetimeTicker\"},{\"attributes\":{\"data\":{\"Month of Period End\":{\"__ndarray__\":\"AABAX2NTc0IAAADmuFxzQgAAQDizZnNCAADAJFtwc0IAAAB3VXpzQgAAgGP9g3NCAADAtfeNc0IAAAAI8pdzQgAAgPSZoXNCAADARpSrc0IAAEAzPLVzQgAAgIU2v3NCAADA1zDJc0IAAMD4M9JzQgAAAEsu3HNCAACAN9blc0IAAMCJ0O9zQgAAQHZ4+XNCAACAyHIDdEIAAMAabQ10QgAAQAcVF3RCAACAWQ8hdEIAAABGtyp0QgAAQJixNHRCAACA6qs+dEIAAIALr0d0QgAAwF2pUXRCAABASlFbdEIAAICcS2V0QgAAAInzbnRCAABA2+14dEIAAIAt6IJ0QgAAABqQjHRCAABAbIqWdEIAAMBYMqB0QgAAAKssqnRCAABA/Sa0dEIAAEAeKr10QgAAgHAkx3RCAAAAXczQdEIAAECvxtp0QgAAwJtu5HRCAAAA7mjudEIAAEBAY/h0QgAAwCwLAnVCAAAAfwUMdUIAAIBrrRV1QgAAwL2nH3VCAAAAEKIpdUIAAMCW9zJ1QgAAAOnxPHVCAACA1ZlGdUIAAMAnlFB1QgAAQBQ8WnVCAACAZjZkdUIAAMC4MG51QgAAQKXYd3VCAACA99KBdUIAAADkeot1QgAAQDZ1lXVCAACAiG+fdUIAAICpcqh1QgAAwPtssnVCAABA6BS8dUIAAIA6D8Z1QgAAACe3z3VCAABAebHZdUIAAIDLq+N1QgAAALhT7XVCAABACk73dUIAAMD29QB2QgAAAEnwCnZCAABAm+oUdkIAAEC87R12QgAAgA7oJ3ZCAAAA+48xdkIAAEBNijt2QgAAwDkyRXZCAAAAjCxPdkIAAEDeJll2QgAAwMrOYnZCAAAAHclsdkIAAIAJcXZ2QgAAwFtrgHZCAAAArmWKdkIAAADPaJN2QgAAQCFjnXZCAADADQundkIAAABgBbF2QgAAgEytunZCAADAnqfEdkIAAADxoc52QgAAgN1J2HZCAADAL0TidkIAAEAc7Ot2QgAAgG7m9XZCAADAwOD/dkIAAIBHNgl3QgAAwJkwE3dCAABAhtgcd0IAAIDY0iZ3QgAAAMV6MHdCAABAF3U6d0IAAIBpb0R3QgAAAFYXTndC\",\"dtype\":\"float64\",\"order\":\"little\",\"shape\":[105]},\"Month_of_Period_End\":{\"__ndarray__\":\"AABAX2NTc0IAAADmuFxzQgAAQDizZnNCAADAJFtwc0IAAAB3VXpzQgAAgGP9g3NCAADAtfeNc0IAAAAI8pdzQgAAgPSZoXNCAADARpSrc0IAAEAzPLVzQgAAgIU2v3NCAADA1zDJc0IAAMD4M9JzQgAAAEsu3HNCAACAN9blc0IAAMCJ0O9zQgAAQHZ4+XNCAACAyHIDdEIAAMAabQ10QgAAQAcVF3RCAACAWQ8hdEIAAABGtyp0QgAAQJixNHRCAACA6qs+dEIAAIALr0d0QgAAwF2pUXRCAABASlFbdEIAAICcS2V0QgAAAInzbnRCAABA2+14dEIAAIAt6IJ0QgAAABqQjHRCAABAbIqWdEIAAMBYMqB0QgAAAKssqnRCAABA/Sa0dEIAAEAeKr10QgAAgHAkx3RCAAAAXczQdEIAAECvxtp0QgAAwJtu5HRCAAAA7mjudEIAAEBAY/h0QgAAwCwLAnVCAAAAfwUMdUIAAIBrrRV1QgAAwL2nH3VCAAAAEKIpdUIAAMCW9zJ1QgAAAOnxPHVCAACA1ZlGdUIAAMAnlFB1QgAAQBQ8WnVCAACAZjZkdUIAAMC4MG51QgAAQKXYd3VCAACA99KBdUIAAADkeot1QgAAQDZ1lXVCAACAiG+fdUIAAICpcqh1QgAAwPtssnVCAABA6BS8dUIAAIA6D8Z1QgAAACe3z3VCAABAebHZdUIAAIDLq+N1QgAAALhT7XVCAABACk73dUIAAMD29QB2QgAAAEnwCnZCAABAm+oUdkIAAEC87R12QgAAgA7oJ3ZCAAAA+48xdkIAAEBNijt2QgAAwDkyRXZCAAAAjCxPdkIAAEDeJll2QgAAwMrOYnZCAAAAHclsdkIAAIAJcXZ2QgAAwFtrgHZCAAAArmWKdkIAAADPaJN2QgAAQCFjnXZCAADADQundkIAAABgBbF2QgAAgEytunZCAADAnqfEdkIAAADxoc52QgAAgN1J2HZCAADAL0TidkIAAEAc7Ot2QgAAgG7m9XZCAADAwOD/dkIAAIBHNgl3QgAAwJkwE3dCAABAhtgcd0IAAIDY0iZ3QgAAAMV6MHdCAABAF3U6d0IAAIBpb0R3QgAAAFYXTndC\",\"dtype\":\"float64\",\"order\":\"little\",\"shape\":[105]},\"Variable\":[\"Average Sale To List MoM\",\"Average Sale To List MoM\",\"Average Sale To List MoM\",\"Average Sale To List MoM\",\"Average Sale To List MoM\",\"Average Sale To List MoM\",\"Average Sale To List MoM\",\"Average Sale To List MoM\",\"Average Sale To List MoM\",\"Average Sale To List MoM\",\"Average Sale To List MoM\",\"Average Sale To List MoM\",\"Average Sale To List MoM\",\"Average Sale To List MoM\",\"Average Sale To List MoM\",\"Average Sale To List MoM\",\"Average Sale To List MoM\",\"Average Sale To List MoM\",\"Average Sale To List MoM\",\"Average Sale To List MoM\",\"Average Sale To List MoM\",\"Average Sale To List MoM\",\"Average Sale To List MoM\",\"Average Sale To List MoM\",\"Average Sale To List MoM\",\"Average Sale To List MoM\",\"Average Sale To List MoM\",\"Average Sale To List MoM\",\"Average Sale To List MoM\",\"Average Sale To List MoM\",\"Average Sale To List MoM\",\"Average Sale To List MoM\",\"Average Sale To List MoM\",\"Average Sale To List MoM\",\"Average Sale To List MoM\",\"Average Sale To List MoM\",\"Average Sale To List MoM\",\"Average Sale To List MoM\",\"Average Sale To List MoM\",\"Average Sale To List MoM\",\"Average Sale To List MoM\",\"Average Sale To List MoM\",\"Average Sale To List MoM\",\"Average Sale To List MoM\",\"Average Sale To List MoM\",\"Average Sale To List MoM\",\"Average Sale To List MoM\",\"Average Sale To List MoM\",\"Average Sale To List MoM\",\"Average Sale To List MoM\",\"Average Sale To List MoM\",\"Average Sale To List MoM\",\"Average Sale To List MoM\",\"Average Sale To List MoM\",\"Average Sale To List MoM\",\"Average Sale To List MoM\",\"Average Sale To List MoM\",\"Average Sale To List MoM\",\"Average Sale To List MoM\",\"Average Sale To List MoM\",\"Average Sale To List MoM\",\"Average Sale To List MoM\",\"Average Sale To List MoM\",\"Average Sale To List MoM\",\"Average Sale To List MoM\",\"Average Sale To List MoM\",\"Average Sale To List MoM\",\"Average Sale To List MoM\",\"Average Sale To List MoM\",\"Average Sale To List MoM\",\"Average Sale To List MoM\",\"Average Sale To List MoM\",\"Average Sale To List MoM\",\"Average Sale To List MoM\",\"Average Sale To List MoM\",\"Average Sale To List MoM\",\"Average Sale To List MoM\",\"Average Sale To List MoM\",\"Average Sale To List MoM\",\"Average Sale To List MoM\",\"Average Sale To List MoM\",\"Average Sale To List MoM\",\"Average Sale To List MoM\",\"Average Sale To List MoM\",\"Average Sale To List MoM\",\"Average Sale To List MoM\",\"Average Sale To List MoM\",\"Average Sale To List MoM\",\"Average Sale To List MoM\",\"Average Sale To List MoM\",\"Average Sale To List MoM\",\"Average Sale To List MoM\",\"Average Sale To List MoM\",\"Average Sale To List MoM\",\"Average Sale To List MoM\",\"Average Sale To List MoM\",\"Average Sale To List MoM\",\"Average Sale To List MoM\",\"Average Sale To List MoM\",\"Average Sale To List MoM\",\"Average Sale To List MoM\",\"Average Sale To List MoM\",\"Average Sale To List MoM\",\"Average Sale To List MoM\",\"Average Sale To List MoM\"],\"value\":{\"__ndarray__\":\"MzMzMzMz0z/NzMzMzMzsP5qZmZmZmdk/ZmZmZmZm5j+amZmZmZm5PwAAAAAAAAAAAAAAAAAAAAAAAAAAAAAAAJqZmZmZmbk/mpmZmZmZyb8AAAAAAADgv5qZmZmZmck/MzMzMzMz8z+amZmZmZnJPzMzMzMzM+M/mpmZmZmZ2T+amZmZmZm5PwAAAAAAAAAAZmZmZmZm5r9mZmZmZmbmvwAAAAAAAAAAZmZmZmZm5r+amZmZmZnJv5qZmZmZmcm/ZmZmZmZm9j+amZmZmZnZP5qZmZmZmek/mpmZmZmZub+amZmZmZm5P2ZmZmZmZua/MzMzMzMz07+amZmZmZnZv5qZmZmZmbm/mpmZmZmZ2b+amZmZmZm5vzMzMzMzM+M/MzMzMzMz4z8zMzMzMzP7P5qZmZmZmfE/MzMzMzMz0z+amZmZmZm5PwAAAAAAAOC/mpmZmZmZ2b8AAAAAAADgv5qZmZmZmbm/mpmZmZmZyb8zMzMzMzPjv5qZmZmZmbk/ZmZmZmZm/j8AAAAAAAD4PzMzMzMzM+M/AAAAAAAAAAAAAAAAAADwvwAAAAAAAPC/mpmZmZmZ6b9mZmZmZmbmv5qZmZmZmbk/AAAAAAAA4L+amZmZmZnZv5qZmZmZmek/ZmZmZmZm/j9mZmZmZmb+P2ZmZmZmZvY/MzMzMzMz4z8zMzMzMzPjvzMzMzMzM/u/mpmZmZmZ2b8AAAAAAADwv5qZmZmZmcm/mpmZmZmZ8b8zMzMzMzPTv5qZmZmZmbm/AAAAAAAAFEDNzMzMzMz0v5qZmZmZmdk/MzMzMzMz078zMzMzMzMDwGZmZmZmZv6/AAAAAAAA+L+amZmZmZnxv5qZmZmZmdm/AAAAAAAA4L8AAAAAAADgv5qZmZmZmdm/zczMzMzM9D8AAAAAAADwP5qZmZmZmek/AAAAAAAA4L+amZmZmZm5P5qZmZmZmdm/mpmZmZmZ6b+amZmZmZnJPwAAAAAAAAAAmpmZmZmZ2b8zMzMzMzPTvzMzMzMzM9M/AAAAAAAA+D8zMzMzMzP7P5qZmZmZmem/mpmZmZmZ8b8zMzMzMzPjPzMzMzMzM+M/mpmZmZmZuT8AAAAAAAAAAAAAAAAAAOC/\",\"dtype\":\"float64\",\"order\":\"little\",\"shape\":[105]}},\"selected\":{\"id\":\"8422\"},\"selection_policy\":{\"id\":\"8457\"}},\"id\":\"8421\",\"type\":\"ColumnDataSource\"},{\"attributes\":{},\"id\":\"8238\",\"type\":\"SaveTool\"},{\"attributes\":{\"data\":{\"Month of Period End\":{\"__ndarray__\":\"AABAX2NTc0IAAADmuFxzQgAAQDizZnNCAADAJFtwc0IAAAB3VXpzQgAAgGP9g3NCAADAtfeNc0IAAAAI8pdzQgAAgPSZoXNCAADARpSrc0IAAEAzPLVzQgAAgIU2v3NCAADA1zDJc0IAAMD4M9JzQgAAAEsu3HNCAACAN9blc0IAAMCJ0O9zQgAAQHZ4+XNCAACAyHIDdEIAAMAabQ10QgAAQAcVF3RCAACAWQ8hdEIAAABGtyp0QgAAQJixNHRCAACA6qs+dEIAAIALr0d0QgAAwF2pUXRCAABASlFbdEIAAICcS2V0QgAAAInzbnRCAABA2+14dEIAAIAt6IJ0QgAAABqQjHRCAABAbIqWdEIAAMBYMqB0QgAAAKssqnRCAABA/Sa0dEIAAEAeKr10QgAAgHAkx3RCAAAAXczQdEIAAECvxtp0QgAAwJtu5HRCAAAA7mjudEIAAEBAY/h0QgAAwCwLAnVCAAAAfwUMdUIAAIBrrRV1QgAAwL2nH3VCAAAAEKIpdUIAAMCW9zJ1QgAAAOnxPHVCAACA1ZlGdUIAAMAnlFB1QgAAQBQ8WnVCAACAZjZkdUIAAMC4MG51QgAAQKXYd3VCAACA99KBdUIAAADkeot1QgAAQDZ1lXVCAACAiG+fdUIAAICpcqh1QgAAwPtssnVCAABA6BS8dUIAAIA6D8Z1QgAAACe3z3VCAABAebHZdUIAAIDLq+N1QgAAALhT7XVCAABACk73dUIAAMD29QB2QgAAAEnwCnZCAABAm+oUdkIAAEC87R12QgAAgA7oJ3ZCAAAA+48xdkIAAEBNijt2QgAAwDkyRXZCAAAAjCxPdkIAAEDeJll2QgAAwMrOYnZCAAAAHclsdkIAAIAJcXZ2QgAAwFtrgHZCAAAArmWKdkIAAADPaJN2QgAAQCFjnXZCAADADQundkIAAABgBbF2QgAAgEytunZCAADAnqfEdkIAAADxoc52QgAAgN1J2HZCAADAL0TidkIAAEAc7Ot2QgAAgG7m9XZCAADAwOD/dkIAAIBHNgl3QgAAwJkwE3dCAABAhtgcd0IAAIDY0iZ3QgAAAMV6MHdCAABAF3U6d0IAAIBpb0R3QgAAAFYXTndC\",\"dtype\":\"float64\",\"order\":\"little\",\"shape\":[105]},\"Month_of_Period_End\":{\"__ndarray__\":\"AABAX2NTc0IAAADmuFxzQgAAQDizZnNCAADAJFtwc0IAAAB3VXpzQgAAgGP9g3NCAADAtfeNc0IAAAAI8pdzQgAAgPSZoXNCAADARpSrc0IAAEAzPLVzQgAAgIU2v3NCAADA1zDJc0IAAMD4M9JzQgAAAEsu3HNCAACAN9blc0IAAMCJ0O9zQgAAQHZ4+XNCAACAyHIDdEIAAMAabQ10QgAAQAcVF3RCAACAWQ8hdEIAAABGtyp0QgAAQJixNHRCAACA6qs+dEIAAIALr0d0QgAAwF2pUXRCAABASlFbdEIAAICcS2V0QgAAAInzbnRCAABA2+14dEIAAIAt6IJ0QgAAABqQjHRCAABAbIqWdEIAAMBYMqB0QgAAAKssqnRCAABA/Sa0dEIAAEAeKr10QgAAgHAkx3RCAAAAXczQdEIAAECvxtp0QgAAwJtu5HRCAAAA7mjudEIAAEBAY/h0QgAAwCwLAnVCAAAAfwUMdUIAAIBrrRV1QgAAwL2nH3VCAAAAEKIpdUIAAMCW9zJ1QgAAAOnxPHVCAACA1ZlGdUIAAMAnlFB1QgAAQBQ8WnVCAACAZjZkdUIAAMC4MG51QgAAQKXYd3VCAACA99KBdUIAAADkeot1QgAAQDZ1lXVCAACAiG+fdUIAAICpcqh1QgAAwPtssnVCAABA6BS8dUIAAIA6D8Z1QgAAACe3z3VCAABAebHZdUIAAIDLq+N1QgAAALhT7XVCAABACk73dUIAAMD29QB2QgAAAEnwCnZCAABAm+oUdkIAAEC87R12QgAAgA7oJ3ZCAAAA+48xdkIAAEBNijt2QgAAwDkyRXZCAAAAjCxPdkIAAEDeJll2QgAAwMrOYnZCAAAAHclsdkIAAIAJcXZ2QgAAwFtrgHZCAAAArmWKdkIAAADPaJN2QgAAQCFjnXZCAADADQundkIAAABgBbF2QgAAgEytunZCAADAnqfEdkIAAADxoc52QgAAgN1J2HZCAADAL0TidkIAAEAc7Ot2QgAAgG7m9XZCAADAwOD/dkIAAIBHNgl3QgAAwJkwE3dCAABAhtgcd0IAAIDY0iZ3QgAAAMV6MHdCAABAF3U6d0IAAIBpb0R3QgAAAFYXTndC\",\"dtype\":\"float64\",\"order\":\"little\",\"shape\":[105]},\"Variable\":[\"Inventory MoM\",\"Inventory MoM\",\"Inventory MoM\",\"Inventory MoM\",\"Inventory MoM\",\"Inventory MoM\",\"Inventory MoM\",\"Inventory MoM\",\"Inventory MoM\",\"Inventory MoM\",\"Inventory MoM\",\"Inventory MoM\",\"Inventory MoM\",\"Inventory MoM\",\"Inventory MoM\",\"Inventory MoM\",\"Inventory MoM\",\"Inventory MoM\",\"Inventory MoM\",\"Inventory MoM\",\"Inventory MoM\",\"Inventory MoM\",\"Inventory MoM\",\"Inventory MoM\",\"Inventory MoM\",\"Inventory MoM\",\"Inventory MoM\",\"Inventory MoM\",\"Inventory MoM\",\"Inventory MoM\",\"Inventory MoM\",\"Inventory MoM\",\"Inventory MoM\",\"Inventory MoM\",\"Inventory MoM\",\"Inventory MoM\",\"Inventory MoM\",\"Inventory MoM\",\"Inventory MoM\",\"Inventory MoM\",\"Inventory MoM\",\"Inventory MoM\",\"Inventory MoM\",\"Inventory MoM\",\"Inventory MoM\",\"Inventory MoM\",\"Inventory MoM\",\"Inventory MoM\",\"Inventory MoM\",\"Inventory MoM\",\"Inventory MoM\",\"Inventory MoM\",\"Inventory MoM\",\"Inventory MoM\",\"Inventory MoM\",\"Inventory MoM\",\"Inventory MoM\",\"Inventory MoM\",\"Inventory MoM\",\"Inventory MoM\",\"Inventory MoM\",\"Inventory MoM\",\"Inventory MoM\",\"Inventory MoM\",\"Inventory MoM\",\"Inventory MoM\",\"Inventory MoM\",\"Inventory MoM\",\"Inventory MoM\",\"Inventory MoM\",\"Inventory MoM\",\"Inventory MoM\",\"Inventory MoM\",\"Inventory MoM\",\"Inventory MoM\",\"Inventory MoM\",\"Inventory MoM\",\"Inventory MoM\",\"Inventory MoM\",\"Inventory MoM\",\"Inventory MoM\",\"Inventory MoM\",\"Inventory MoM\",\"Inventory MoM\",\"Inventory MoM\",\"Inventory MoM\",\"Inventory MoM\",\"Inventory MoM\",\"Inventory MoM\",\"Inventory MoM\",\"Inventory MoM\",\"Inventory MoM\",\"Inventory MoM\",\"Inventory MoM\",\"Inventory MoM\",\"Inventory MoM\",\"Inventory MoM\",\"Inventory MoM\",\"Inventory MoM\",\"Inventory MoM\",\"Inventory MoM\",\"Inventory MoM\",\"Inventory MoM\",\"Inventory MoM\",\"Inventory MoM\"],\"value\":{\"__ndarray__\":\"MzMzMzMzE8CamZmZmZm5P2ZmZmZmZuY/mpmZmZmZ2T/NzMzMzMzsP2ZmZmZmZva/ZmZmZmZmEMAAAAAAAAAUQJqZmZmZmSnAMzMzMzMzLMAzMzMzMzMrwDMzMzMzMxXAAAAAAAAAEkDNzMzMzMzsPzMzMzMzMyBAMzMzMzMzM0CamZmZmZkjQAAAAAAAAAxAZmZmZmZmFEBmZmZmZmb+P5qZmZmZmR/AmpmZmZmZMsAAAAAAAIAwwAAAAAAAAPi/zczMzMzM/L8AAAAAAAAAQDMzMzMzMxlAAAAAAAAAKUAzMzMzMzMbQDMzMzMzMyRAMzMzMzMzFcAAAAAAAAASQGZmZmZmZiPAMzMzMzOzMsAAAAAAAIA1wDMzMzMzMxfAZmZmZmZm/j8AAAAAAAAiQJqZmZmZmcm/mpmZmZmZEUCamZmZmZkBwJqZmZmZmck/mpmZmZmZE0BmZmZmZmYWQAAAAAAAABzAAAAAAACAOcCamZmZmZk1wAAAAAAAACxAzczMzMzMEkAzMzMzMzMfQAAAAAAAgDRAzczMzMzMCMAAAAAAAAAWQDMzMzMzMy1AZmZmZmZmAsCamZmZmRkyQM3MzMzMTDTAzczMzMzMO8DNzMzMzMw8wGZmZmZmZgpAZmZmZmZmEMAAAAAAAAAxQGZmZmZmZiRAmpmZmZmZIUDNzMzMzMwiQDMzMzMzMyRAZmZmZmZmIMAzMzMzM7M2QGZmZmZmZiXAAAAAAAAAPsCamZmZmRlDwJqZmZmZGTdAAAAAAAAAGEAAAAAAAAA7QM3MzMzMTDlAmpmZmZkZPECamZmZmRk8QJqZmZmZmSRAMzMzMzMzJUAAAAAAAAA9QAAAAAAAAAzAzczMzMzMK8CamZmZmRk7wJqZmZmZmQXAzczMzMzMHkBmZmZmZmYvQDMzMzMzMyxAZmZmZmbmNUDNzMzMzMzsP83MzMzMzBTAmpmZmZmZF8CamZmZmZkXQAAAAAAAACXAmpmZmZkZOcCamZmZmRk9wDMzMzMzMyvAZmZmZmZmJ0CamZmZmRk4QDMzMzMzMyRAZmZmZmZmJUCamZmZmZkhQJqZmZmZmSxAmpmZmZmZMECamZmZmZkbQJqZmZmZmRHA\",\"dtype\":\"float64\",\"order\":\"little\",\"shape\":[105]}},\"selected\":{\"id\":\"8350\"},\"selection_policy\":{\"id\":\"8381\"}},\"id\":\"8349\",\"type\":\"ColumnDataSource\"},{\"attributes\":{},\"id\":\"8240\",\"type\":\"WheelZoomTool\"},{\"attributes\":{\"overlay\":{\"id\":\"8243\"}},\"id\":\"8241\",\"type\":\"BoxZoomTool\"},{\"attributes\":{},\"id\":\"8286\",\"type\":\"Selection\"},{\"attributes\":{},\"id\":\"8242\",\"type\":\"ResetTool\"},{\"attributes\":{},\"id\":\"8381\",\"type\":\"UnionRenderers\"},{\"attributes\":{\"active_drag\":\"auto\",\"active_inspect\":\"auto\",\"active_multi\":null,\"active_scroll\":\"auto\",\"active_tap\":\"auto\",\"tools\":[{\"id\":\"8215\"},{\"id\":\"8238\"},{\"id\":\"8239\"},{\"id\":\"8240\"},{\"id\":\"8241\"},{\"id\":\"8242\"}]},\"id\":\"8244\",\"type\":\"Toolbar\"},{\"attributes\":{},\"id\":\"8385\",\"type\":\"Selection\"},{\"attributes\":{\"line_alpha\":0.1,\"line_color\":\"#ff7e0e\",\"line_width\":2,\"x\":{\"field\":\"Month of Period End\"},\"y\":{\"field\":\"value\"}},\"id\":\"8289\",\"type\":\"Line\"},{\"attributes\":{\"line_alpha\":0.2,\"line_color\":\"#ff7e0e\",\"line_width\":2,\"x\":{\"field\":\"Month of Period End\"},\"y\":{\"field\":\"value\"}},\"id\":\"8290\",\"type\":\"Line\"},{\"attributes\":{\"margin\":[20,20,20,20],\"min_width\":250,\"options\":[\"Seattle, WA\",\"Seattle, WA - Adams\",\"Seattle, WA - Alki Point\",\"Seattle, WA - Arbor Heights\",\"Seattle, WA - Atlantic\",\"Seattle, WA - Ballard\",\"Seattle, WA - Beacon Hill\",\"Seattle, WA - Belltown\",\"Seattle, WA - Bitter Lake\",\"Seattle, WA - Boulevard Place\",\"Seattle, WA - Briarcliff\",\"Seattle, WA - Brighton\",\"Seattle, WA - Brighton Beach Acre\",\"Seattle, WA - Broadview\",\"Seattle, WA - Broadway\",\"Seattle, WA - Bryant\",\"Seattle, WA - Capitol Hill\",\"Seattle, WA - Cascade\",\"Seattle, WA - Cedar Park\",\"Seattle, WA - Central District\",\"Seattle, WA - Cherry Hill\",\"Seattle, WA - Columbia City\",\"Seattle, WA - Crown Hill\",\"Seattle, WA - Delridge\",\"Seattle, WA - Denny Blaine\",\"Seattle, WA - Denny Triangle\",\"Seattle, WA - Downtown Seattle\",\"Seattle, WA - Dunlap\",\"Seattle, WA - East Queen Anne\",\"Seattle, WA - Eastlake\",\"Seattle, WA - Fairmount Park\",\"Seattle, WA - Fauntleroy\",\"Seattle, WA - First Hill\",\"Seattle, WA - Fremont\",\"Seattle, WA - Gatewood\",\"Seattle, WA - Genesee\",\"Seattle, WA - Greater Duwamish\",\"Seattle, WA - Green Lake\",\"Seattle, WA - Greenwood\",\"Seattle, WA - Haller Lake\",\"Seattle, WA - Hawthorne Hills\",\"Seattle, WA - High Point\",\"Seattle, WA - Highland Park\",\"Seattle, WA - International District\",\"Seattle, WA - Judkins Park\",\"Seattle, WA - Lake City\",\"Seattle, WA - Lake View\",\"Seattle, WA - Laurelhurst\",\"Seattle, WA - Lawton Park\",\"Seattle, WA - Leschi\",\"Seattle, WA - Lincoln Beach\",\"Seattle, WA - Lower Queen Anne\",\"Seattle, WA - Loyal Heights\",\"Seattle, WA - Madison Park\",\"Seattle, WA - Madison Valley\",\"Seattle, WA - Madrona\",\"Seattle, WA - Magnolia\",\"Seattle, WA - Mann\",\"Seattle, WA - Maple Leaf\",\"Seattle, WA - Matthews Beach\",\"Seattle, WA - Meadowbrook\",\"Seattle, WA - Mid-Beacon Hill\",\"Seattle, WA - Minor\",\"Seattle, WA - Montlake\",\"Seattle, WA - Motor Line\",\"Seattle, WA - Mount Baker\",\"Seattle, WA - Mount Baker Park\",\"Seattle, WA - New Holly\",\"Seattle, WA - New Rainier Vista\",\"Seattle, WA - North Admiral\",\"Seattle, WA - North Beach\",\"Seattle, WA - North Beacon Hill\",\"Seattle, WA - North College Park\",\"Seattle, WA - North Delridge\",\"Seattle, WA - North Grove\",\"Seattle, WA - North Queen Anne\",\"Seattle, WA - Northeast Seattle\",\"Seattle, WA - Northgate\",\"Seattle, WA - Northwest Seattle\",\"Seattle, WA - Olympic Hills\",\"Seattle, WA - Phinney Ridge\",\"Seattle, WA - Pike-Market\",\"Seattle, WA - Pinehurst\",\"Seattle, WA - Pioneer Square\",\"Seattle, WA - Portage Bay\",\"Seattle, WA - Queen Anne\",\"Seattle, WA - Rainier Beach\",\"Seattle, WA - Rainier Valley\",\"Seattle, WA - Rainier View\",\"Seattle, WA - Ravenna\",\"Seattle, WA - Renton Hill\",\"Seattle, WA - Riverview\",\"Seattle, WA - Roosevelt\",\"Seattle, WA - Roosevelt Heights\",\"Seattle, WA - Roxhill\",\"Seattle, WA - Seattle Central Business District\",\"Seattle, WA - Seaview\",\"Seattle, WA - Ravenna Park\",\"Seattle, WA - Georgetown\",\"Seattle, WA - Pettits University\"],\"title\":\"Region\",\"value\":\"Seattle, WA\",\"width\":250},\"id\":\"8738\",\"type\":\"Select\"},{\"attributes\":{\"children\":[{\"id\":\"8736\"},{\"id\":\"8737\"},{\"id\":\"8739\"}],\"margin\":[0,0,0,0],\"name\":\"Column13510\"},\"id\":\"8735\",\"type\":\"Column\"},{\"attributes\":{\"margin\":[5,5,5,5],\"name\":\"VSpacer13509\",\"sizing_mode\":\"stretch_height\"},\"id\":\"8739\",\"type\":\"Spacer\"},{\"attributes\":{\"margin\":[5,5,5,5],\"name\":\"HSpacer13512\",\"sizing_mode\":\"stretch_width\"},\"id\":\"8734\",\"type\":\"Spacer\"},{\"attributes\":{\"margin\":[5,5,5,5],\"name\":\"VSpacer13508\",\"sizing_mode\":\"stretch_height\"},\"id\":\"8736\",\"type\":\"Spacer\"},{\"attributes\":{\"children\":[{\"id\":\"8212\"},{\"id\":\"8221\"},{\"id\":\"8734\"},{\"id\":\"8735\"}],\"margin\":[0,0,0,0],\"name\":\"Row13502\"},\"id\":\"8211\",\"type\":\"Row\"},{\"attributes\":{},\"id\":\"8313\",\"type\":\"UnionRenderers\"},{\"attributes\":{\"mantissas\":[1,2,5],\"max_interval\":500.0,\"num_minor_ticks\":0},\"id\":\"8269\",\"type\":\"AdaptiveTicker\"},{\"attributes\":{\"base\":60,\"mantissas\":[1,2,5,10,15,20,30],\"max_interval\":1800000.0,\"min_interval\":1000.0,\"num_minor_ticks\":0},\"id\":\"8270\",\"type\":\"AdaptiveTicker\"},{\"attributes\":{\"days\":[1,2,3,4,5,6,7,8,9,10,11,12,13,14,15,16,17,18,19,20,21,22,23,24,25,26,27,28,29,30,31]},\"id\":\"8272\",\"type\":\"DaysTicker\"},{\"attributes\":{\"base\":24,\"mantissas\":[1,2,4,6,8,12],\"max_interval\":43200000.0,\"min_interval\":3600000.0,\"num_minor_ticks\":0},\"id\":\"8271\",\"type\":\"AdaptiveTicker\"}],\"root_ids\":[\"8211\",\"8830\"]},\"title\":\"Bokeh Application\",\"version\":\"2.2.3\"}};\n    var render_items = [{\"docid\":\"7324343f-fa66-4780-9ee0-8338f542fe58\",\"root_ids\":[\"8211\"],\"roots\":{\"8211\":\"c445192d-3192-4c0b-a857-cb3b1c954a19\"}}];\n    root.Bokeh.embed.embed_items_notebook(docs_json, render_items);\n  }\n  if (root.Bokeh !== undefined && root.Bokeh.Panel !== undefined) {\n    embed_document(root);\n  } else {\n    var attempts = 0;\n    var timer = setInterval(function(root) {\n      if (root.Bokeh !== undefined && root.Bokeh.Panel !== undefined) {\n        clearInterval(timer);\n        embed_document(root);\n      } else if (document.readyState == \"complete\") {\n        attempts++;\n        if (attempts > 100) {\n          clearInterval(timer);\n          console.log(\"Bokeh: ERROR: Unable to run BokehJS code because BokehJS library is missing\");\n        }\n      }\n    }, 10, root)\n  }\n})(window);</script>",
      "application/vnd.holoviews_exec.v0+json": "",
      "text/plain": [
       ":DynamicMap   [Region]\n",
       "   :NdOverlay   [Variable]\n",
       "      :Curve   [Month of Period End]   (value)"
      ]
     },
     "metadata": {
      "application/vnd.holoviews_exec.v0+json": {
       "id": "8211"
      }
     },
     "execution_count": 103
    }
   ],
   "source": [
    "# Plot time-series values\n",
    "seattle_neighborhoods_df[mom_values].hvplot(ylabel=\"Price\", groupby=\"Region\")"
   ]
  },
  {
   "cell_type": "code",
   "execution_count": 114,
   "metadata": {},
   "outputs": [],
   "source": [
    "# Contain lstm Training data in a function\n",
    "def window_data(df, window, feature_col_number, target_col_number):\n",
    "    X = []\n",
    "    y = []\n",
    "    for i in range(len(df) - window - 1):\n",
    "        features = df.iloc[i:(i + window), feature_col_number]\n",
    "        target = df.iloc[(i + window), target_col_number]\n",
    "        X.append(features)\n",
    "        y.append(target)\n",
    "    return np.array(X), np.array(y).reshape(-1, 1)"
   ]
  },
  {
   "cell_type": "code",
   "execution_count": 115,
   "metadata": {},
   "outputs": [],
   "source": [
    "data_hood = seattle_neighborhoods_df.xs(neighborhood_list[0], level='Region')\n",
    "# Define variables to run previously defined function\n",
    "window_size = 12\n",
    "# 18 columns of potential training data, use all of them\n",
    "feature_column = 3\n",
    "target_column = 0\n",
    "# \n",
    "X, y = window_data(data_hood, window_size, feature_column, target_column)"
   ]
  },
  {
   "cell_type": "code",
   "execution_count": 117,
   "metadata": {},
   "outputs": [
    {
     "output_type": "execute_result",
     "data": {
      "text/plain": [
       "                     Median Sale Price YoY  Homes Sold\n",
       "Month of Period End                                   \n",
       "2012-02-01                            -5.9         495\n",
       "2012-03-01                             0.0         670\n",
       "2012-04-01                             7.2         778\n",
       "2012-05-01                             9.4         890\n",
       "2012-06-01                             8.1         927\n",
       "...                                    ...         ...\n",
       "2020-06-01                             5.3        1020\n",
       "2020-07-01                             7.4        1224\n",
       "2020-08-01                            12.4        1195\n",
       "2020-09-01                             9.7        1301\n",
       "2020-10-01                             6.7        1291\n",
       "\n",
       "[105 rows x 2 columns]"
      ],
      "text/html": "<div>\n<style scoped>\n    .dataframe tbody tr th:only-of-type {\n        vertical-align: middle;\n    }\n\n    .dataframe tbody tr th {\n        vertical-align: top;\n    }\n\n    .dataframe thead th {\n        text-align: right;\n    }\n</style>\n<table border=\"1\" class=\"dataframe\">\n  <thead>\n    <tr style=\"text-align: right;\">\n      <th></th>\n      <th>Median Sale Price YoY</th>\n      <th>Homes Sold</th>\n    </tr>\n    <tr>\n      <th>Month of Period End</th>\n      <th></th>\n      <th></th>\n    </tr>\n  </thead>\n  <tbody>\n    <tr>\n      <th>2012-02-01</th>\n      <td>-5.9</td>\n      <td>495</td>\n    </tr>\n    <tr>\n      <th>2012-03-01</th>\n      <td>0.0</td>\n      <td>670</td>\n    </tr>\n    <tr>\n      <th>2012-04-01</th>\n      <td>7.2</td>\n      <td>778</td>\n    </tr>\n    <tr>\n      <th>2012-05-01</th>\n      <td>9.4</td>\n      <td>890</td>\n    </tr>\n    <tr>\n      <th>2012-06-01</th>\n      <td>8.1</td>\n      <td>927</td>\n    </tr>\n    <tr>\n      <th>...</th>\n      <td>...</td>\n      <td>...</td>\n    </tr>\n    <tr>\n      <th>2020-06-01</th>\n      <td>5.3</td>\n      <td>1020</td>\n    </tr>\n    <tr>\n      <th>2020-07-01</th>\n      <td>7.4</td>\n      <td>1224</td>\n    </tr>\n    <tr>\n      <th>2020-08-01</th>\n      <td>12.4</td>\n      <td>1195</td>\n    </tr>\n    <tr>\n      <th>2020-09-01</th>\n      <td>9.7</td>\n      <td>1301</td>\n    </tr>\n    <tr>\n      <th>2020-10-01</th>\n      <td>6.7</td>\n      <td>1291</td>\n    </tr>\n  </tbody>\n</table>\n<p>105 rows × 2 columns</p>\n</div>"
     },
     "metadata": {},
     "execution_count": 117
    }
   ],
   "source": [
    "data_hood.iloc[:,2:4]"
   ]
  },
  {
   "cell_type": "code",
   "execution_count": 118,
   "metadata": {},
   "outputs": [],
   "source": [
    "split = int(0.7 * len(X))\n",
    "X_train = X[: split]\n",
    "X_test = X[split:]\n",
    "y_train = y[: split]\n",
    "y_test = y[split:]"
   ]
  },
  {
   "cell_type": "code",
   "execution_count": 119,
   "metadata": {},
   "outputs": [],
   "source": [
    "from sklearn.preprocessing import MinMaxScaler\n",
    "# Use the MinMaxScaler to scale data between 0 and 1.\n",
    "scaler = MinMaxScaler()\n",
    "scaler.fit(X)\n",
    "X_train = scaler.transform(X_train)\n",
    "X_test = scaler.transform(X_test)\n",
    "scaler.fit(y)\n",
    "y_train = scaler.transform(y_train)\n",
    "y_test = scaler.transform(y_test)"
   ]
  },
  {
   "cell_type": "code",
   "execution_count": 120,
   "metadata": {},
   "outputs": [],
   "source": [
    "# Reshape the features for the model\n",
    "X_train = X_train.reshape((X_train.shape[0], X_train.shape[1], 1))\n",
    "X_test = X_test.reshape((X_test.shape[0], X_test.shape[1], 1))"
   ]
  },
  {
   "cell_type": "code",
   "execution_count": 121,
   "metadata": {},
   "outputs": [],
   "source": [
    "from tensorflow.keras.models import Sequential\n",
    "from tensorflow.keras.layers import LSTM, Dense, Dropout"
   ]
  },
  {
   "cell_type": "code",
   "execution_count": 122,
   "metadata": {},
   "outputs": [],
   "source": [
    "# Build the LSTM model. \n",
    "\n",
    "model = Sequential()\n",
    "\n",
    "number_units = 5\n",
    "dropout_fraction = 0.2\n",
    "\n",
    "# Layer 1\n",
    "model.add(LSTM(\n",
    "    units=number_units,\n",
    "# The return sequences need to be set to True if you are adding additional LSTM layers, but \n",
    "# You don't have to do this for the final layer. \n",
    "    return_sequences=True,\n",
    "# Note: The input shape is the number of time steps and the number of indicators\n",
    "# Note: Batching inputs has a different input shape of Samples/TimeSteps/Features\n",
    "    input_shape=(X_train.shape[1], 1))\n",
    "    )\n",
    "# Note: The dropouts help prevent overfitting\n",
    "model.add(Dropout(dropout_fraction))\n",
    "# Layer 2\n",
    "model.add(LSTM(units=number_units, return_sequences=True))\n",
    "model.add(Dropout(dropout_fraction))\n",
    "# Layer 3\n",
    "model.add(LSTM(units=number_units))\n",
    "model.add(Dropout(dropout_fraction))\n",
    "# Output layer\n",
    "model.add(Dense(1))"
   ]
  },
  {
   "cell_type": "code",
   "execution_count": 123,
   "metadata": {},
   "outputs": [],
   "source": [
    "model.compile(optimizer=\"adam\", loss=\"mean_squared_error\")"
   ]
  },
  {
   "cell_type": "code",
   "execution_count": 124,
   "metadata": {},
   "outputs": [
    {
     "output_type": "stream",
     "name": "stdout",
     "text": [
      "Model: \"sequential_1\"\n_________________________________________________________________\nLayer (type)                 Output Shape              Param #   \n=================================================================\nlstm_3 (LSTM)                (None, 12, 5)             140       \n_________________________________________________________________\ndropout_3 (Dropout)          (None, 12, 5)             0         \n_________________________________________________________________\nlstm_4 (LSTM)                (None, 12, 5)             220       \n_________________________________________________________________\ndropout_4 (Dropout)          (None, 12, 5)             0         \n_________________________________________________________________\nlstm_5 (LSTM)                (None, 5)                 220       \n_________________________________________________________________\ndropout_5 (Dropout)          (None, 5)                 0         \n_________________________________________________________________\ndense_1 (Dense)              (None, 1)                 6         \n=================================================================\nTotal params: 586\nTrainable params: 586\nNon-trainable params: 0\n_________________________________________________________________\n"
     ]
    }
   ],
   "source": [
    "model.summary()"
   ]
  },
  {
   "cell_type": "code",
   "execution_count": 125,
   "metadata": {},
   "outputs": [
    {
     "output_type": "stream",
     "name": "stdout",
     "text": [
      "Epoch 1/10\n",
      "64/64 [==============================] - 0s 5ms/step - loss: 0.0517\n",
      "Epoch 2/10\n",
      "64/64 [==============================] - 0s 4ms/step - loss: 0.1072\n",
      "Epoch 3/10\n",
      "64/64 [==============================] - 0s 4ms/step - loss: 0.0822\n",
      "Epoch 4/10\n",
      "64/64 [==============================] - 0s 4ms/step - loss: 0.0809\n",
      "Epoch 5/10\n",
      "64/64 [==============================] - 0s 4ms/step - loss: 0.0779\n",
      "Epoch 6/10\n",
      "64/64 [==============================] - 0s 4ms/step - loss: 0.0642\n",
      "Epoch 7/10\n",
      "64/64 [==============================] - 0s 4ms/step - loss: 0.0851\n",
      "Epoch 8/10\n",
      "64/64 [==============================] - 0s 4ms/step - loss: 0.0781\n",
      "Epoch 9/10\n",
      "64/64 [==============================] - 0s 4ms/step - loss: 0.0745\n",
      "Epoch 10/10\n",
      "64/64 [==============================] - 0s 4ms/step - loss: 0.0561\n"
     ]
    },
    {
     "output_type": "execute_result",
     "data": {
      "text/plain": [
       "<tensorflow.python.keras.callbacks.History at 0x28c07e42bb0>"
      ]
     },
     "metadata": {},
     "execution_count": 125
    }
   ],
   "source": [
    "# Train the model\n",
    "model.fit(\n",
    "    X_train,\n",
    "    y_train,\n",
    "# Use at least 10 epochs\n",
    "    epochs=10,\n",
    "# Do not shuffle the data\n",
    "    shuffle=False,\n",
    "# Experiement with the batch size, but a smaller batch size is recommended\n",
    "    batch_size=1,\n",
    "    verbose=1)"
   ]
  },
  {
   "cell_type": "code",
   "execution_count": 126,
   "metadata": {},
   "outputs": [
    {
     "output_type": "stream",
     "name": "stdout",
     "text": [
      "1/1 [==============================] - 0s 1ms/step - loss: 0.1448\n"
     ]
    },
    {
     "output_type": "execute_result",
     "data": {
      "text/plain": [
       "0.1447729766368866"
      ]
     },
     "metadata": {},
     "execution_count": 126
    }
   ],
   "source": [
    "# Evaluate the model\n",
    "model.evaluate(X_test, y_test)"
   ]
  },
  {
   "cell_type": "code",
   "execution_count": 127,
   "metadata": {},
   "outputs": [],
   "source": [
    "predicted = model.predict(X_test)"
   ]
  },
  {
   "cell_type": "code",
   "execution_count": 128,
   "metadata": {},
   "outputs": [],
   "source": [
    "predicted_prices = scaler.inverse_transform(predicted)\n",
    "real_prices = scaler.inverse_transform(y_test.reshape(-1, 1))"
   ]
  },
  {
   "cell_type": "code",
   "execution_count": 129,
   "metadata": {},
   "outputs": [
    {
     "output_type": "execute_result",
     "data": {
      "text/plain": [
       "                         Real    Predicted\n",
       "Month of Period End                       \n",
       "2020-06-01           700000.0  571560.8750\n",
       "2020-07-01           742000.0  557655.5000\n",
       "2020-08-01           740000.0  547327.9375\n",
       "2020-09-01           759000.0  538817.8750\n",
       "2020-10-01           745000.0  535271.1875"
      ],
      "text/html": "<div>\n<style scoped>\n    .dataframe tbody tr th:only-of-type {\n        vertical-align: middle;\n    }\n\n    .dataframe tbody tr th {\n        vertical-align: top;\n    }\n\n    .dataframe thead th {\n        text-align: right;\n    }\n</style>\n<table border=\"1\" class=\"dataframe\">\n  <thead>\n    <tr style=\"text-align: right;\">\n      <th></th>\n      <th>Real</th>\n      <th>Predicted</th>\n    </tr>\n    <tr>\n      <th>Month of Period End</th>\n      <th></th>\n      <th></th>\n    </tr>\n  </thead>\n  <tbody>\n    <tr>\n      <th>2020-06-01</th>\n      <td>700000.0</td>\n      <td>571560.8750</td>\n    </tr>\n    <tr>\n      <th>2020-07-01</th>\n      <td>742000.0</td>\n      <td>557655.5000</td>\n    </tr>\n    <tr>\n      <th>2020-08-01</th>\n      <td>740000.0</td>\n      <td>547327.9375</td>\n    </tr>\n    <tr>\n      <th>2020-09-01</th>\n      <td>759000.0</td>\n      <td>538817.8750</td>\n    </tr>\n    <tr>\n      <th>2020-10-01</th>\n      <td>745000.0</td>\n      <td>535271.1875</td>\n    </tr>\n  </tbody>\n</table>\n</div>"
     },
     "metadata": {},
     "execution_count": 129
    }
   ],
   "source": [
    "neighborhood = pd.DataFrame({\n",
    "    \"Real\": real_prices.ravel(),\n",
    "    \"Predicted\": predicted_prices.ravel()\n",
    "}, index = df.index[-len(real_prices): ]) \n",
    "neighborhood.tail()"
   ]
  },
  {
   "cell_type": "code",
   "execution_count": 130,
   "metadata": {},
   "outputs": [
    {
     "output_type": "display_data",
     "data": {},
     "metadata": {}
    },
    {
     "output_type": "execute_result",
     "data": {
      "text/html": "<div id='8981'>\n\n\n\n\n\n  <div class=\"bk-root\" id=\"9c54f54f-90ff-40cb-8ca6-44472b4d12df\" data-root-id=\"8981\"></div>\n</div>\n<script type=\"application/javascript\">(function(root) {\n  function embed_document(root) {\n    var docs_json = {\"33279f0f-a383-4a97-877a-d27a263c5a8e\":{\"roots\":{\"references\":[{\"attributes\":{},\"id\":\"8992\",\"type\":\"LinearScale\"},{\"attributes\":{},\"id\":\"9001\",\"type\":\"BasicTicker\"},{\"attributes\":{\"mantissas\":[1,2,5],\"max_interval\":500.0,\"num_minor_ticks\":0},\"id\":\"9035\",\"type\":\"AdaptiveTicker\"},{\"attributes\":{\"axis\":{\"id\":\"9000\"},\"dimension\":1,\"grid_line_color\":null,\"ticker\":null},\"id\":\"9003\",\"type\":\"Grid\"},{\"attributes\":{\"base\":60,\"mantissas\":[1,2,5,10,15,20,30],\"max_interval\":1800000.0,\"min_interval\":1000.0,\"num_minor_ticks\":0},\"id\":\"9036\",\"type\":\"AdaptiveTicker\"},{\"attributes\":{\"days\":[1,2,3,4,5,6,7,8,9,10,11,12,13,14,15,16,17,18,19,20,21,22,23,24,25,26,27,28,29,30,31]},\"id\":\"9038\",\"type\":\"DaysTicker\"},{\"attributes\":{\"base\":24,\"mantissas\":[1,2,4,6,8,12],\"max_interval\":43200000.0,\"min_interval\":3600000.0,\"num_minor_ticks\":0},\"id\":\"9037\",\"type\":\"AdaptiveTicker\"},{\"attributes\":{\"axis_label\":\"Month of Period End\",\"bounds\":\"auto\",\"formatter\":{\"id\":\"9017\"},\"major_label_orientation\":\"horizontal\",\"ticker\":{\"id\":\"8997\"}},\"id\":\"8996\",\"type\":\"DatetimeAxis\"},{\"attributes\":{},\"id\":\"9006\",\"type\":\"WheelZoomTool\"},{\"attributes\":{\"months\":[0,1,2,3,4,5,6,7,8,9,10,11]},\"id\":\"9042\",\"type\":\"MonthsTicker\"},{\"attributes\":{},\"id\":\"9004\",\"type\":\"SaveTool\"},{\"attributes\":{\"months\":[0,2,4,6,8,10]},\"id\":\"9043\",\"type\":\"MonthsTicker\"},{\"attributes\":{\"days\":[1,4,7,10,13,16,19,22,25,28]},\"id\":\"9039\",\"type\":\"DaysTicker\"},{\"attributes\":{\"overlay\":{\"id\":\"9009\"}},\"id\":\"9007\",\"type\":\"BoxZoomTool\"},{\"attributes\":{\"days\":[1,15]},\"id\":\"9041\",\"type\":\"DaysTicker\"},{\"attributes\":{},\"id\":\"9008\",\"type\":\"ResetTool\"},{\"attributes\":{\"months\":[0,6]},\"id\":\"9045\",\"type\":\"MonthsTicker\"},{\"attributes\":{\"active_drag\":\"auto\",\"active_inspect\":\"auto\",\"active_multi\":null,\"active_scroll\":\"auto\",\"active_tap\":\"auto\",\"tools\":[{\"id\":\"8985\"},{\"id\":\"9004\"},{\"id\":\"9005\"},{\"id\":\"9006\"},{\"id\":\"9007\"},{\"id\":\"9008\"}]},\"id\":\"9010\",\"type\":\"Toolbar\"},{\"attributes\":{\"days\":[1,8,15,22]},\"id\":\"9040\",\"type\":\"DaysTicker\"},{\"attributes\":{\"children\":[{\"id\":\"8982\"},{\"id\":\"8987\"},{\"id\":\"9280\"}],\"margin\":[0,0,0,0],\"name\":\"Row15104\",\"tags\":[\"embedded\"]},\"id\":\"8981\",\"type\":\"Row\"},{\"attributes\":{},\"id\":\"9046\",\"type\":\"YearsTicker\"},{\"attributes\":{},\"id\":\"9017\",\"type\":\"DatetimeTickFormatter\"},{\"attributes\":{\"data_source\":{\"id\":\"9021\"},\"glyph\":{\"id\":\"9024\"},\"hover_glyph\":null,\"muted_glyph\":{\"id\":\"9026\"},\"nonselection_glyph\":{\"id\":\"9025\"},\"selection_glyph\":null,\"view\":{\"id\":\"9028\"}},\"id\":\"9027\",\"type\":\"GlyphRenderer\"},{\"attributes\":{\"line_alpha\":0.1,\"line_color\":\"#1f77b3\",\"line_width\":2,\"x\":{\"field\":\"Month of Period End\"},\"y\":{\"field\":\"value\"}},\"id\":\"9025\",\"type\":\"Line\"},{\"attributes\":{\"months\":[0,4,8]},\"id\":\"9044\",\"type\":\"MonthsTicker\"},{\"attributes\":{\"margin\":[5,5,5,5],\"name\":\"HSpacer15108\",\"sizing_mode\":\"stretch_width\"},\"id\":\"8982\",\"type\":\"Spacer\"},{\"attributes\":{\"click_policy\":\"mute\",\"items\":[{\"id\":\"9050\"},{\"id\":\"9081\"}],\"location\":[0,0],\"title\":\"Variable\"},\"id\":\"9049\",\"type\":\"Legend\"},{\"attributes\":{\"line_alpha\":0.1,\"line_color\":\"#ff7e0e\",\"line_width\":2,\"x\":{\"field\":\"Month of Period End\"},\"y\":{\"field\":\"value\"}},\"id\":\"9055\",\"type\":\"Line\"},{\"attributes\":{},\"id\":\"9019\",\"type\":\"BasicTickFormatter\"},{\"attributes\":{\"line_alpha\":0.2,\"line_color\":\"#1f77b3\",\"line_width\":2,\"x\":{\"field\":\"Month of Period End\"},\"y\":{\"field\":\"value\"}},\"id\":\"9026\",\"type\":\"Line\"},{\"attributes\":{\"source\":{\"id\":\"9051\"}},\"id\":\"9058\",\"type\":\"CDSView\"},{\"attributes\":{\"source\":{\"id\":\"9021\"}},\"id\":\"9028\",\"type\":\"CDSView\"},{\"attributes\":{\"line_color\":\"#1f77b3\",\"line_width\":2,\"x\":{\"field\":\"Month of Period End\"},\"y\":{\"field\":\"value\"}},\"id\":\"9024\",\"type\":\"Line\"},{\"attributes\":{\"data\":{\"Month of Period End\":{\"__ndarray__\":\"AADAOTJFdkIAAACMLE92QgAAQN4mWXZCAADAys5idkIAAAAdyWx2QgAAgAlxdnZCAADAW2uAdkIAAACuZYp2QgAAAM9ok3ZCAABAIWOddkIAAMANC6d2QgAAAGAFsXZCAACATK26dkIAAMCep8R2QgAAAPGhznZCAACA3UnYdkIAAMAvROJ2QgAAQBzs63ZCAACAbub1dkIAAMDA4P92QgAAgEc2CXdCAADAmTATd0IAAECG2Bx3QgAAgNjSJndCAAAAxXowd0IAAEAXdTp3QgAAgGlvRHdCAAAAVhdOd0I=\",\"dtype\":\"float64\",\"order\":\"little\",\"shape\":[28]},\"Month_of_Period_End\":{\"__ndarray__\":\"AADAOTJFdkIAAACMLE92QgAAQN4mWXZCAADAys5idkIAAAAdyWx2QgAAgAlxdnZCAADAW2uAdkIAAACuZYp2QgAAAM9ok3ZCAABAIWOddkIAAMANC6d2QgAAAGAFsXZCAACATK26dkIAAMCep8R2QgAAAPGhznZCAACA3UnYdkIAAMAvROJ2QgAAQBzs63ZCAACAbub1dkIAAMDA4P92QgAAgEc2CXdCAADAmTATd0IAAECG2Bx3QgAAgNjSJndCAAAAxXowd0IAAEAXdTp3QgAAgGlvRHdCAAAAVhdOd0I=\",\"dtype\":\"float64\",\"order\":\"little\",\"shape\":[28]},\"Variable\":[\"Real\",\"Real\",\"Real\",\"Real\",\"Real\",\"Real\",\"Real\",\"Real\",\"Real\",\"Real\",\"Real\",\"Real\",\"Real\",\"Real\",\"Real\",\"Real\",\"Real\",\"Real\",\"Real\",\"Real\",\"Real\",\"Real\",\"Real\",\"Real\",\"Real\",\"Real\",\"Real\",\"Real\"],\"value\":{\"__ndarray__\":\"AAAAABAgJkEAAAAAoAgmQQAAAABwmSRBAAAAAPBUJUEAAAAA8FQlQQAAAACAwCRBAAAAAFBLJEEAAAAAIFkjQQAAAACQaiRBAAAAAJDnJEEAAAAAwFwlQQAAAACwsiVBAAAAANCDJUEAAAAA0AYlQQAAAABAoSRBAAAAALC4JEEAAAAA8FQlQQAAAADAYiRBAAAAAHCZJEEAAAAA8FQlQQAAAAAg1iNBAAAAAECbJUEAAAAAMG4mQQAAAADAXCVBAAAAAOCkJkEAAAAAQJUmQQAAAACwKSdBAAAAAFC8JkE=\",\"dtype\":\"float64\",\"order\":\"little\",\"shape\":[28]}},\"selected\":{\"id\":\"9022\"},\"selection_policy\":{\"id\":\"9047\"}},\"id\":\"9021\",\"type\":\"ColumnDataSource\"},{\"attributes\":{\"margin\":[5,5,5,5],\"name\":\"HSpacer15109\",\"sizing_mode\":\"stretch_width\"},\"id\":\"9280\",\"type\":\"Spacer\"},{\"attributes\":{\"line_color\":\"#ff7e0e\",\"line_width\":2,\"x\":{\"field\":\"Month of Period End\"},\"y\":{\"field\":\"value\"}},\"id\":\"9054\",\"type\":\"Line\"},{\"attributes\":{},\"id\":\"9047\",\"type\":\"UnionRenderers\"},{\"attributes\":{\"line_alpha\":0.2,\"line_color\":\"#ff7e0e\",\"line_width\":2,\"x\":{\"field\":\"Month of Period End\"},\"y\":{\"field\":\"value\"}},\"id\":\"9056\",\"type\":\"Line\"},{\"attributes\":{\"label\":{\"value\":\"Real\"},\"renderers\":[{\"id\":\"9027\"}]},\"id\":\"9050\",\"type\":\"LegendItem\"},{\"attributes\":{},\"id\":\"9052\",\"type\":\"Selection\"},{\"attributes\":{\"data_source\":{\"id\":\"9051\"},\"glyph\":{\"id\":\"9054\"},\"hover_glyph\":null,\"muted_glyph\":{\"id\":\"9056\"},\"nonselection_glyph\":{\"id\":\"9055\"},\"selection_glyph\":null,\"view\":{\"id\":\"9058\"}},\"id\":\"9057\",\"type\":\"GlyphRenderer\"},{\"attributes\":{\"label\":{\"value\":\"Predicted\"},\"renderers\":[{\"id\":\"9057\"}]},\"id\":\"9081\",\"type\":\"LegendItem\"},{\"attributes\":{\"num_minor_ticks\":5,\"tickers\":[{\"id\":\"9035\"},{\"id\":\"9036\"},{\"id\":\"9037\"},{\"id\":\"9038\"},{\"id\":\"9039\"},{\"id\":\"9040\"},{\"id\":\"9041\"},{\"id\":\"9042\"},{\"id\":\"9043\"},{\"id\":\"9044\"},{\"id\":\"9045\"},{\"id\":\"9046\"}]},\"id\":\"8997\",\"type\":\"DatetimeTicker\"},{\"attributes\":{\"bottom_units\":\"screen\",\"fill_alpha\":0.5,\"fill_color\":\"lightgrey\",\"left_units\":\"screen\",\"level\":\"overlay\",\"line_alpha\":1.0,\"line_color\":\"black\",\"line_dash\":[4,4],\"line_width\":2,\"right_units\":\"screen\",\"top_units\":\"screen\"},\"id\":\"9009\",\"type\":\"BoxAnnotation\"},{\"attributes\":{\"callback\":null,\"formatters\":{\"@{Month of Period End}\":\"datetime\",\"@{Month_of_Period_End}\":\"datetime\"},\"renderers\":[{\"id\":\"9027\"},{\"id\":\"9057\"}],\"tags\":[\"hv_created\"],\"tooltips\":[[\"Variable\",\"@{Variable}\"],[\"Month of Period End\",\"@{Month_of_Period_End}{%F %T}\"],[\"value\",\"@{value}\"]]},\"id\":\"8985\",\"type\":\"HoverTool\"},{\"attributes\":{},\"id\":\"8994\",\"type\":\"LinearScale\"},{\"attributes\":{\"text\":\"\",\"text_color\":{\"value\":\"black\"},\"text_font_size\":{\"value\":\"12pt\"}},\"id\":\"8988\",\"type\":\"Title\"},{\"attributes\":{\"end\":1601510400000.0,\"reset_end\":1601510400000.0,\"reset_start\":1530403200000.0,\"start\":1530403200000.0,\"tags\":[[[\"Month of Period End\",\"Month of Period End\",null]]]},\"id\":\"8983\",\"type\":\"Range1d\"},{\"attributes\":{},\"id\":\"9022\",\"type\":\"Selection\"},{\"attributes\":{\"data\":{\"Month of Period End\":{\"__ndarray__\":\"AADAOTJFdkIAAACMLE92QgAAQN4mWXZCAADAys5idkIAAAAdyWx2QgAAgAlxdnZCAADAW2uAdkIAAACuZYp2QgAAAM9ok3ZCAABAIWOddkIAAMANC6d2QgAAAGAFsXZCAACATK26dkIAAMCep8R2QgAAAPGhznZCAACA3UnYdkIAAMAvROJ2QgAAQBzs63ZCAACAbub1dkIAAMDA4P92QgAAgEc2CXdCAADAmTATd0IAAECG2Bx3QgAAgNjSJndCAAAAxXowd0IAAEAXdTp3QgAAgGlvRHdCAAAAVhdOd0I=\",\"dtype\":\"float64\",\"order\":\"little\",\"shape\":[28]},\"Month_of_Period_End\":{\"__ndarray__\":\"AADAOTJFdkIAAACMLE92QgAAQN4mWXZCAADAys5idkIAAAAdyWx2QgAAgAlxdnZCAADAW2uAdkIAAACuZYp2QgAAAM9ok3ZCAABAIWOddkIAAMANC6d2QgAAAGAFsXZCAACATK26dkIAAMCep8R2QgAAAPGhznZCAACA3UnYdkIAAMAvROJ2QgAAQBzs63ZCAACAbub1dkIAAMDA4P92QgAAgEc2CXdCAADAmTATd0IAAECG2Bx3QgAAgNjSJndCAAAAxXowd0IAAEAXdTp3QgAAgGlvRHdCAAAAVhdOd0I=\",\"dtype\":\"float64\",\"order\":\"little\",\"shape\":[28]},\"Variable\":[\"Predicted\",\"Predicted\",\"Predicted\",\"Predicted\",\"Predicted\",\"Predicted\",\"Predicted\",\"Predicted\",\"Predicted\",\"Predicted\",\"Predicted\",\"Predicted\",\"Predicted\",\"Predicted\",\"Predicted\",\"Predicted\",\"Predicted\",\"Predicted\",\"Predicted\",\"Predicted\",\"Predicted\",\"Predicted\",\"Predicted\",\"Predicted\",\"Predicted\",\"Predicted\",\"Predicted\",\"Predicted\"],\"value\":{\"__ndarray__\":\"5EMQSavMDElSogpJJBEISVNfB0nQYwZJDQgGSdl6BkmitAhJPbEJSSD8B0lcNgVJrXYBSYOS/UigIPtIB/z7SFOsAEl4ZwJJJcsESTmJB0nuwApJwVUMSYFMDUmOigtJeCUISf+fBUkejANJc64CSQ==\",\"dtype\":\"float32\",\"order\":\"little\",\"shape\":[28]}},\"selected\":{\"id\":\"9052\"},\"selection_policy\":{\"id\":\"9079\"}},\"id\":\"9051\",\"type\":\"ColumnDataSource\"},{\"attributes\":{\"below\":[{\"id\":\"8996\"}],\"center\":[{\"id\":\"8999\"},{\"id\":\"9003\"}],\"left\":[{\"id\":\"9000\"}],\"margin\":[5,5,5,5],\"min_border_bottom\":10,\"min_border_left\":10,\"min_border_right\":10,\"min_border_top\":10,\"plot_height\":300,\"plot_width\":700,\"renderers\":[{\"id\":\"9027\"},{\"id\":\"9057\"}],\"right\":[{\"id\":\"9049\"}],\"sizing_mode\":\"fixed\",\"title\":{\"id\":\"8988\"},\"toolbar\":{\"id\":\"9010\"},\"x_range\":{\"id\":\"8983\"},\"x_scale\":{\"id\":\"8992\"},\"y_range\":{\"id\":\"8984\"},\"y_scale\":{\"id\":\"8994\"}},\"id\":\"8987\",\"subtype\":\"Figure\",\"type\":\"Plot\"},{\"attributes\":{\"axis\":{\"id\":\"8996\"},\"grid_line_color\":null,\"ticker\":null},\"id\":\"8999\",\"type\":\"Grid\"},{\"attributes\":{\"axis_label\":\"\",\"bounds\":\"auto\",\"formatter\":{\"id\":\"9019\"},\"major_label_orientation\":\"horizontal\",\"ticker\":{\"id\":\"9001\"}},\"id\":\"9000\",\"type\":\"LinearAxis\"},{\"attributes\":{\"end\":783469.1,\"reset_end\":783469.1,\"reset_start\":489839.9,\"start\":489839.9,\"tags\":[[[\"value\",\"value\",null]]]},\"id\":\"8984\",\"type\":\"Range1d\"},{\"attributes\":{},\"id\":\"9005\",\"type\":\"PanTool\"},{\"attributes\":{},\"id\":\"9079\",\"type\":\"UnionRenderers\"}],\"root_ids\":[\"8981\"]},\"title\":\"Bokeh Application\",\"version\":\"2.2.3\"}};\n    var render_items = [{\"docid\":\"33279f0f-a383-4a97-877a-d27a263c5a8e\",\"root_ids\":[\"8981\"],\"roots\":{\"8981\":\"9c54f54f-90ff-40cb-8ca6-44472b4d12df\"}}];\n    root.Bokeh.embed.embed_items_notebook(docs_json, render_items);\n  }\n  if (root.Bokeh !== undefined && root.Bokeh.Panel !== undefined) {\n    embed_document(root);\n  } else {\n    var attempts = 0;\n    var timer = setInterval(function(root) {\n      if (root.Bokeh !== undefined && root.Bokeh.Panel !== undefined) {\n        clearInterval(timer);\n        embed_document(root);\n      } else if (document.readyState == \"complete\") {\n        attempts++;\n        if (attempts > 100) {\n          clearInterval(timer);\n          console.log(\"Bokeh: ERROR: Unable to run BokehJS code because BokehJS library is missing\");\n        }\n      }\n    }, 10, root)\n  }\n})(window);</script>",
      "application/vnd.holoviews_exec.v0+json": "",
      "text/plain": [
       ":NdOverlay   [Variable]\n",
       "   :Curve   [Month of Period End]   (value)"
      ]
     },
     "metadata": {
      "application/vnd.holoviews_exec.v0+json": {
       "id": "8981"
      }
     },
     "execution_count": 130
    }
   ],
   "source": [
    "neighborhood.hvplot()"
   ]
  },
  {
   "cell_type": "code",
   "execution_count": 136,
   "metadata": {},
   "outputs": [
    {
     "output_type": "display_data",
     "data": {
      "application/vnd.plotly.v1+json": {
       "config": {
        "plotlyServerURL": "https://plot.ly"
       },
       "data": [],
       "layout": {
        "mapbox": {
         "center": {
          "lat": 47.60636771204824,
          "lon": -122.33452897024857
         },
         "layers": [
          {
           "below": "traces",
           "color": "purple",
           "source": {
            "features": [
             {
              "geometry": {
               "coordinates": [
                [
                 [
                  [
                   -122.376336564723,
                   47.6759176989664
                  ],
                  [
                   -122.376519722058,
                   47.6760527482053
                  ],
                  [
                   -122.376547112434,
                   47.6760693435982
                  ],
                  [
                   -122.376573006221,
                   47.6760868163511
                  ],
                  [
                   -122.37659791092,
                   47.6761051588887
                  ],
                  [
                   -122.376620811506,
                   47.6761243856628
                  ],
                  [
                   -122.376653693551,
                   47.6761550023704
                  ],
                  [
                   -122.376672575492,
                   47.6761756116819
                  ],
                  [
                   -122.376690473449,
                   47.6761972626929
                  ],
                  [
                   -122.376706358898,
                   47.6762194979699
                  ],
                  [
                   -122.376721246367,
                   47.6762423037704
                  ],
                  [
                   -122.376733608705,
                   47.6762655291531
                  ],
                  [
                   -122.376744969247,
                   47.6762891966531
                  ],
                  [
                   -122.376753802121,
                   47.6763131984825
                  ],
                  [
                   -122.376761120573,
                   47.6763374777451
                  ],
                  [
                   -122.37676692258,
                   47.6763619488292
                  ],
                  [
                   -122.376770700102,
                   47.6763866189683
                  ],
                  [
                   -122.376772451106,
                   47.6764114022001
                  ],
                  [
                   -122.376772171763,
                   47.6764361697665
                  ],
                  [
                   -122.376761985459,
                   47.676862137338
                  ],
                  [
                   -122.376759750881,
                   47.6775387646826
                  ],
                  [
                   -122.376769882216,
                   47.6780678404081
                  ],
                  [
                   -122.376770065639,
                   47.6792017979916
                  ],
                  [
                   -122.376770442503,
                   47.680154307228
                  ],
                  [
                   -122.376767820487,
                   47.6811938310584
                  ],
                  [
                   -122.376777423242,
                   47.6822860591882
                  ],
                  [
                   -122.376787310842,
                   47.6833707854178
                  ],
                  [
                   -122.376780535885,
                   47.6842704786057
                  ],
                  [
                   -122.376785260609,
                   47.6851813698577
                  ],
                  [
                   -122.376784403749,
                   47.6860923366759
                  ],
                  [
                   -122.376800402808,
                   47.6870068457338
                  ],
                  [
                   -122.376794751014,
                   47.6879443550321
                  ],
                  [
                   -122.376803067488,
                   47.688976146724
                  ],
                  [
                   -122.376810989127,
                   47.6900117143006
                  ],
                  [
                   -122.376810264834,
                   47.6905341242701
                  ],
                  [
                   -122.376810344766,
                   47.6906051591463
                  ],
                  [
                   -122.377117910432,
                   47.6906029639028
                  ],
                  [
                   -122.379103841332,
                   47.6906041929746
                  ],
                  [
                   -122.379876313408,
                   47.6905988541749
                  ],
                  [
                   -122.381453020656,
                   47.6905978829044
                  ],
                  [
                   -122.383201215024,
                   47.6905936585447
                  ],
                  [
                   -122.383275316007,
                   47.690593164597
                  ],
                  [
                   -122.385832831602,
                   47.6905766041982
                  ],
                  [
                   -122.388192979124,
                   47.6905805029145
                  ],
                  [
                   -122.390347910813,
                   47.6905631204492
                  ],
                  [
                   -122.392432373275,
                   47.6905826938111
                  ],
                  [
                   -122.393002415356,
                   47.6905813205566
                  ],
                  [
                   -122.393010665051,
                   47.6902980913372
                  ],
                  [
                   -122.393046187318,
                   47.6889956475812
                  ],
                  [
                   -122.393032746621,
                   47.687668638629
                  ],
                  [
                   -122.393030577589,
                   47.6863450742964
                  ],
                  [
                   -122.393022827056,
                   47.685021586284
                  ],
                  [
                   -122.393016158048,
                   47.6837341155494
                  ],
                  [
                   -122.393014530791,
                   47.6824285808909
                  ],
                  [
                   -122.39300195772,
                   47.6811303942788
                  ],
                  [
                   -122.392983771129,
                   47.6798142464259
                  ],
                  [
                   -122.392975009807,
                   47.6792517755972
                  ],
                  [
                   -122.392971502986,
                   47.6781034200237
                  ],
                  [
                   -122.392961263359,
                   47.6775085790216
                  ],
                  [
                   -122.392959618409,
                   47.676929558447
                  ],
                  [
                   -122.392956303464,
                   47.6763287099834
                  ],
                  [
                   -122.392956550545,
                   47.6759141859541
                  ],
                  [
                   -122.392827172066,
                   47.6759153143353
                  ],
                  [
                   -122.391773109273,
                   47.6759158131504
                  ],
                  [
                   -122.390449346263,
                   47.6759259868868
                  ],
                  [
                   -122.388955759168,
                   47.6759424488678
                  ],
                  [
                   -122.387702391216,
                   47.6759476875929
                  ],
                  [
                   -122.387087434206,
                   47.6759521343769
                  ],
                  [
                   -122.385435721425,
                   47.6759587956618
                  ],
                  [
                   -122.383602752477,
                   47.675979810424
                  ],
                  [
                   -122.38182788443,
                   47.675992079457
                  ],
                  [
                   -122.379988625303,
                   47.6759893429385
                  ],
                  [
                   -122.377903057631,
                   47.6759978849021
                  ],
                  [
                   -122.376707907517,
                   47.6759982290459
                  ],
                  [
                   -122.376336564723,
                   47.6759176989664
                  ]
                 ]
                ]
               ],
               "type": "MultiPolygon"
              },
              "type": "Map"
             }
            ],
            "type": "FeatureCollection"
           },
           "type": "fill"
          }
         ],
         "style": "stamen-toner",
         "zoom": 10
        },
        "margin": {
         "b": 0,
         "l": 0,
         "r": 0,
         "t": 0
        },
        "template": {
         "data": {
          "bar": [
           {
            "error_x": {
             "color": "#2a3f5f"
            },
            "error_y": {
             "color": "#2a3f5f"
            },
            "marker": {
             "line": {
              "color": "#E5ECF6",
              "width": 0.5
             }
            },
            "type": "bar"
           }
          ],
          "barpolar": [
           {
            "marker": {
             "line": {
              "color": "#E5ECF6",
              "width": 0.5
             }
            },
            "type": "barpolar"
           }
          ],
          "carpet": [
           {
            "aaxis": {
             "endlinecolor": "#2a3f5f",
             "gridcolor": "white",
             "linecolor": "white",
             "minorgridcolor": "white",
             "startlinecolor": "#2a3f5f"
            },
            "baxis": {
             "endlinecolor": "#2a3f5f",
             "gridcolor": "white",
             "linecolor": "white",
             "minorgridcolor": "white",
             "startlinecolor": "#2a3f5f"
            },
            "type": "carpet"
           }
          ],
          "choropleth": [
           {
            "colorbar": {
             "outlinewidth": 0,
             "ticks": ""
            },
            "type": "choropleth"
           }
          ],
          "contour": [
           {
            "colorbar": {
             "outlinewidth": 0,
             "ticks": ""
            },
            "colorscale": [
             [
              0,
              "#0d0887"
             ],
             [
              0.1111111111111111,
              "#46039f"
             ],
             [
              0.2222222222222222,
              "#7201a8"
             ],
             [
              0.3333333333333333,
              "#9c179e"
             ],
             [
              0.4444444444444444,
              "#bd3786"
             ],
             [
              0.5555555555555556,
              "#d8576b"
             ],
             [
              0.6666666666666666,
              "#ed7953"
             ],
             [
              0.7777777777777778,
              "#fb9f3a"
             ],
             [
              0.8888888888888888,
              "#fdca26"
             ],
             [
              1,
              "#f0f921"
             ]
            ],
            "type": "contour"
           }
          ],
          "contourcarpet": [
           {
            "colorbar": {
             "outlinewidth": 0,
             "ticks": ""
            },
            "type": "contourcarpet"
           }
          ],
          "heatmap": [
           {
            "colorbar": {
             "outlinewidth": 0,
             "ticks": ""
            },
            "colorscale": [
             [
              0,
              "#0d0887"
             ],
             [
              0.1111111111111111,
              "#46039f"
             ],
             [
              0.2222222222222222,
              "#7201a8"
             ],
             [
              0.3333333333333333,
              "#9c179e"
             ],
             [
              0.4444444444444444,
              "#bd3786"
             ],
             [
              0.5555555555555556,
              "#d8576b"
             ],
             [
              0.6666666666666666,
              "#ed7953"
             ],
             [
              0.7777777777777778,
              "#fb9f3a"
             ],
             [
              0.8888888888888888,
              "#fdca26"
             ],
             [
              1,
              "#f0f921"
             ]
            ],
            "type": "heatmap"
           }
          ],
          "heatmapgl": [
           {
            "colorbar": {
             "outlinewidth": 0,
             "ticks": ""
            },
            "colorscale": [
             [
              0,
              "#0d0887"
             ],
             [
              0.1111111111111111,
              "#46039f"
             ],
             [
              0.2222222222222222,
              "#7201a8"
             ],
             [
              0.3333333333333333,
              "#9c179e"
             ],
             [
              0.4444444444444444,
              "#bd3786"
             ],
             [
              0.5555555555555556,
              "#d8576b"
             ],
             [
              0.6666666666666666,
              "#ed7953"
             ],
             [
              0.7777777777777778,
              "#fb9f3a"
             ],
             [
              0.8888888888888888,
              "#fdca26"
             ],
             [
              1,
              "#f0f921"
             ]
            ],
            "type": "heatmapgl"
           }
          ],
          "histogram": [
           {
            "marker": {
             "colorbar": {
              "outlinewidth": 0,
              "ticks": ""
             }
            },
            "type": "histogram"
           }
          ],
          "histogram2d": [
           {
            "colorbar": {
             "outlinewidth": 0,
             "ticks": ""
            },
            "colorscale": [
             [
              0,
              "#0d0887"
             ],
             [
              0.1111111111111111,
              "#46039f"
             ],
             [
              0.2222222222222222,
              "#7201a8"
             ],
             [
              0.3333333333333333,
              "#9c179e"
             ],
             [
              0.4444444444444444,
              "#bd3786"
             ],
             [
              0.5555555555555556,
              "#d8576b"
             ],
             [
              0.6666666666666666,
              "#ed7953"
             ],
             [
              0.7777777777777778,
              "#fb9f3a"
             ],
             [
              0.8888888888888888,
              "#fdca26"
             ],
             [
              1,
              "#f0f921"
             ]
            ],
            "type": "histogram2d"
           }
          ],
          "histogram2dcontour": [
           {
            "colorbar": {
             "outlinewidth": 0,
             "ticks": ""
            },
            "colorscale": [
             [
              0,
              "#0d0887"
             ],
             [
              0.1111111111111111,
              "#46039f"
             ],
             [
              0.2222222222222222,
              "#7201a8"
             ],
             [
              0.3333333333333333,
              "#9c179e"
             ],
             [
              0.4444444444444444,
              "#bd3786"
             ],
             [
              0.5555555555555556,
              "#d8576b"
             ],
             [
              0.6666666666666666,
              "#ed7953"
             ],
             [
              0.7777777777777778,
              "#fb9f3a"
             ],
             [
              0.8888888888888888,
              "#fdca26"
             ],
             [
              1,
              "#f0f921"
             ]
            ],
            "type": "histogram2dcontour"
           }
          ],
          "mesh3d": [
           {
            "colorbar": {
             "outlinewidth": 0,
             "ticks": ""
            },
            "type": "mesh3d"
           }
          ],
          "parcoords": [
           {
            "line": {
             "colorbar": {
              "outlinewidth": 0,
              "ticks": ""
             }
            },
            "type": "parcoords"
           }
          ],
          "pie": [
           {
            "automargin": true,
            "type": "pie"
           }
          ],
          "scatter": [
           {
            "marker": {
             "colorbar": {
              "outlinewidth": 0,
              "ticks": ""
             }
            },
            "type": "scatter"
           }
          ],
          "scatter3d": [
           {
            "line": {
             "colorbar": {
              "outlinewidth": 0,
              "ticks": ""
             }
            },
            "marker": {
             "colorbar": {
              "outlinewidth": 0,
              "ticks": ""
             }
            },
            "type": "scatter3d"
           }
          ],
          "scattercarpet": [
           {
            "marker": {
             "colorbar": {
              "outlinewidth": 0,
              "ticks": ""
             }
            },
            "type": "scattercarpet"
           }
          ],
          "scattergeo": [
           {
            "marker": {
             "colorbar": {
              "outlinewidth": 0,
              "ticks": ""
             }
            },
            "type": "scattergeo"
           }
          ],
          "scattergl": [
           {
            "marker": {
             "colorbar": {
              "outlinewidth": 0,
              "ticks": ""
             }
            },
            "type": "scattergl"
           }
          ],
          "scattermapbox": [
           {
            "marker": {
             "colorbar": {
              "outlinewidth": 0,
              "ticks": ""
             }
            },
            "type": "scattermapbox"
           }
          ],
          "scatterpolar": [
           {
            "marker": {
             "colorbar": {
              "outlinewidth": 0,
              "ticks": ""
             }
            },
            "type": "scatterpolar"
           }
          ],
          "scatterpolargl": [
           {
            "marker": {
             "colorbar": {
              "outlinewidth": 0,
              "ticks": ""
             }
            },
            "type": "scatterpolargl"
           }
          ],
          "scatterternary": [
           {
            "marker": {
             "colorbar": {
              "outlinewidth": 0,
              "ticks": ""
             }
            },
            "type": "scatterternary"
           }
          ],
          "surface": [
           {
            "colorbar": {
             "outlinewidth": 0,
             "ticks": ""
            },
            "colorscale": [
             [
              0,
              "#0d0887"
             ],
             [
              0.1111111111111111,
              "#46039f"
             ],
             [
              0.2222222222222222,
              "#7201a8"
             ],
             [
              0.3333333333333333,
              "#9c179e"
             ],
             [
              0.4444444444444444,
              "#bd3786"
             ],
             [
              0.5555555555555556,
              "#d8576b"
             ],
             [
              0.6666666666666666,
              "#ed7953"
             ],
             [
              0.7777777777777778,
              "#fb9f3a"
             ],
             [
              0.8888888888888888,
              "#fdca26"
             ],
             [
              1,
              "#f0f921"
             ]
            ],
            "type": "surface"
           }
          ],
          "table": [
           {
            "cells": {
             "fill": {
              "color": "#EBF0F8"
             },
             "line": {
              "color": "white"
             }
            },
            "header": {
             "fill": {
              "color": "#C8D4E3"
             },
             "line": {
              "color": "white"
             }
            },
            "type": "table"
           }
          ]
         },
         "layout": {
          "annotationdefaults": {
           "arrowcolor": "#2a3f5f",
           "arrowhead": 0,
           "arrowwidth": 1
          },
          "coloraxis": {
           "colorbar": {
            "outlinewidth": 0,
            "ticks": ""
           }
          },
          "colorscale": {
           "diverging": [
            [
             0,
             "#8e0152"
            ],
            [
             0.1,
             "#c51b7d"
            ],
            [
             0.2,
             "#de77ae"
            ],
            [
             0.3,
             "#f1b6da"
            ],
            [
             0.4,
             "#fde0ef"
            ],
            [
             0.5,
             "#f7f7f7"
            ],
            [
             0.6,
             "#e6f5d0"
            ],
            [
             0.7,
             "#b8e186"
            ],
            [
             0.8,
             "#7fbc41"
            ],
            [
             0.9,
             "#4d9221"
            ],
            [
             1,
             "#276419"
            ]
           ],
           "sequential": [
            [
             0,
             "#0d0887"
            ],
            [
             0.1111111111111111,
             "#46039f"
            ],
            [
             0.2222222222222222,
             "#7201a8"
            ],
            [
             0.3333333333333333,
             "#9c179e"
            ],
            [
             0.4444444444444444,
             "#bd3786"
            ],
            [
             0.5555555555555556,
             "#d8576b"
            ],
            [
             0.6666666666666666,
             "#ed7953"
            ],
            [
             0.7777777777777778,
             "#fb9f3a"
            ],
            [
             0.8888888888888888,
             "#fdca26"
            ],
            [
             1,
             "#f0f921"
            ]
           ],
           "sequentialminus": [
            [
             0,
             "#0d0887"
            ],
            [
             0.1111111111111111,
             "#46039f"
            ],
            [
             0.2222222222222222,
             "#7201a8"
            ],
            [
             0.3333333333333333,
             "#9c179e"
            ],
            [
             0.4444444444444444,
             "#bd3786"
            ],
            [
             0.5555555555555556,
             "#d8576b"
            ],
            [
             0.6666666666666666,
             "#ed7953"
            ],
            [
             0.7777777777777778,
             "#fb9f3a"
            ],
            [
             0.8888888888888888,
             "#fdca26"
            ],
            [
             1,
             "#f0f921"
            ]
           ]
          },
          "colorway": [
           "#636efa",
           "#EF553B",
           "#00cc96",
           "#ab63fa",
           "#FFA15A",
           "#19d3f3",
           "#FF6692",
           "#B6E880",
           "#FF97FF",
           "#FECB52"
          ],
          "font": {
           "color": "#2a3f5f"
          },
          "geo": {
           "bgcolor": "white",
           "lakecolor": "white",
           "landcolor": "#E5ECF6",
           "showlakes": true,
           "showland": true,
           "subunitcolor": "white"
          },
          "hoverlabel": {
           "align": "left"
          },
          "hovermode": "closest",
          "mapbox": {
           "style": "light"
          },
          "paper_bgcolor": "white",
          "plot_bgcolor": "#E5ECF6",
          "polar": {
           "angularaxis": {
            "gridcolor": "white",
            "linecolor": "white",
            "ticks": ""
           },
           "bgcolor": "#E5ECF6",
           "radialaxis": {
            "gridcolor": "white",
            "linecolor": "white",
            "ticks": ""
           }
          },
          "scene": {
           "xaxis": {
            "backgroundcolor": "#E5ECF6",
            "gridcolor": "white",
            "gridwidth": 2,
            "linecolor": "white",
            "showbackground": true,
            "ticks": "",
            "zerolinecolor": "white"
           },
           "yaxis": {
            "backgroundcolor": "#E5ECF6",
            "gridcolor": "white",
            "gridwidth": 2,
            "linecolor": "white",
            "showbackground": true,
            "ticks": "",
            "zerolinecolor": "white"
           },
           "zaxis": {
            "backgroundcolor": "#E5ECF6",
            "gridcolor": "white",
            "gridwidth": 2,
            "linecolor": "white",
            "showbackground": true,
            "ticks": "",
            "zerolinecolor": "white"
           }
          },
          "shapedefaults": {
           "line": {
            "color": "#2a3f5f"
           }
          },
          "ternary": {
           "aaxis": {
            "gridcolor": "white",
            "linecolor": "white",
            "ticks": ""
           },
           "baxis": {
            "gridcolor": "white",
            "linecolor": "white",
            "ticks": ""
           },
           "bgcolor": "#E5ECF6",
           "caxis": {
            "gridcolor": "white",
            "linecolor": "white",
            "ticks": ""
           }
          },
          "title": {
           "x": 0.05
          },
          "xaxis": {
           "automargin": true,
           "gridcolor": "white",
           "linecolor": "white",
           "ticks": "",
           "title": {
            "standoff": 15
           },
           "zerolinecolor": "white",
           "zerolinewidth": 2
          },
          "yaxis": {
           "automargin": true,
           "gridcolor": "white",
           "linecolor": "white",
           "ticks": "",
           "title": {
            "standoff": 15
           },
           "zerolinecolor": "white",
           "zerolinewidth": 2
          }
         }
        }
       }
      }
     },
     "metadata": {}
    }
   ],
   "source": [
    "import plotly.graph_objects as go\n",
    "\n",
    "fig = go.Figure()\n",
    "\n",
    "fig.update_layout(\n",
    "    mapbox = {\n",
    "        'style': \"stamen-toner\",\n",
    "        'center': { 'lat': 47.60636771204824, 'lon': -122.33452897024857},\n",
    "        'zoom': 10, 'layers': [{\n",
    "            'source': {\n",
    "                'type': \"FeatureCollection\",\n",
    "                'features': [{\n",
    "                    'type': \"Map\",\n",
    "                    'geometry': {\n",
    "                        'type': \"MultiPolygon\",\n",
    "                        'coordinates': [[[\n",
    "                           [-122.376336564723,47.6759176989664], [-122.376519722058,47.6760527482053],\n",
    "                           [-122.376547112434,47.6760693435982], [-122.376573006221,47.6760868163511],\n",
    "                           [-122.37659791092,47.6761051588887 ], [-122.376620811506,47.6761243856628],\n",
    "                           [-122.376653693551,47.6761550023704], [-122.376672575492,47.6761756116819],\n",
    "                           [-122.376690473449,47.6761972626929], [-122.376706358898,47.6762194979699], \n",
    "                           [-122.376721246367,47.6762423037704], [-122.376733608705,47.6762655291531],\n",
    "                           [-122.376744969247,47.6762891966531], [-122.376753802121,47.6763131984825],\n",
    "                           [-122.376761120573,47.6763374777451], [-122.37676692258,47.6763619488292 ],\n",
    "                           [-122.376770700102,47.6763866189683], [-122.376772451106,47.6764114022001],\n",
    "                           [-122.376772171763,47.6764361697665], [-122.376761985459,47.676862137338 ],\n",
    "                           [-122.376759750881,47.6775387646826], [-122.376769882216,47.6780678404081],\n",
    "                           [-122.376770065639,47.6792017979916], [-122.376770442503,47.680154307228 ],\n",
    "                           [-122.376767820487,47.6811938310584], [-122.376777423242,47.6822860591882],\n",
    "                           [-122.376787310842,47.6833707854178], [-122.376780535885,47.6842704786057],\n",
    "                           [-122.376785260609,47.6851813698577], [-122.376784403749,47.6860923366759],\n",
    "                           [-122.376800402808,47.6870068457338], [-122.376794751014,47.6879443550321],\n",
    "                           [-122.376803067488,47.688976146724 ], [-122.376810989127,47.6900117143006],\n",
    "                           [-122.376810264834,47.6905341242701], [-122.376810344766,47.6906051591463],\n",
    "                           [-122.377117910432,47.6906029639028], [-122.379103841332,47.6906041929746],\n",
    "                           [-122.379876313408,47.6905988541749], [-122.381453020656,47.6905978829044],\n",
    "                           [-122.383201215024,47.6905936585447], [-122.383275316007,47.690593164597 ],\n",
    "                           [-122.385832831602,47.6905766041982], [-122.388192979124,47.6905805029145],\n",
    "                           [-122.390347910813,47.6905631204492], [-122.392432373275,47.6905826938111],\n",
    "                           [-122.393002415356,47.6905813205566], [-122.393010665051,47.6902980913372],\n",
    "                           [-122.393046187318,47.6889956475812], [-122.393032746621,47.687668638629 ],\n",
    "                           [-122.393030577589,47.6863450742964], [-122.393022827056,47.685021586284 ],\n",
    "                           [-122.393016158048,47.6837341155494], [-122.393014530791,47.6824285808909],\n",
    "                           [-122.39300195772,47.6811303942788 ], [-122.392983771129,47.6798142464259],\n",
    "                           [-122.392975009807,47.6792517755972], [-122.392971502986,47.6781034200237],\n",
    "                           [-122.392961263359,47.6775085790216], [-122.392959618409,47.676929558447 ],\n",
    "                           [-122.392956303464,47.6763287099834], [-122.392956550545,47.6759141859541],\n",
    "                           [-122.392827172066,47.6759153143353], [-122.391773109273,47.6759158131504],\n",
    "                           [-122.390449346263,47.6759259868868], [-122.388955759168,47.6759424488678],\n",
    "                           [-122.387702391216,47.6759476875929], [-122.387087434206,47.6759521343769],\n",
    "                           [-122.385435721425,47.6759587956618], [-122.383602752477,47.675979810424 ],\n",
    "                           [-122.38182788443,47.675992079457  ], [-122.379988625303,47.6759893429385],\n",
    "                           [-122.377903057631,47.6759978849021], [-122.376707907517,47.6759982290459],\n",
    "                           [-122.376336564723,47.6759176989664]\n",
    "                        ]]]\n",
    "                    }\n",
    "                }]\n",
    "            },\n",
    "            'type': \"fill\", 'below': \"traces\", 'color': 'purple'}]},\n",
    "    margin = {'l':0, 'r':0, 'b':0, 't':0})\n",
    "\n",
    "fig.show()"
   ]
  },
  {
   "cell_type": "code",
   "execution_count": null,
   "metadata": {},
   "outputs": [],
   "source": []
  }
 ]
}